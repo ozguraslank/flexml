{
 "cells": [
  {
   "cell_type": "markdown",
   "metadata": {},
   "source": [
    "### **FlexML:** Classification Experiment with Breast Canser Prediction Dataset"
   ]
  },
  {
   "cell_type": "code",
   "execution_count": 1,
   "metadata": {},
   "outputs": [],
   "source": [
    "from flexml import Classification\n",
    "from sklearn.datasets import load_breast_cancer"
   ]
  },
  {
   "cell_type": "code",
   "execution_count": 2,
   "metadata": {},
   "outputs": [
    {
     "data": {
      "text/html": [
       "<div>\n",
       "<style scoped>\n",
       "    .dataframe tbody tr th:only-of-type {\n",
       "        vertical-align: middle;\n",
       "    }\n",
       "\n",
       "    .dataframe tbody tr th {\n",
       "        vertical-align: top;\n",
       "    }\n",
       "\n",
       "    .dataframe thead th {\n",
       "        text-align: right;\n",
       "    }\n",
       "</style>\n",
       "<table border=\"1\" class=\"dataframe\">\n",
       "  <thead>\n",
       "    <tr style=\"text-align: right;\">\n",
       "      <th></th>\n",
       "      <th>mean radius</th>\n",
       "      <th>mean texture</th>\n",
       "      <th>mean perimeter</th>\n",
       "      <th>mean area</th>\n",
       "      <th>mean smoothness</th>\n",
       "      <th>mean compactness</th>\n",
       "      <th>mean concavity</th>\n",
       "      <th>mean concave points</th>\n",
       "      <th>mean symmetry</th>\n",
       "      <th>mean fractal dimension</th>\n",
       "      <th>radius error</th>\n",
       "      <th>texture error</th>\n",
       "      <th>perimeter error</th>\n",
       "      <th>area error</th>\n",
       "      <th>smoothness error</th>\n",
       "      <th>compactness error</th>\n",
       "      <th>concavity error</th>\n",
       "      <th>concave points error</th>\n",
       "      <th>symmetry error</th>\n",
       "      <th>fractal dimension error</th>\n",
       "      <th>worst radius</th>\n",
       "      <th>worst texture</th>\n",
       "      <th>worst perimeter</th>\n",
       "      <th>worst area</th>\n",
       "      <th>worst smoothness</th>\n",
       "      <th>worst compactness</th>\n",
       "      <th>worst concavity</th>\n",
       "      <th>worst concave points</th>\n",
       "      <th>worst symmetry</th>\n",
       "      <th>worst fractal dimension</th>\n",
       "      <th>target</th>\n",
       "    </tr>\n",
       "  </thead>\n",
       "  <tbody>\n",
       "    <tr>\n",
       "      <th>0</th>\n",
       "      <td>17.99</td>\n",
       "      <td>10.38</td>\n",
       "      <td>122.80</td>\n",
       "      <td>1001.0</td>\n",
       "      <td>0.11840</td>\n",
       "      <td>0.27760</td>\n",
       "      <td>0.3001</td>\n",
       "      <td>0.14710</td>\n",
       "      <td>0.2419</td>\n",
       "      <td>0.07871</td>\n",
       "      <td>1.0950</td>\n",
       "      <td>0.9053</td>\n",
       "      <td>8.589</td>\n",
       "      <td>153.40</td>\n",
       "      <td>0.006399</td>\n",
       "      <td>0.04904</td>\n",
       "      <td>0.05373</td>\n",
       "      <td>0.01587</td>\n",
       "      <td>0.03003</td>\n",
       "      <td>0.006193</td>\n",
       "      <td>25.38</td>\n",
       "      <td>17.33</td>\n",
       "      <td>184.60</td>\n",
       "      <td>2019.0</td>\n",
       "      <td>0.1622</td>\n",
       "      <td>0.6656</td>\n",
       "      <td>0.7119</td>\n",
       "      <td>0.2654</td>\n",
       "      <td>0.4601</td>\n",
       "      <td>0.11890</td>\n",
       "      <td>0</td>\n",
       "    </tr>\n",
       "    <tr>\n",
       "      <th>1</th>\n",
       "      <td>20.57</td>\n",
       "      <td>17.77</td>\n",
       "      <td>132.90</td>\n",
       "      <td>1326.0</td>\n",
       "      <td>0.08474</td>\n",
       "      <td>0.07864</td>\n",
       "      <td>0.0869</td>\n",
       "      <td>0.07017</td>\n",
       "      <td>0.1812</td>\n",
       "      <td>0.05667</td>\n",
       "      <td>0.5435</td>\n",
       "      <td>0.7339</td>\n",
       "      <td>3.398</td>\n",
       "      <td>74.08</td>\n",
       "      <td>0.005225</td>\n",
       "      <td>0.01308</td>\n",
       "      <td>0.01860</td>\n",
       "      <td>0.01340</td>\n",
       "      <td>0.01389</td>\n",
       "      <td>0.003532</td>\n",
       "      <td>24.99</td>\n",
       "      <td>23.41</td>\n",
       "      <td>158.80</td>\n",
       "      <td>1956.0</td>\n",
       "      <td>0.1238</td>\n",
       "      <td>0.1866</td>\n",
       "      <td>0.2416</td>\n",
       "      <td>0.1860</td>\n",
       "      <td>0.2750</td>\n",
       "      <td>0.08902</td>\n",
       "      <td>0</td>\n",
       "    </tr>\n",
       "    <tr>\n",
       "      <th>2</th>\n",
       "      <td>19.69</td>\n",
       "      <td>21.25</td>\n",
       "      <td>130.00</td>\n",
       "      <td>1203.0</td>\n",
       "      <td>0.10960</td>\n",
       "      <td>0.15990</td>\n",
       "      <td>0.1974</td>\n",
       "      <td>0.12790</td>\n",
       "      <td>0.2069</td>\n",
       "      <td>0.05999</td>\n",
       "      <td>0.7456</td>\n",
       "      <td>0.7869</td>\n",
       "      <td>4.585</td>\n",
       "      <td>94.03</td>\n",
       "      <td>0.006150</td>\n",
       "      <td>0.04006</td>\n",
       "      <td>0.03832</td>\n",
       "      <td>0.02058</td>\n",
       "      <td>0.02250</td>\n",
       "      <td>0.004571</td>\n",
       "      <td>23.57</td>\n",
       "      <td>25.53</td>\n",
       "      <td>152.50</td>\n",
       "      <td>1709.0</td>\n",
       "      <td>0.1444</td>\n",
       "      <td>0.4245</td>\n",
       "      <td>0.4504</td>\n",
       "      <td>0.2430</td>\n",
       "      <td>0.3613</td>\n",
       "      <td>0.08758</td>\n",
       "      <td>0</td>\n",
       "    </tr>\n",
       "    <tr>\n",
       "      <th>3</th>\n",
       "      <td>11.42</td>\n",
       "      <td>20.38</td>\n",
       "      <td>77.58</td>\n",
       "      <td>386.1</td>\n",
       "      <td>0.14250</td>\n",
       "      <td>0.28390</td>\n",
       "      <td>0.2414</td>\n",
       "      <td>0.10520</td>\n",
       "      <td>0.2597</td>\n",
       "      <td>0.09744</td>\n",
       "      <td>0.4956</td>\n",
       "      <td>1.1560</td>\n",
       "      <td>3.445</td>\n",
       "      <td>27.23</td>\n",
       "      <td>0.009110</td>\n",
       "      <td>0.07458</td>\n",
       "      <td>0.05661</td>\n",
       "      <td>0.01867</td>\n",
       "      <td>0.05963</td>\n",
       "      <td>0.009208</td>\n",
       "      <td>14.91</td>\n",
       "      <td>26.50</td>\n",
       "      <td>98.87</td>\n",
       "      <td>567.7</td>\n",
       "      <td>0.2098</td>\n",
       "      <td>0.8663</td>\n",
       "      <td>0.6869</td>\n",
       "      <td>0.2575</td>\n",
       "      <td>0.6638</td>\n",
       "      <td>0.17300</td>\n",
       "      <td>0</td>\n",
       "    </tr>\n",
       "    <tr>\n",
       "      <th>4</th>\n",
       "      <td>20.29</td>\n",
       "      <td>14.34</td>\n",
       "      <td>135.10</td>\n",
       "      <td>1297.0</td>\n",
       "      <td>0.10030</td>\n",
       "      <td>0.13280</td>\n",
       "      <td>0.1980</td>\n",
       "      <td>0.10430</td>\n",
       "      <td>0.1809</td>\n",
       "      <td>0.05883</td>\n",
       "      <td>0.7572</td>\n",
       "      <td>0.7813</td>\n",
       "      <td>5.438</td>\n",
       "      <td>94.44</td>\n",
       "      <td>0.011490</td>\n",
       "      <td>0.02461</td>\n",
       "      <td>0.05688</td>\n",
       "      <td>0.01885</td>\n",
       "      <td>0.01756</td>\n",
       "      <td>0.005115</td>\n",
       "      <td>22.54</td>\n",
       "      <td>16.67</td>\n",
       "      <td>152.20</td>\n",
       "      <td>1575.0</td>\n",
       "      <td>0.1374</td>\n",
       "      <td>0.2050</td>\n",
       "      <td>0.4000</td>\n",
       "      <td>0.1625</td>\n",
       "      <td>0.2364</td>\n",
       "      <td>0.07678</td>\n",
       "      <td>0</td>\n",
       "    </tr>\n",
       "  </tbody>\n",
       "</table>\n",
       "</div>"
      ],
      "text/plain": [
       "   mean radius  mean texture  mean perimeter  mean area  mean smoothness  \\\n",
       "0        17.99         10.38          122.80     1001.0          0.11840   \n",
       "1        20.57         17.77          132.90     1326.0          0.08474   \n",
       "2        19.69         21.25          130.00     1203.0          0.10960   \n",
       "3        11.42         20.38           77.58      386.1          0.14250   \n",
       "4        20.29         14.34          135.10     1297.0          0.10030   \n",
       "\n",
       "   mean compactness  mean concavity  mean concave points  mean symmetry  \\\n",
       "0           0.27760          0.3001              0.14710         0.2419   \n",
       "1           0.07864          0.0869              0.07017         0.1812   \n",
       "2           0.15990          0.1974              0.12790         0.2069   \n",
       "3           0.28390          0.2414              0.10520         0.2597   \n",
       "4           0.13280          0.1980              0.10430         0.1809   \n",
       "\n",
       "   mean fractal dimension  radius error  texture error  perimeter error  \\\n",
       "0                 0.07871        1.0950         0.9053            8.589   \n",
       "1                 0.05667        0.5435         0.7339            3.398   \n",
       "2                 0.05999        0.7456         0.7869            4.585   \n",
       "3                 0.09744        0.4956         1.1560            3.445   \n",
       "4                 0.05883        0.7572         0.7813            5.438   \n",
       "\n",
       "   area error  smoothness error  compactness error  concavity error  \\\n",
       "0      153.40          0.006399            0.04904          0.05373   \n",
       "1       74.08          0.005225            0.01308          0.01860   \n",
       "2       94.03          0.006150            0.04006          0.03832   \n",
       "3       27.23          0.009110            0.07458          0.05661   \n",
       "4       94.44          0.011490            0.02461          0.05688   \n",
       "\n",
       "   concave points error  symmetry error  fractal dimension error  \\\n",
       "0               0.01587         0.03003                 0.006193   \n",
       "1               0.01340         0.01389                 0.003532   \n",
       "2               0.02058         0.02250                 0.004571   \n",
       "3               0.01867         0.05963                 0.009208   \n",
       "4               0.01885         0.01756                 0.005115   \n",
       "\n",
       "   worst radius  worst texture  worst perimeter  worst area  worst smoothness  \\\n",
       "0         25.38          17.33           184.60      2019.0            0.1622   \n",
       "1         24.99          23.41           158.80      1956.0            0.1238   \n",
       "2         23.57          25.53           152.50      1709.0            0.1444   \n",
       "3         14.91          26.50            98.87       567.7            0.2098   \n",
       "4         22.54          16.67           152.20      1575.0            0.1374   \n",
       "\n",
       "   worst compactness  worst concavity  worst concave points  worst symmetry  \\\n",
       "0             0.6656           0.7119                0.2654          0.4601   \n",
       "1             0.1866           0.2416                0.1860          0.2750   \n",
       "2             0.4245           0.4504                0.2430          0.3613   \n",
       "3             0.8663           0.6869                0.2575          0.6638   \n",
       "4             0.2050           0.4000                0.1625          0.2364   \n",
       "\n",
       "   worst fractal dimension  target  \n",
       "0                  0.11890       0  \n",
       "1                  0.08902       0  \n",
       "2                  0.08758       0  \n",
       "3                  0.17300       0  \n",
       "4                  0.07678       0  "
      ]
     },
     "execution_count": 2,
     "metadata": {},
     "output_type": "execute_result"
    }
   ],
   "source": [
    "df = load_breast_cancer(as_frame = True)['frame']\n",
    "df.head()"
   ]
  },
  {
   "cell_type": "code",
   "execution_count": 3,
   "metadata": {},
   "outputs": [
    {
     "data": {
      "text/html": [
       "<pre style=\"white-space:pre;overflow-x:auto;line-height:normal;font-family:Menlo,'DejaVu Sans Mono',consolas,'Courier New',monospace\">┏━━━━━━━━━━━━━━━━━━━━━━━━━━━━━━━━┳━━━━━━━━━━━━━━━━┓\n",
       "┃<span style=\"color: #800080; text-decoration-color: #800080; font-weight: bold\"> Attribute                      </span>┃<span style=\"color: #800080; text-decoration-color: #800080; font-weight: bold\"> Value          </span>┃\n",
       "┡━━━━━━━━━━━━━━━━━━━━━━━━━━━━━━━━╇━━━━━━━━━━━━━━━━┩\n",
       "│<span style=\"color: #7f7f7f; text-decoration-color: #7f7f7f\"> Data Shape                     </span>│ (569, 31)      │\n",
       "│<span style=\"color: #7f7f7f; text-decoration-color: #7f7f7f\"> Target Column                  </span>│ target         │\n",
       "│<span style=\"color: #7f7f7f; text-decoration-color: #7f7f7f\"> Random State                   </span>│ 42             │\n",
       "│<span style=\"color: #7f7f7f; text-decoration-color: #7f7f7f\"> Categorical Imputation         </span>│ mode           │\n",
       "│<span style=\"color: #7f7f7f; text-decoration-color: #7f7f7f\"> Numerical Imputation           </span>│ mean           │\n",
       "│<span style=\"color: #7f7f7f; text-decoration-color: #7f7f7f\"> Categorical Imputation Const   </span>│ Unknown        │\n",
       "│<span style=\"color: #7f7f7f; text-decoration-color: #7f7f7f\"> Numerical Imputation Const     </span>│ 0.0            │\n",
       "│<span style=\"color: #7f7f7f; text-decoration-color: #7f7f7f\"> Encoding Method                </span>│ onehot_encoder │\n",
       "│<span style=\"color: #7f7f7f; text-decoration-color: #7f7f7f\"> One-Hot Limit                  </span>│ 25             │\n",
       "│<span style=\"color: #7f7f7f; text-decoration-color: #7f7f7f\"> Normalize                      </span>│ None           │\n",
       "│<span style=\"color: #7f7f7f; text-decoration-color: #7f7f7f\"> Shuffle                        </span>│ True           │\n",
       "│<span style=\"color: #7f7f7f; text-decoration-color: #7f7f7f\"> Logging to File                </span>│ False          │\n",
       "└────────────────────────────────┴────────────────┘\n",
       "</pre>\n"
      ],
      "text/plain": [
       "┏━━━━━━━━━━━━━━━━━━━━━━━━━━━━━━━━┳━━━━━━━━━━━━━━━━┓\n",
       "┃\u001b[1;35m \u001b[0m\u001b[1;35mAttribute                     \u001b[0m\u001b[1;35m \u001b[0m┃\u001b[1;35m \u001b[0m\u001b[1;35mValue         \u001b[0m\u001b[1;35m \u001b[0m┃\n",
       "┡━━━━━━━━━━━━━━━━━━━━━━━━━━━━━━━━╇━━━━━━━━━━━━━━━━┩\n",
       "│\u001b[2m \u001b[0m\u001b[2mData Shape                    \u001b[0m\u001b[2m \u001b[0m│ (569, 31)      │\n",
       "│\u001b[2m \u001b[0m\u001b[2mTarget Column                 \u001b[0m\u001b[2m \u001b[0m│ target         │\n",
       "│\u001b[2m \u001b[0m\u001b[2mRandom State                  \u001b[0m\u001b[2m \u001b[0m│ 42             │\n",
       "│\u001b[2m \u001b[0m\u001b[2mCategorical Imputation        \u001b[0m\u001b[2m \u001b[0m│ mode           │\n",
       "│\u001b[2m \u001b[0m\u001b[2mNumerical Imputation          \u001b[0m\u001b[2m \u001b[0m│ mean           │\n",
       "│\u001b[2m \u001b[0m\u001b[2mCategorical Imputation Const  \u001b[0m\u001b[2m \u001b[0m│ Unknown        │\n",
       "│\u001b[2m \u001b[0m\u001b[2mNumerical Imputation Const    \u001b[0m\u001b[2m \u001b[0m│ 0.0            │\n",
       "│\u001b[2m \u001b[0m\u001b[2mEncoding Method               \u001b[0m\u001b[2m \u001b[0m│ onehot_encoder │\n",
       "│\u001b[2m \u001b[0m\u001b[2mOne-Hot Limit                 \u001b[0m\u001b[2m \u001b[0m│ 25             │\n",
       "│\u001b[2m \u001b[0m\u001b[2mNormalize                     \u001b[0m\u001b[2m \u001b[0m│ None           │\n",
       "│\u001b[2m \u001b[0m\u001b[2mShuffle                       \u001b[0m\u001b[2m \u001b[0m│ True           │\n",
       "│\u001b[2m \u001b[0m\u001b[2mLogging to File               \u001b[0m\u001b[2m \u001b[0m│ False          │\n",
       "└────────────────────────────────┴────────────────┘\n"
      ]
     },
     "metadata": {},
     "output_type": "display_data"
    },
    {
     "name": "stderr",
     "output_type": "stream",
     "text": [
      "INFO | 2025-04-06 14:10:56 | [PROCESS] Training the ML models with stratified_kfold validation\n",
      "INFO | Training Progress:  | ██████████ | 100%\n",
      "INFO | 2025-04-06 14:11:09 | [PROCESS] Model training is finished!\n"
     ]
    },
    {
     "data": {
      "text/html": [
       "<style type=\"text/css\">\n",
       "#T_15c75_row0_col1, #T_15c75_row0_col3, #T_15c75_row0_col4, #T_15c75_row1_col2, #T_15c75_row1_col5 {\n",
       "  background-color: green;\n",
       "}\n",
       "</style>\n",
       "<table id=\"T_15c75\">\n",
       "  <thead>\n",
       "    <tr>\n",
       "      <th class=\"blank level0\" >&nbsp;</th>\n",
       "      <th id=\"T_15c75_level0_col0\" class=\"col_heading level0 col0\" >Model Name</th>\n",
       "      <th id=\"T_15c75_level0_col1\" class=\"col_heading level0 col1\" >Accuracy</th>\n",
       "      <th id=\"T_15c75_level0_col2\" class=\"col_heading level0 col2\" >Precision</th>\n",
       "      <th id=\"T_15c75_level0_col3\" class=\"col_heading level0 col3\" >Recall</th>\n",
       "      <th id=\"T_15c75_level0_col4\" class=\"col_heading level0 col4\" >F1 Score</th>\n",
       "      <th id=\"T_15c75_level0_col5\" class=\"col_heading level0 col5\" >ROC-AUC</th>\n",
       "      <th id=\"T_15c75_level0_col6\" class=\"col_heading level0 col6\" >Time (sec)</th>\n",
       "    </tr>\n",
       "  </thead>\n",
       "  <tbody>\n",
       "    <tr>\n",
       "      <th id=\"T_15c75_level0_row0\" class=\"row_heading level0 row0\" >1</th>\n",
       "      <td id=\"T_15c75_row0_col0\" class=\"data row0 col0\" >LGBMClassifier</td>\n",
       "      <td id=\"T_15c75_row0_col1\" class=\"data row0 col1\" >0.966635</td>\n",
       "      <td id=\"T_15c75_row0_col2\" class=\"data row0 col2\" >0.964846</td>\n",
       "      <td id=\"T_15c75_row0_col3\" class=\"data row0 col3\" >0.983216</td>\n",
       "      <td id=\"T_15c75_row0_col4\" class=\"data row0 col4\" >0.973749</td>\n",
       "      <td id=\"T_15c75_row0_col5\" class=\"data row0 col5\" >0.992537</td>\n",
       "      <td id=\"T_15c75_row0_col6\" class=\"data row0 col6\" >1.47</td>\n",
       "    </tr>\n",
       "    <tr>\n",
       "      <th id=\"T_15c75_level0_row1\" class=\"row_heading level0 row1\" >2</th>\n",
       "      <td id=\"T_15c75_row1_col0\" class=\"data row1 col0\" >CatBoostClassifier</td>\n",
       "      <td id=\"T_15c75_row1_col1\" class=\"data row1 col1\" >0.964865</td>\n",
       "      <td id=\"T_15c75_row1_col2\" class=\"data row1 col2\" >0.970146</td>\n",
       "      <td id=\"T_15c75_row1_col3\" class=\"data row1 col3\" >0.974843</td>\n",
       "      <td id=\"T_15c75_row1_col4\" class=\"data row1 col4\" >0.972136</td>\n",
       "      <td id=\"T_15c75_row1_col5\" class=\"data row1 col5\" >0.994718</td>\n",
       "      <td id=\"T_15c75_row1_col6\" class=\"data row1 col6\" >6.74</td>\n",
       "    </tr>\n",
       "    <tr>\n",
       "      <th id=\"T_15c75_level0_row2\" class=\"row_heading level0 row2\" >3</th>\n",
       "      <td id=\"T_15c75_row2_col0\" class=\"data row2 col0\" >RandomForestClassifier</td>\n",
       "      <td id=\"T_15c75_row2_col1\" class=\"data row2 col1\" >0.956093</td>\n",
       "      <td id=\"T_15c75_row2_col2\" class=\"data row2 col2\" >0.965090</td>\n",
       "      <td id=\"T_15c75_row2_col3\" class=\"data row2 col3\" >0.966471</td>\n",
       "      <td id=\"T_15c75_row2_col4\" class=\"data row2 col4\" >0.965068</td>\n",
       "      <td id=\"T_15c75_row2_col5\" class=\"data row2 col5\" >0.988549</td>\n",
       "      <td id=\"T_15c75_row2_col6\" class=\"data row2 col6\" >0.38</td>\n",
       "    </tr>\n",
       "    <tr>\n",
       "      <th id=\"T_15c75_level0_row3\" class=\"row_heading level0 row3\" >4</th>\n",
       "      <td id=\"T_15c75_row3_col0\" class=\"data row3 col0\" >XGBClassifier</td>\n",
       "      <td id=\"T_15c75_row3_col1\" class=\"data row3 col1\" >0.956047</td>\n",
       "      <td id=\"T_15c75_row3_col2\" class=\"data row3 col2\" >0.962769</td>\n",
       "      <td id=\"T_15c75_row3_col3\" class=\"data row3 col3\" >0.969249</td>\n",
       "      <td id=\"T_15c75_row3_col4\" class=\"data row3 col4\" >0.965267</td>\n",
       "      <td id=\"T_15c75_row3_col5\" class=\"data row3 col5\" >0.993713</td>\n",
       "      <td id=\"T_15c75_row3_col6\" class=\"data row3 col6\" >0.66</td>\n",
       "    </tr>\n",
       "    <tr>\n",
       "      <th id=\"T_15c75_level0_row4\" class=\"row_heading level0 row4\" >5</th>\n",
       "      <td id=\"T_15c75_row4_col0\" class=\"data row4 col0\" >LogisticRegression</td>\n",
       "      <td id=\"T_15c75_row4_col1\" class=\"data row4 col1\" >0.950830</td>\n",
       "      <td id=\"T_15c75_row4_col2\" class=\"data row4 col2\" >0.951552</td>\n",
       "      <td id=\"T_15c75_row4_col3\" class=\"data row4 col3\" >0.971987</td>\n",
       "      <td id=\"T_15c75_row4_col4\" class=\"data row4 col4\" >0.961227</td>\n",
       "      <td id=\"T_15c75_row4_col5\" class=\"data row4 col5\" >0.992230</td>\n",
       "      <td id=\"T_15c75_row4_col6\" class=\"data row4 col6\" >3.75</td>\n",
       "    </tr>\n",
       "    <tr>\n",
       "      <th id=\"T_15c75_level0_row5\" class=\"row_heading level0 row5\" >6</th>\n",
       "      <td id=\"T_15c75_row5_col0\" class=\"data row5 col0\" >GaussianNB</td>\n",
       "      <td id=\"T_15c75_row5_col1\" class=\"data row5 col1\" >0.938535</td>\n",
       "      <td id=\"T_15c75_row5_col2\" class=\"data row5 col2\" >0.936765</td>\n",
       "      <td id=\"T_15c75_row5_col3\" class=\"data row5 col3\" >0.969249</td>\n",
       "      <td id=\"T_15c75_row5_col4\" class=\"data row5 col4\" >0.951966</td>\n",
       "      <td id=\"T_15c75_row5_col5\" class=\"data row5 col5\" >0.988715</td>\n",
       "      <td id=\"T_15c75_row5_col6\" class=\"data row5 col6\" >0.00</td>\n",
       "    </tr>\n",
       "    <tr>\n",
       "      <th id=\"T_15c75_level0_row6\" class=\"row_heading level0 row6\" >7</th>\n",
       "      <td id=\"T_15c75_row6_col0\" class=\"data row6 col0\" >KNeighborsClassifier</td>\n",
       "      <td id=\"T_15c75_row6_col1\" class=\"data row6 col1\" >0.935010</td>\n",
       "      <td id=\"T_15c75_row6_col2\" class=\"data row6 col2\" >0.938657</td>\n",
       "      <td id=\"T_15c75_row6_col3\" class=\"data row6 col3\" >0.960837</td>\n",
       "      <td id=\"T_15c75_row6_col4\" class=\"data row6 col4\" >0.948952</td>\n",
       "      <td id=\"T_15c75_row6_col5\" class=\"data row6 col5\" >0.965548</td>\n",
       "      <td id=\"T_15c75_row6_col6\" class=\"data row6 col6\" >0.00</td>\n",
       "    </tr>\n",
       "    <tr>\n",
       "      <th id=\"T_15c75_level0_row7\" class=\"row_heading level0 row7\" >8</th>\n",
       "      <td id=\"T_15c75_row7_col0\" class=\"data row7 col0\" >DecisionTreeClassifier</td>\n",
       "      <td id=\"T_15c75_row7_col1\" class=\"data row7 col1\" >0.910402</td>\n",
       "      <td id=\"T_15c75_row7_col2\" class=\"data row7 col2\" >0.919698</td>\n",
       "      <td id=\"T_15c75_row7_col3\" class=\"data row7 col3\" >0.941236</td>\n",
       "      <td id=\"T_15c75_row7_col4\" class=\"data row7 col4\" >0.929871</td>\n",
       "      <td id=\"T_15c75_row7_col5\" class=\"data row7 col5\" >0.900020</td>\n",
       "      <td id=\"T_15c75_row7_col6\" class=\"data row7 col6\" >0.03</td>\n",
       "    </tr>\n",
       "  </tbody>\n",
       "</table>\n"
      ],
      "text/plain": [
       "<pandas.io.formats.style.Styler at 0x175c76850>"
      ]
     },
     "metadata": {},
     "output_type": "display_data"
    }
   ],
   "source": [
    "class_exp = Classification(data=df, target_col=\"target\") # Configure your feature engineering pipeline here\n",
    "class_exp.start_experiment(experiment_size=\"quick\") # Configure your experiment size and cross validation strategy here\n",
    "# quick (default) (uses almost half amount of the available ml models), wide (Uses all available ml models)"
   ]
  },
  {
   "cell_type": "code",
   "execution_count": 4,
   "metadata": {},
   "outputs": [
    {
     "data": {
      "text/html": [
       "<style type=\"text/css\">\n",
       "#T_17703_row0_col2, #T_17703_row0_col5, #T_17703_row2_col1, #T_17703_row2_col3, #T_17703_row2_col4 {\n",
       "  background-color: green;\n",
       "}\n",
       "</style>\n",
       "<table id=\"T_17703\">\n",
       "  <thead>\n",
       "    <tr>\n",
       "      <th class=\"blank level0\" >&nbsp;</th>\n",
       "      <th id=\"T_17703_level0_col0\" class=\"col_heading level0 col0\" >Model Name</th>\n",
       "      <th id=\"T_17703_level0_col1\" class=\"col_heading level0 col1\" >Accuracy</th>\n",
       "      <th id=\"T_17703_level0_col2\" class=\"col_heading level0 col2\" >Precision</th>\n",
       "      <th id=\"T_17703_level0_col3\" class=\"col_heading level0 col3\" >Recall</th>\n",
       "      <th id=\"T_17703_level0_col4\" class=\"col_heading level0 col4\" >F1 Score</th>\n",
       "      <th id=\"T_17703_level0_col5\" class=\"col_heading level0 col5\" >ROC-AUC</th>\n",
       "      <th id=\"T_17703_level0_col6\" class=\"col_heading level0 col6\" >Time (sec)</th>\n",
       "    </tr>\n",
       "  </thead>\n",
       "  <tbody>\n",
       "    <tr>\n",
       "      <th id=\"T_17703_level0_row0\" class=\"row_heading level0 row0\" >1</th>\n",
       "      <td id=\"T_17703_row0_col0\" class=\"data row0 col0\" >CatBoostClassifier</td>\n",
       "      <td id=\"T_17703_row0_col1\" class=\"data row0 col1\" >0.964865</td>\n",
       "      <td id=\"T_17703_row0_col2\" class=\"data row0 col2\" >0.970146</td>\n",
       "      <td id=\"T_17703_row0_col3\" class=\"data row0 col3\" >0.974843</td>\n",
       "      <td id=\"T_17703_row0_col4\" class=\"data row0 col4\" >0.972136</td>\n",
       "      <td id=\"T_17703_row0_col5\" class=\"data row0 col5\" >0.994718</td>\n",
       "      <td id=\"T_17703_row0_col6\" class=\"data row0 col6\" >6.74</td>\n",
       "    </tr>\n",
       "    <tr>\n",
       "      <th id=\"T_17703_level0_row1\" class=\"row_heading level0 row1\" >2</th>\n",
       "      <td id=\"T_17703_row1_col0\" class=\"data row1 col0\" >RandomForestClassifier</td>\n",
       "      <td id=\"T_17703_row1_col1\" class=\"data row1 col1\" >0.956093</td>\n",
       "      <td id=\"T_17703_row1_col2\" class=\"data row1 col2\" >0.965090</td>\n",
       "      <td id=\"T_17703_row1_col3\" class=\"data row1 col3\" >0.966471</td>\n",
       "      <td id=\"T_17703_row1_col4\" class=\"data row1 col4\" >0.965068</td>\n",
       "      <td id=\"T_17703_row1_col5\" class=\"data row1 col5\" >0.988549</td>\n",
       "      <td id=\"T_17703_row1_col6\" class=\"data row1 col6\" >0.38</td>\n",
       "    </tr>\n",
       "    <tr>\n",
       "      <th id=\"T_17703_level0_row2\" class=\"row_heading level0 row2\" >3</th>\n",
       "      <td id=\"T_17703_row2_col0\" class=\"data row2 col0\" >LGBMClassifier</td>\n",
       "      <td id=\"T_17703_row2_col1\" class=\"data row2 col1\" >0.966635</td>\n",
       "      <td id=\"T_17703_row2_col2\" class=\"data row2 col2\" >0.964846</td>\n",
       "      <td id=\"T_17703_row2_col3\" class=\"data row2 col3\" >0.983216</td>\n",
       "      <td id=\"T_17703_row2_col4\" class=\"data row2 col4\" >0.973749</td>\n",
       "      <td id=\"T_17703_row2_col5\" class=\"data row2 col5\" >0.992537</td>\n",
       "      <td id=\"T_17703_row2_col6\" class=\"data row2 col6\" >1.47</td>\n",
       "    </tr>\n",
       "    <tr>\n",
       "      <th id=\"T_17703_level0_row3\" class=\"row_heading level0 row3\" >4</th>\n",
       "      <td id=\"T_17703_row3_col0\" class=\"data row3 col0\" >XGBClassifier</td>\n",
       "      <td id=\"T_17703_row3_col1\" class=\"data row3 col1\" >0.956047</td>\n",
       "      <td id=\"T_17703_row3_col2\" class=\"data row3 col2\" >0.962769</td>\n",
       "      <td id=\"T_17703_row3_col3\" class=\"data row3 col3\" >0.969249</td>\n",
       "      <td id=\"T_17703_row3_col4\" class=\"data row3 col4\" >0.965267</td>\n",
       "      <td id=\"T_17703_row3_col5\" class=\"data row3 col5\" >0.993713</td>\n",
       "      <td id=\"T_17703_row3_col6\" class=\"data row3 col6\" >0.66</td>\n",
       "    </tr>\n",
       "    <tr>\n",
       "      <th id=\"T_17703_level0_row4\" class=\"row_heading level0 row4\" >5</th>\n",
       "      <td id=\"T_17703_row4_col0\" class=\"data row4 col0\" >LogisticRegression</td>\n",
       "      <td id=\"T_17703_row4_col1\" class=\"data row4 col1\" >0.950830</td>\n",
       "      <td id=\"T_17703_row4_col2\" class=\"data row4 col2\" >0.951552</td>\n",
       "      <td id=\"T_17703_row4_col3\" class=\"data row4 col3\" >0.971987</td>\n",
       "      <td id=\"T_17703_row4_col4\" class=\"data row4 col4\" >0.961227</td>\n",
       "      <td id=\"T_17703_row4_col5\" class=\"data row4 col5\" >0.992230</td>\n",
       "      <td id=\"T_17703_row4_col6\" class=\"data row4 col6\" >3.75</td>\n",
       "    </tr>\n",
       "    <tr>\n",
       "      <th id=\"T_17703_level0_row5\" class=\"row_heading level0 row5\" >6</th>\n",
       "      <td id=\"T_17703_row5_col0\" class=\"data row5 col0\" >KNeighborsClassifier</td>\n",
       "      <td id=\"T_17703_row5_col1\" class=\"data row5 col1\" >0.935010</td>\n",
       "      <td id=\"T_17703_row5_col2\" class=\"data row5 col2\" >0.938657</td>\n",
       "      <td id=\"T_17703_row5_col3\" class=\"data row5 col3\" >0.960837</td>\n",
       "      <td id=\"T_17703_row5_col4\" class=\"data row5 col4\" >0.948952</td>\n",
       "      <td id=\"T_17703_row5_col5\" class=\"data row5 col5\" >0.965548</td>\n",
       "      <td id=\"T_17703_row5_col6\" class=\"data row5 col6\" >0.00</td>\n",
       "    </tr>\n",
       "    <tr>\n",
       "      <th id=\"T_17703_level0_row6\" class=\"row_heading level0 row6\" >7</th>\n",
       "      <td id=\"T_17703_row6_col0\" class=\"data row6 col0\" >GaussianNB</td>\n",
       "      <td id=\"T_17703_row6_col1\" class=\"data row6 col1\" >0.938535</td>\n",
       "      <td id=\"T_17703_row6_col2\" class=\"data row6 col2\" >0.936765</td>\n",
       "      <td id=\"T_17703_row6_col3\" class=\"data row6 col3\" >0.969249</td>\n",
       "      <td id=\"T_17703_row6_col4\" class=\"data row6 col4\" >0.951966</td>\n",
       "      <td id=\"T_17703_row6_col5\" class=\"data row6 col5\" >0.988715</td>\n",
       "      <td id=\"T_17703_row6_col6\" class=\"data row6 col6\" >0.00</td>\n",
       "    </tr>\n",
       "    <tr>\n",
       "      <th id=\"T_17703_level0_row7\" class=\"row_heading level0 row7\" >8</th>\n",
       "      <td id=\"T_17703_row7_col0\" class=\"data row7 col0\" >DecisionTreeClassifier</td>\n",
       "      <td id=\"T_17703_row7_col1\" class=\"data row7 col1\" >0.910402</td>\n",
       "      <td id=\"T_17703_row7_col2\" class=\"data row7 col2\" >0.919698</td>\n",
       "      <td id=\"T_17703_row7_col3\" class=\"data row7 col3\" >0.941236</td>\n",
       "      <td id=\"T_17703_row7_col4\" class=\"data row7 col4\" >0.929871</td>\n",
       "      <td id=\"T_17703_row7_col5\" class=\"data row7 col5\" >0.900020</td>\n",
       "      <td id=\"T_17703_row7_col6\" class=\"data row7 col6\" >0.03</td>\n",
       "    </tr>\n",
       "  </tbody>\n",
       "</table>\n"
      ],
      "text/plain": [
       "<pandas.io.formats.style.Styler at 0x175cd1d90>"
      ]
     },
     "metadata": {},
     "output_type": "display_data"
    }
   ],
   "source": [
    "# You can also display the model stats after the experiment is done with a desired evaluation metric, default is \"accuracy\"\n",
    "class_exp.show_model_stats(eval_metric=\"precision\")"
   ]
  },
  {
   "cell_type": "code",
   "execution_count": 5,
   "metadata": {},
   "outputs": [],
   "source": [
    "\"\"\"\n",
    "* You can get the best model(s) by calling get_best_models() method\n",
    "    - top_n_models: default is 1, If you want to get only one model, you will get a model object, else\n",
    "    - you will get a list of model objects\n",
    "* By default, get_best_models() function returns the best model(s) based on the evaluation metric used in the start_experiment()\n",
    "* But you can reorder the models by passing eval_metric parameter to get_best_models()\n",
    "\"\"\"\n",
    "best_model = class_exp.get_best_models(top_n_models=1)\n",
    "\n",
    "# Optionally, you can get the any model object by \"model_name\" value in the show_model_stats() output\n",
    "example_model = class_exp.get_model_by_name(\"CatBoostClassifier\")"
   ]
  },
  {
   "cell_type": "code",
   "execution_count": 6,
   "metadata": {},
   "outputs": [
    {
     "name": "stdout",
     "output_type": "stream",
     "text": [
      "LGBMClassifier(random_state=42, verbose=-1)\n"
     ]
    }
   ],
   "source": [
    "print(best_model)"
   ]
  },
  {
   "cell_type": "code",
   "execution_count": 7,
   "metadata": {},
   "outputs": [
    {
     "data": {
      "application/vnd.plotly.v1+json": {
       "config": {
        "plotlyServerURL": "https://plot.ly"
       },
       "data": [
        {
         "marker": {
          "color": {
           "bdata": "U3z191XnJUC+lfhq4zMlQH349Hdt6iJAJFojmf9SIECPe0oGUpIYQLGu5a9NORhAuneNi/03F0AHguH9YjAQQBIwZOXqyQ5AKgsUE2IqCkCi+5iu70IJQADAXxmghwRAndxsRsL4AUDQHv5bCC0BQLa1Vx67ywBAO6FO3VC5AEBy08+gHKMAQA6d2Ygp5/c/ozcE7tDo9j9qiVtXE9f2Pw==",
           "dtype": "f8"
          },
          "colorscale": [
           [
            0,
            "#440154"
           ],
           [
            0.1111111111111111,
            "#482878"
           ],
           [
            0.2222222222222222,
            "#3e4989"
           ],
           [
            0.3333333333333333,
            "#31688e"
           ],
           [
            0.4444444444444444,
            "#26828e"
           ],
           [
            0.5555555555555556,
            "#1f9e89"
           ],
           [
            0.6666666666666666,
            "#35b779"
           ],
           [
            0.7777777777777778,
            "#6ece58"
           ],
           [
            0.8888888888888888,
            "#b5de2b"
           ],
           [
            1,
            "#fde725"
           ]
          ]
         },
         "orientation": "h",
         "type": "bar",
         "x": {
          "bdata": "U3z191XnJUC+lfhq4zMlQH349Hdt6iJAJFojmf9SIECPe0oGUpIYQLGu5a9NORhAuneNi/03F0AHguH9YjAQQBIwZOXqyQ5AKgsUE2IqCkCi+5iu70IJQADAXxmghwRAndxsRsL4AUDQHv5bCC0BQLa1Vx67ywBAO6FO3VC5AEBy08+gHKMAQA6d2Ygp5/c/ozcE7tDo9j9qiVtXE9f2Pw==",
          "dtype": "f8"
         },
         "y": [
          "worst concave points",
          "worst texture",
          "mean concave points",
          "worst area",
          "worst radius",
          "mean texture",
          "worst concavity",
          "worst perimeter",
          "area error",
          "worst smoothness",
          "worst symmetry",
          "compactness error",
          "mean area",
          "radius error",
          "mean concavity",
          "symmetry error",
          "mean smoothness",
          "mean compactness",
          "perimeter error",
          "concave points error"
         ]
        }
       ],
       "layout": {
        "height": 600,
        "template": {
         "data": {
          "bar": [
           {
            "error_x": {
             "color": "#2a3f5f"
            },
            "error_y": {
             "color": "#2a3f5f"
            },
            "marker": {
             "line": {
              "color": "#E5ECF6",
              "width": 0.5
             },
             "pattern": {
              "fillmode": "overlay",
              "size": 10,
              "solidity": 0.2
             }
            },
            "type": "bar"
           }
          ],
          "barpolar": [
           {
            "marker": {
             "line": {
              "color": "#E5ECF6",
              "width": 0.5
             },
             "pattern": {
              "fillmode": "overlay",
              "size": 10,
              "solidity": 0.2
             }
            },
            "type": "barpolar"
           }
          ],
          "carpet": [
           {
            "aaxis": {
             "endlinecolor": "#2a3f5f",
             "gridcolor": "white",
             "linecolor": "white",
             "minorgridcolor": "white",
             "startlinecolor": "#2a3f5f"
            },
            "baxis": {
             "endlinecolor": "#2a3f5f",
             "gridcolor": "white",
             "linecolor": "white",
             "minorgridcolor": "white",
             "startlinecolor": "#2a3f5f"
            },
            "type": "carpet"
           }
          ],
          "choropleth": [
           {
            "colorbar": {
             "outlinewidth": 0,
             "ticks": ""
            },
            "type": "choropleth"
           }
          ],
          "contour": [
           {
            "colorbar": {
             "outlinewidth": 0,
             "ticks": ""
            },
            "colorscale": [
             [
              0,
              "#0d0887"
             ],
             [
              0.1111111111111111,
              "#46039f"
             ],
             [
              0.2222222222222222,
              "#7201a8"
             ],
             [
              0.3333333333333333,
              "#9c179e"
             ],
             [
              0.4444444444444444,
              "#bd3786"
             ],
             [
              0.5555555555555556,
              "#d8576b"
             ],
             [
              0.6666666666666666,
              "#ed7953"
             ],
             [
              0.7777777777777778,
              "#fb9f3a"
             ],
             [
              0.8888888888888888,
              "#fdca26"
             ],
             [
              1,
              "#f0f921"
             ]
            ],
            "type": "contour"
           }
          ],
          "contourcarpet": [
           {
            "colorbar": {
             "outlinewidth": 0,
             "ticks": ""
            },
            "type": "contourcarpet"
           }
          ],
          "heatmap": [
           {
            "colorbar": {
             "outlinewidth": 0,
             "ticks": ""
            },
            "colorscale": [
             [
              0,
              "#0d0887"
             ],
             [
              0.1111111111111111,
              "#46039f"
             ],
             [
              0.2222222222222222,
              "#7201a8"
             ],
             [
              0.3333333333333333,
              "#9c179e"
             ],
             [
              0.4444444444444444,
              "#bd3786"
             ],
             [
              0.5555555555555556,
              "#d8576b"
             ],
             [
              0.6666666666666666,
              "#ed7953"
             ],
             [
              0.7777777777777778,
              "#fb9f3a"
             ],
             [
              0.8888888888888888,
              "#fdca26"
             ],
             [
              1,
              "#f0f921"
             ]
            ],
            "type": "heatmap"
           }
          ],
          "histogram": [
           {
            "marker": {
             "pattern": {
              "fillmode": "overlay",
              "size": 10,
              "solidity": 0.2
             }
            },
            "type": "histogram"
           }
          ],
          "histogram2d": [
           {
            "colorbar": {
             "outlinewidth": 0,
             "ticks": ""
            },
            "colorscale": [
             [
              0,
              "#0d0887"
             ],
             [
              0.1111111111111111,
              "#46039f"
             ],
             [
              0.2222222222222222,
              "#7201a8"
             ],
             [
              0.3333333333333333,
              "#9c179e"
             ],
             [
              0.4444444444444444,
              "#bd3786"
             ],
             [
              0.5555555555555556,
              "#d8576b"
             ],
             [
              0.6666666666666666,
              "#ed7953"
             ],
             [
              0.7777777777777778,
              "#fb9f3a"
             ],
             [
              0.8888888888888888,
              "#fdca26"
             ],
             [
              1,
              "#f0f921"
             ]
            ],
            "type": "histogram2d"
           }
          ],
          "histogram2dcontour": [
           {
            "colorbar": {
             "outlinewidth": 0,
             "ticks": ""
            },
            "colorscale": [
             [
              0,
              "#0d0887"
             ],
             [
              0.1111111111111111,
              "#46039f"
             ],
             [
              0.2222222222222222,
              "#7201a8"
             ],
             [
              0.3333333333333333,
              "#9c179e"
             ],
             [
              0.4444444444444444,
              "#bd3786"
             ],
             [
              0.5555555555555556,
              "#d8576b"
             ],
             [
              0.6666666666666666,
              "#ed7953"
             ],
             [
              0.7777777777777778,
              "#fb9f3a"
             ],
             [
              0.8888888888888888,
              "#fdca26"
             ],
             [
              1,
              "#f0f921"
             ]
            ],
            "type": "histogram2dcontour"
           }
          ],
          "mesh3d": [
           {
            "colorbar": {
             "outlinewidth": 0,
             "ticks": ""
            },
            "type": "mesh3d"
           }
          ],
          "parcoords": [
           {
            "line": {
             "colorbar": {
              "outlinewidth": 0,
              "ticks": ""
             }
            },
            "type": "parcoords"
           }
          ],
          "pie": [
           {
            "automargin": true,
            "type": "pie"
           }
          ],
          "scatter": [
           {
            "fillpattern": {
             "fillmode": "overlay",
             "size": 10,
             "solidity": 0.2
            },
            "type": "scatter"
           }
          ],
          "scatter3d": [
           {
            "line": {
             "colorbar": {
              "outlinewidth": 0,
              "ticks": ""
             }
            },
            "marker": {
             "colorbar": {
              "outlinewidth": 0,
              "ticks": ""
             }
            },
            "type": "scatter3d"
           }
          ],
          "scattercarpet": [
           {
            "marker": {
             "colorbar": {
              "outlinewidth": 0,
              "ticks": ""
             }
            },
            "type": "scattercarpet"
           }
          ],
          "scattergeo": [
           {
            "marker": {
             "colorbar": {
              "outlinewidth": 0,
              "ticks": ""
             }
            },
            "type": "scattergeo"
           }
          ],
          "scattergl": [
           {
            "marker": {
             "colorbar": {
              "outlinewidth": 0,
              "ticks": ""
             }
            },
            "type": "scattergl"
           }
          ],
          "scattermap": [
           {
            "marker": {
             "colorbar": {
              "outlinewidth": 0,
              "ticks": ""
             }
            },
            "type": "scattermap"
           }
          ],
          "scattermapbox": [
           {
            "marker": {
             "colorbar": {
              "outlinewidth": 0,
              "ticks": ""
             }
            },
            "type": "scattermapbox"
           }
          ],
          "scatterpolar": [
           {
            "marker": {
             "colorbar": {
              "outlinewidth": 0,
              "ticks": ""
             }
            },
            "type": "scatterpolar"
           }
          ],
          "scatterpolargl": [
           {
            "marker": {
             "colorbar": {
              "outlinewidth": 0,
              "ticks": ""
             }
            },
            "type": "scatterpolargl"
           }
          ],
          "scatterternary": [
           {
            "marker": {
             "colorbar": {
              "outlinewidth": 0,
              "ticks": ""
             }
            },
            "type": "scatterternary"
           }
          ],
          "surface": [
           {
            "colorbar": {
             "outlinewidth": 0,
             "ticks": ""
            },
            "colorscale": [
             [
              0,
              "#0d0887"
             ],
             [
              0.1111111111111111,
              "#46039f"
             ],
             [
              0.2222222222222222,
              "#7201a8"
             ],
             [
              0.3333333333333333,
              "#9c179e"
             ],
             [
              0.4444444444444444,
              "#bd3786"
             ],
             [
              0.5555555555555556,
              "#d8576b"
             ],
             [
              0.6666666666666666,
              "#ed7953"
             ],
             [
              0.7777777777777778,
              "#fb9f3a"
             ],
             [
              0.8888888888888888,
              "#fdca26"
             ],
             [
              1,
              "#f0f921"
             ]
            ],
            "type": "surface"
           }
          ],
          "table": [
           {
            "cells": {
             "fill": {
              "color": "#EBF0F8"
             },
             "line": {
              "color": "white"
             }
            },
            "header": {
             "fill": {
              "color": "#C8D4E3"
             },
             "line": {
              "color": "white"
             }
            },
            "type": "table"
           }
          ]
         },
         "layout": {
          "annotationdefaults": {
           "arrowcolor": "#2a3f5f",
           "arrowhead": 0,
           "arrowwidth": 1
          },
          "autotypenumbers": "strict",
          "coloraxis": {
           "colorbar": {
            "outlinewidth": 0,
            "ticks": ""
           }
          },
          "colorscale": {
           "diverging": [
            [
             0,
             "#8e0152"
            ],
            [
             0.1,
             "#c51b7d"
            ],
            [
             0.2,
             "#de77ae"
            ],
            [
             0.3,
             "#f1b6da"
            ],
            [
             0.4,
             "#fde0ef"
            ],
            [
             0.5,
             "#f7f7f7"
            ],
            [
             0.6,
             "#e6f5d0"
            ],
            [
             0.7,
             "#b8e186"
            ],
            [
             0.8,
             "#7fbc41"
            ],
            [
             0.9,
             "#4d9221"
            ],
            [
             1,
             "#276419"
            ]
           ],
           "sequential": [
            [
             0,
             "#0d0887"
            ],
            [
             0.1111111111111111,
             "#46039f"
            ],
            [
             0.2222222222222222,
             "#7201a8"
            ],
            [
             0.3333333333333333,
             "#9c179e"
            ],
            [
             0.4444444444444444,
             "#bd3786"
            ],
            [
             0.5555555555555556,
             "#d8576b"
            ],
            [
             0.6666666666666666,
             "#ed7953"
            ],
            [
             0.7777777777777778,
             "#fb9f3a"
            ],
            [
             0.8888888888888888,
             "#fdca26"
            ],
            [
             1,
             "#f0f921"
            ]
           ],
           "sequentialminus": [
            [
             0,
             "#0d0887"
            ],
            [
             0.1111111111111111,
             "#46039f"
            ],
            [
             0.2222222222222222,
             "#7201a8"
            ],
            [
             0.3333333333333333,
             "#9c179e"
            ],
            [
             0.4444444444444444,
             "#bd3786"
            ],
            [
             0.5555555555555556,
             "#d8576b"
            ],
            [
             0.6666666666666666,
             "#ed7953"
            ],
            [
             0.7777777777777778,
             "#fb9f3a"
            ],
            [
             0.8888888888888888,
             "#fdca26"
            ],
            [
             1,
             "#f0f921"
            ]
           ]
          },
          "colorway": [
           "#636efa",
           "#EF553B",
           "#00cc96",
           "#ab63fa",
           "#FFA15A",
           "#19d3f3",
           "#FF6692",
           "#B6E880",
           "#FF97FF",
           "#FECB52"
          ],
          "font": {
           "color": "#2a3f5f"
          },
          "geo": {
           "bgcolor": "white",
           "lakecolor": "white",
           "landcolor": "#E5ECF6",
           "showlakes": true,
           "showland": true,
           "subunitcolor": "white"
          },
          "hoverlabel": {
           "align": "left"
          },
          "hovermode": "closest",
          "mapbox": {
           "style": "light"
          },
          "paper_bgcolor": "white",
          "plot_bgcolor": "#E5ECF6",
          "polar": {
           "angularaxis": {
            "gridcolor": "white",
            "linecolor": "white",
            "ticks": ""
           },
           "bgcolor": "#E5ECF6",
           "radialaxis": {
            "gridcolor": "white",
            "linecolor": "white",
            "ticks": ""
           }
          },
          "scene": {
           "xaxis": {
            "backgroundcolor": "#E5ECF6",
            "gridcolor": "white",
            "gridwidth": 2,
            "linecolor": "white",
            "showbackground": true,
            "ticks": "",
            "zerolinecolor": "white"
           },
           "yaxis": {
            "backgroundcolor": "#E5ECF6",
            "gridcolor": "white",
            "gridwidth": 2,
            "linecolor": "white",
            "showbackground": true,
            "ticks": "",
            "zerolinecolor": "white"
           },
           "zaxis": {
            "backgroundcolor": "#E5ECF6",
            "gridcolor": "white",
            "gridwidth": 2,
            "linecolor": "white",
            "showbackground": true,
            "ticks": "",
            "zerolinecolor": "white"
           }
          },
          "shapedefaults": {
           "line": {
            "color": "#2a3f5f"
           }
          },
          "ternary": {
           "aaxis": {
            "gridcolor": "white",
            "linecolor": "white",
            "ticks": ""
           },
           "baxis": {
            "gridcolor": "white",
            "linecolor": "white",
            "ticks": ""
           },
           "bgcolor": "#E5ECF6",
           "caxis": {
            "gridcolor": "white",
            "linecolor": "white",
            "ticks": ""
           }
          },
          "title": {
           "x": 0.05
          },
          "xaxis": {
           "automargin": true,
           "gridcolor": "white",
           "linecolor": "white",
           "ticks": "",
           "title": {
            "standoff": 15
           },
           "zerolinecolor": "white",
           "zerolinewidth": 2
          },
          "yaxis": {
           "automargin": true,
           "gridcolor": "white",
           "linecolor": "white",
           "ticks": "",
           "title": {
            "standoff": 15
           },
           "zerolinecolor": "white",
           "zerolinewidth": 2
          }
         }
        },
        "title": {
         "text": "Feature Importance for CatBoostClassifier (Top 20 Features)"
        },
        "width": 800,
        "xaxis": {
         "title": {
          "text": "Importance"
         }
        },
        "yaxis": {
         "autorange": "reversed",
         "title": {
          "text": "Features"
         }
        }
       }
      }
     },
     "metadata": {},
     "output_type": "display_data"
    }
   ],
   "source": [
    "# Plot the feature importance of a model by passing the model name\n",
    "\"\"\"\n",
    "Available 'kind' values for Classification:\n",
    "- \"feature_importance\" (default)\n",
    "- \"confusion_matrix\"\n",
    "- \"roc_curve\"\n",
    "- \"calibration_curve\"\n",
    "- \"shap_summary\"\n",
    "- \"shap_violin\"\n",
    "\n",
    "You can play with extra parameters for the plot function for some of the kinds, check out func doc of plot() method for more details\n",
    "\"\"\"\n",
    "class_exp.plot(model_name=\"CatBoostClassifier\")"
   ]
  },
  {
   "cell_type": "code",
   "execution_count": 8,
   "metadata": {},
   "outputs": [
    {
     "name": "stderr",
     "output_type": "stream",
     "text": [
      "INFO | 2025-04-06 14:11:46 | [PROCESS] Model Tuning process started with 'optuna' method\n"
     ]
    },
    {
     "data": {
      "text/html": [
       "<style type=\"text/css\">\n",
       "#T_96c91_row0_col1, #T_96c91_row0_col3, #T_96c91_row0_col4, #T_96c91_row2_col2, #T_96c91_row2_col5 {\n",
       "  background-color: green;\n",
       "}\n",
       "</style>\n",
       "<table id=\"T_96c91\">\n",
       "  <thead>\n",
       "    <tr>\n",
       "      <th class=\"blank level0\" >&nbsp;</th>\n",
       "      <th id=\"T_96c91_level0_col0\" class=\"col_heading level0 col0\" >Model Name</th>\n",
       "      <th id=\"T_96c91_level0_col1\" class=\"col_heading level0 col1\" >Accuracy</th>\n",
       "      <th id=\"T_96c91_level0_col2\" class=\"col_heading level0 col2\" >Precision</th>\n",
       "      <th id=\"T_96c91_level0_col3\" class=\"col_heading level0 col3\" >Recall</th>\n",
       "      <th id=\"T_96c91_level0_col4\" class=\"col_heading level0 col4\" >F1 Score</th>\n",
       "      <th id=\"T_96c91_level0_col5\" class=\"col_heading level0 col5\" >ROC-AUC</th>\n",
       "      <th id=\"T_96c91_level0_col6\" class=\"col_heading level0 col6\" >Time (sec)</th>\n",
       "    </tr>\n",
       "  </thead>\n",
       "  <tbody>\n",
       "    <tr>\n",
       "      <th id=\"T_96c91_level0_row0\" class=\"row_heading level0 row0\" >1</th>\n",
       "      <td id=\"T_96c91_row0_col0\" class=\"data row0 col0\" >LGBMClassifier_(optuna)_(n_iter=10)</td>\n",
       "      <td id=\"T_96c91_row0_col1\" class=\"data row0 col1\" >0.968343</td>\n",
       "      <td id=\"T_96c91_row0_col2\" class=\"data row0 col2\" >0.962733</td>\n",
       "      <td id=\"T_96c91_row0_col3\" class=\"data row0 col3\" >0.988810</td>\n",
       "      <td id=\"T_96c91_row0_col4\" class=\"data row0 col4\" >0.975378</td>\n",
       "      <td id=\"T_96c91_row0_col5\" class=\"data row0 col5\" >0.993258</td>\n",
       "      <td id=\"T_96c91_row0_col6\" class=\"data row0 col6\" >7.05</td>\n",
       "    </tr>\n",
       "    <tr>\n",
       "      <th id=\"T_96c91_level0_row1\" class=\"row_heading level0 row1\" >2</th>\n",
       "      <td id=\"T_96c91_row1_col0\" class=\"data row1 col0\" >LGBMClassifier</td>\n",
       "      <td id=\"T_96c91_row1_col1\" class=\"data row1 col1\" >0.966635</td>\n",
       "      <td id=\"T_96c91_row1_col2\" class=\"data row1 col2\" >0.964846</td>\n",
       "      <td id=\"T_96c91_row1_col3\" class=\"data row1 col3\" >0.983216</td>\n",
       "      <td id=\"T_96c91_row1_col4\" class=\"data row1 col4\" >0.973749</td>\n",
       "      <td id=\"T_96c91_row1_col5\" class=\"data row1 col5\" >0.992537</td>\n",
       "      <td id=\"T_96c91_row1_col6\" class=\"data row1 col6\" >1.47</td>\n",
       "    </tr>\n",
       "    <tr>\n",
       "      <th id=\"T_96c91_level0_row2\" class=\"row_heading level0 row2\" >3</th>\n",
       "      <td id=\"T_96c91_row2_col0\" class=\"data row2 col0\" >CatBoostClassifier</td>\n",
       "      <td id=\"T_96c91_row2_col1\" class=\"data row2 col1\" >0.964865</td>\n",
       "      <td id=\"T_96c91_row2_col2\" class=\"data row2 col2\" >0.970146</td>\n",
       "      <td id=\"T_96c91_row2_col3\" class=\"data row2 col3\" >0.974843</td>\n",
       "      <td id=\"T_96c91_row2_col4\" class=\"data row2 col4\" >0.972136</td>\n",
       "      <td id=\"T_96c91_row2_col5\" class=\"data row2 col5\" >0.994718</td>\n",
       "      <td id=\"T_96c91_row2_col6\" class=\"data row2 col6\" >6.74</td>\n",
       "    </tr>\n",
       "    <tr>\n",
       "      <th id=\"T_96c91_level0_row3\" class=\"row_heading level0 row3\" >4</th>\n",
       "      <td id=\"T_96c91_row3_col0\" class=\"data row3 col0\" >RandomForestClassifier</td>\n",
       "      <td id=\"T_96c91_row3_col1\" class=\"data row3 col1\" >0.956093</td>\n",
       "      <td id=\"T_96c91_row3_col2\" class=\"data row3 col2\" >0.965090</td>\n",
       "      <td id=\"T_96c91_row3_col3\" class=\"data row3 col3\" >0.966471</td>\n",
       "      <td id=\"T_96c91_row3_col4\" class=\"data row3 col4\" >0.965068</td>\n",
       "      <td id=\"T_96c91_row3_col5\" class=\"data row3 col5\" >0.988549</td>\n",
       "      <td id=\"T_96c91_row3_col6\" class=\"data row3 col6\" >0.38</td>\n",
       "    </tr>\n",
       "    <tr>\n",
       "      <th id=\"T_96c91_level0_row4\" class=\"row_heading level0 row4\" >5</th>\n",
       "      <td id=\"T_96c91_row4_col0\" class=\"data row4 col0\" >XGBClassifier</td>\n",
       "      <td id=\"T_96c91_row4_col1\" class=\"data row4 col1\" >0.956047</td>\n",
       "      <td id=\"T_96c91_row4_col2\" class=\"data row4 col2\" >0.962769</td>\n",
       "      <td id=\"T_96c91_row4_col3\" class=\"data row4 col3\" >0.969249</td>\n",
       "      <td id=\"T_96c91_row4_col4\" class=\"data row4 col4\" >0.965267</td>\n",
       "      <td id=\"T_96c91_row4_col5\" class=\"data row4 col5\" >0.993713</td>\n",
       "      <td id=\"T_96c91_row4_col6\" class=\"data row4 col6\" >0.66</td>\n",
       "    </tr>\n",
       "    <tr>\n",
       "      <th id=\"T_96c91_level0_row5\" class=\"row_heading level0 row5\" >6</th>\n",
       "      <td id=\"T_96c91_row5_col0\" class=\"data row5 col0\" >LogisticRegression</td>\n",
       "      <td id=\"T_96c91_row5_col1\" class=\"data row5 col1\" >0.950830</td>\n",
       "      <td id=\"T_96c91_row5_col2\" class=\"data row5 col2\" >0.951552</td>\n",
       "      <td id=\"T_96c91_row5_col3\" class=\"data row5 col3\" >0.971987</td>\n",
       "      <td id=\"T_96c91_row5_col4\" class=\"data row5 col4\" >0.961227</td>\n",
       "      <td id=\"T_96c91_row5_col5\" class=\"data row5 col5\" >0.992230</td>\n",
       "      <td id=\"T_96c91_row5_col6\" class=\"data row5 col6\" >3.75</td>\n",
       "    </tr>\n",
       "    <tr>\n",
       "      <th id=\"T_96c91_level0_row6\" class=\"row_heading level0 row6\" >7</th>\n",
       "      <td id=\"T_96c91_row6_col0\" class=\"data row6 col0\" >GaussianNB</td>\n",
       "      <td id=\"T_96c91_row6_col1\" class=\"data row6 col1\" >0.938535</td>\n",
       "      <td id=\"T_96c91_row6_col2\" class=\"data row6 col2\" >0.936765</td>\n",
       "      <td id=\"T_96c91_row6_col3\" class=\"data row6 col3\" >0.969249</td>\n",
       "      <td id=\"T_96c91_row6_col4\" class=\"data row6 col4\" >0.951966</td>\n",
       "      <td id=\"T_96c91_row6_col5\" class=\"data row6 col5\" >0.988715</td>\n",
       "      <td id=\"T_96c91_row6_col6\" class=\"data row6 col6\" >0.00</td>\n",
       "    </tr>\n",
       "    <tr>\n",
       "      <th id=\"T_96c91_level0_row7\" class=\"row_heading level0 row7\" >8</th>\n",
       "      <td id=\"T_96c91_row7_col0\" class=\"data row7 col0\" >KNeighborsClassifier</td>\n",
       "      <td id=\"T_96c91_row7_col1\" class=\"data row7 col1\" >0.935010</td>\n",
       "      <td id=\"T_96c91_row7_col2\" class=\"data row7 col2\" >0.938657</td>\n",
       "      <td id=\"T_96c91_row7_col3\" class=\"data row7 col3\" >0.960837</td>\n",
       "      <td id=\"T_96c91_row7_col4\" class=\"data row7 col4\" >0.948952</td>\n",
       "      <td id=\"T_96c91_row7_col5\" class=\"data row7 col5\" >0.965548</td>\n",
       "      <td id=\"T_96c91_row7_col6\" class=\"data row7 col6\" >0.00</td>\n",
       "    </tr>\n",
       "    <tr>\n",
       "      <th id=\"T_96c91_level0_row8\" class=\"row_heading level0 row8\" >9</th>\n",
       "      <td id=\"T_96c91_row8_col0\" class=\"data row8 col0\" >DecisionTreeClassifier</td>\n",
       "      <td id=\"T_96c91_row8_col1\" class=\"data row8 col1\" >0.910402</td>\n",
       "      <td id=\"T_96c91_row8_col2\" class=\"data row8 col2\" >0.919698</td>\n",
       "      <td id=\"T_96c91_row8_col3\" class=\"data row8 col3\" >0.941236</td>\n",
       "      <td id=\"T_96c91_row8_col4\" class=\"data row8 col4\" >0.929871</td>\n",
       "      <td id=\"T_96c91_row8_col5\" class=\"data row8 col5\" >0.900020</td>\n",
       "      <td id=\"T_96c91_row8_col6\" class=\"data row8 col6\" >0.03</td>\n",
       "    </tr>\n",
       "  </tbody>\n",
       "</table>\n"
      ],
      "text/plain": [
       "<pandas.io.formats.style.Styler at 0x175aaaf90>"
      ]
     },
     "metadata": {},
     "output_type": "display_data"
    },
    {
     "name": "stderr",
     "output_type": "stream",
     "text": [
      "INFO | 2025-04-06 14:11:53 | [PROCESS] Model Tuning process is finished successfully\n"
     ]
    }
   ],
   "source": [
    "class_exp.tune_model(tuning_method=\"optuna\")\n",
    "# Default method is 'randomized_search'. If you don't play with any cross-validation strategy here, It uses the same strategy as the start_experiment(), otherwise it cleans the model leaderboard since validation strategy is different"
   ]
  },
  {
   "cell_type": "code",
   "execution_count": 9,
   "metadata": {},
   "outputs": [
    {
     "name": "stderr",
     "output_type": "stream",
     "text": [
      "INFO | 2025-04-06 14:11:53 | [PROCESS] Model Tuning process started with 'randomized_search' method\n"
     ]
    },
    {
     "data": {
      "text/html": [
       "<style type=\"text/css\">\n",
       "#T_9e36e_row0_col1, #T_9e36e_row0_col5, #T_9e36e_row1_col3, #T_9e36e_row1_col4, #T_9e36e_row3_col2 {\n",
       "  background-color: green;\n",
       "}\n",
       "</style>\n",
       "<table id=\"T_9e36e\">\n",
       "  <thead>\n",
       "    <tr>\n",
       "      <th class=\"blank level0\" >&nbsp;</th>\n",
       "      <th id=\"T_9e36e_level0_col0\" class=\"col_heading level0 col0\" >Model Name</th>\n",
       "      <th id=\"T_9e36e_level0_col1\" class=\"col_heading level0 col1\" >Accuracy</th>\n",
       "      <th id=\"T_9e36e_level0_col2\" class=\"col_heading level0 col2\" >Precision</th>\n",
       "      <th id=\"T_9e36e_level0_col3\" class=\"col_heading level0 col3\" >Recall</th>\n",
       "      <th id=\"T_9e36e_level0_col4\" class=\"col_heading level0 col4\" >F1 Score</th>\n",
       "      <th id=\"T_9e36e_level0_col5\" class=\"col_heading level0 col5\" >ROC-AUC</th>\n",
       "      <th id=\"T_9e36e_level0_col6\" class=\"col_heading level0 col6\" >Time (sec)</th>\n",
       "    </tr>\n",
       "  </thead>\n",
       "  <tbody>\n",
       "    <tr>\n",
       "      <th id=\"T_9e36e_level0_row0\" class=\"row_heading level0 row0\" >1</th>\n",
       "      <td id=\"T_9e36e_row0_col0\" class=\"data row0 col0\" >CatBoostClassifier_(randomized_search)_(n_iter=5)</td>\n",
       "      <td id=\"T_9e36e_row0_col1\" class=\"data row0 col1\" >0.968359</td>\n",
       "      <td id=\"T_9e36e_row0_col2\" class=\"data row0 col2\" >0.967725</td>\n",
       "      <td id=\"T_9e36e_row0_col3\" class=\"data row0 col3\" >0.983216</td>\n",
       "      <td id=\"T_9e36e_row0_col4\" class=\"data row0 col4\" >0.968181</td>\n",
       "      <td id=\"T_9e36e_row0_col5\" class=\"data row0 col5\" >0.994916</td>\n",
       "      <td id=\"T_9e36e_row0_col6\" class=\"data row0 col6\" >13.12</td>\n",
       "    </tr>\n",
       "    <tr>\n",
       "      <th id=\"T_9e36e_level0_row1\" class=\"row_heading level0 row1\" >2</th>\n",
       "      <td id=\"T_9e36e_row1_col0\" class=\"data row1 col0\" >LGBMClassifier_(optuna)_(n_iter=10)</td>\n",
       "      <td id=\"T_9e36e_row1_col1\" class=\"data row1 col1\" >0.968343</td>\n",
       "      <td id=\"T_9e36e_row1_col2\" class=\"data row1 col2\" >0.962733</td>\n",
       "      <td id=\"T_9e36e_row1_col3\" class=\"data row1 col3\" >0.988810</td>\n",
       "      <td id=\"T_9e36e_row1_col4\" class=\"data row1 col4\" >0.975378</td>\n",
       "      <td id=\"T_9e36e_row1_col5\" class=\"data row1 col5\" >0.993258</td>\n",
       "      <td id=\"T_9e36e_row1_col6\" class=\"data row1 col6\" >7.05</td>\n",
       "    </tr>\n",
       "    <tr>\n",
       "      <th id=\"T_9e36e_level0_row2\" class=\"row_heading level0 row2\" >3</th>\n",
       "      <td id=\"T_9e36e_row2_col0\" class=\"data row2 col0\" >LGBMClassifier</td>\n",
       "      <td id=\"T_9e36e_row2_col1\" class=\"data row2 col1\" >0.966635</td>\n",
       "      <td id=\"T_9e36e_row2_col2\" class=\"data row2 col2\" >0.964846</td>\n",
       "      <td id=\"T_9e36e_row2_col3\" class=\"data row2 col3\" >0.983216</td>\n",
       "      <td id=\"T_9e36e_row2_col4\" class=\"data row2 col4\" >0.973749</td>\n",
       "      <td id=\"T_9e36e_row2_col5\" class=\"data row2 col5\" >0.992537</td>\n",
       "      <td id=\"T_9e36e_row2_col6\" class=\"data row2 col6\" >1.47</td>\n",
       "    </tr>\n",
       "    <tr>\n",
       "      <th id=\"T_9e36e_level0_row3\" class=\"row_heading level0 row3\" >4</th>\n",
       "      <td id=\"T_9e36e_row3_col0\" class=\"data row3 col0\" >CatBoostClassifier</td>\n",
       "      <td id=\"T_9e36e_row3_col1\" class=\"data row3 col1\" >0.964865</td>\n",
       "      <td id=\"T_9e36e_row3_col2\" class=\"data row3 col2\" >0.970146</td>\n",
       "      <td id=\"T_9e36e_row3_col3\" class=\"data row3 col3\" >0.974843</td>\n",
       "      <td id=\"T_9e36e_row3_col4\" class=\"data row3 col4\" >0.972136</td>\n",
       "      <td id=\"T_9e36e_row3_col5\" class=\"data row3 col5\" >0.994718</td>\n",
       "      <td id=\"T_9e36e_row3_col6\" class=\"data row3 col6\" >6.74</td>\n",
       "    </tr>\n",
       "    <tr>\n",
       "      <th id=\"T_9e36e_level0_row4\" class=\"row_heading level0 row4\" >5</th>\n",
       "      <td id=\"T_9e36e_row4_col0\" class=\"data row4 col0\" >RandomForestClassifier</td>\n",
       "      <td id=\"T_9e36e_row4_col1\" class=\"data row4 col1\" >0.956093</td>\n",
       "      <td id=\"T_9e36e_row4_col2\" class=\"data row4 col2\" >0.965090</td>\n",
       "      <td id=\"T_9e36e_row4_col3\" class=\"data row4 col3\" >0.966471</td>\n",
       "      <td id=\"T_9e36e_row4_col4\" class=\"data row4 col4\" >0.965068</td>\n",
       "      <td id=\"T_9e36e_row4_col5\" class=\"data row4 col5\" >0.988549</td>\n",
       "      <td id=\"T_9e36e_row4_col6\" class=\"data row4 col6\" >0.38</td>\n",
       "    </tr>\n",
       "    <tr>\n",
       "      <th id=\"T_9e36e_level0_row5\" class=\"row_heading level0 row5\" >6</th>\n",
       "      <td id=\"T_9e36e_row5_col0\" class=\"data row5 col0\" >XGBClassifier</td>\n",
       "      <td id=\"T_9e36e_row5_col1\" class=\"data row5 col1\" >0.956047</td>\n",
       "      <td id=\"T_9e36e_row5_col2\" class=\"data row5 col2\" >0.962769</td>\n",
       "      <td id=\"T_9e36e_row5_col3\" class=\"data row5 col3\" >0.969249</td>\n",
       "      <td id=\"T_9e36e_row5_col4\" class=\"data row5 col4\" >0.965267</td>\n",
       "      <td id=\"T_9e36e_row5_col5\" class=\"data row5 col5\" >0.993713</td>\n",
       "      <td id=\"T_9e36e_row5_col6\" class=\"data row5 col6\" >0.66</td>\n",
       "    </tr>\n",
       "    <tr>\n",
       "      <th id=\"T_9e36e_level0_row6\" class=\"row_heading level0 row6\" >7</th>\n",
       "      <td id=\"T_9e36e_row6_col0\" class=\"data row6 col0\" >LogisticRegression</td>\n",
       "      <td id=\"T_9e36e_row6_col1\" class=\"data row6 col1\" >0.950830</td>\n",
       "      <td id=\"T_9e36e_row6_col2\" class=\"data row6 col2\" >0.951552</td>\n",
       "      <td id=\"T_9e36e_row6_col3\" class=\"data row6 col3\" >0.971987</td>\n",
       "      <td id=\"T_9e36e_row6_col4\" class=\"data row6 col4\" >0.961227</td>\n",
       "      <td id=\"T_9e36e_row6_col5\" class=\"data row6 col5\" >0.992230</td>\n",
       "      <td id=\"T_9e36e_row6_col6\" class=\"data row6 col6\" >3.75</td>\n",
       "    </tr>\n",
       "    <tr>\n",
       "      <th id=\"T_9e36e_level0_row7\" class=\"row_heading level0 row7\" >8</th>\n",
       "      <td id=\"T_9e36e_row7_col0\" class=\"data row7 col0\" >GaussianNB</td>\n",
       "      <td id=\"T_9e36e_row7_col1\" class=\"data row7 col1\" >0.938535</td>\n",
       "      <td id=\"T_9e36e_row7_col2\" class=\"data row7 col2\" >0.936765</td>\n",
       "      <td id=\"T_9e36e_row7_col3\" class=\"data row7 col3\" >0.969249</td>\n",
       "      <td id=\"T_9e36e_row7_col4\" class=\"data row7 col4\" >0.951966</td>\n",
       "      <td id=\"T_9e36e_row7_col5\" class=\"data row7 col5\" >0.988715</td>\n",
       "      <td id=\"T_9e36e_row7_col6\" class=\"data row7 col6\" >0.00</td>\n",
       "    </tr>\n",
       "    <tr>\n",
       "      <th id=\"T_9e36e_level0_row8\" class=\"row_heading level0 row8\" >9</th>\n",
       "      <td id=\"T_9e36e_row8_col0\" class=\"data row8 col0\" >KNeighborsClassifier</td>\n",
       "      <td id=\"T_9e36e_row8_col1\" class=\"data row8 col1\" >0.935010</td>\n",
       "      <td id=\"T_9e36e_row8_col2\" class=\"data row8 col2\" >0.938657</td>\n",
       "      <td id=\"T_9e36e_row8_col3\" class=\"data row8 col3\" >0.960837</td>\n",
       "      <td id=\"T_9e36e_row8_col4\" class=\"data row8 col4\" >0.948952</td>\n",
       "      <td id=\"T_9e36e_row8_col5\" class=\"data row8 col5\" >0.965548</td>\n",
       "      <td id=\"T_9e36e_row8_col6\" class=\"data row8 col6\" >0.00</td>\n",
       "    </tr>\n",
       "    <tr>\n",
       "      <th id=\"T_9e36e_level0_row9\" class=\"row_heading level0 row9\" >10</th>\n",
       "      <td id=\"T_9e36e_row9_col0\" class=\"data row9 col0\" >DecisionTreeClassifier</td>\n",
       "      <td id=\"T_9e36e_row9_col1\" class=\"data row9 col1\" >0.910402</td>\n",
       "      <td id=\"T_9e36e_row9_col2\" class=\"data row9 col2\" >0.919698</td>\n",
       "      <td id=\"T_9e36e_row9_col3\" class=\"data row9 col3\" >0.941236</td>\n",
       "      <td id=\"T_9e36e_row9_col4\" class=\"data row9 col4\" >0.929871</td>\n",
       "      <td id=\"T_9e36e_row9_col5\" class=\"data row9 col5\" >0.900020</td>\n",
       "      <td id=\"T_9e36e_row9_col6\" class=\"data row9 col6\" >0.03</td>\n",
       "    </tr>\n",
       "  </tbody>\n",
       "</table>\n"
      ],
      "text/plain": [
       "<pandas.io.formats.style.Styler at 0x308edef90>"
      ]
     },
     "metadata": {},
     "output_type": "display_data"
    },
    {
     "name": "stderr",
     "output_type": "stream",
     "text": [
      "INFO | 2025-04-06 14:12:06 | [PROCESS] Model Tuning process is finished successfully\n"
     ]
    }
   ],
   "source": [
    "class_exp.tune_model(model=\"CatBoostClassifier\", tuning_method=\"randomized_search\", n_iter=5)\n",
    "# You are in your own world now, you can pass any model object and any tuning method you want and see all of them in the same model leaderboard for comparison"
   ]
  },
  {
   "cell_type": "code",
   "execution_count": 10,
   "metadata": {},
   "outputs": [
    {
     "data": {
      "text/plain": [
       "<catboost.core.CatBoostClassifier at 0x318b4c450>"
      ]
     },
     "execution_count": 10,
     "metadata": {},
     "output_type": "execute_result"
    }
   ],
   "source": [
    "# You can access to tuning model by using get_model_by_name() method\n",
    "\n",
    "my_tuned_lgb_model = class_exp.get_model_by_name(\"CatBoostClassifier_(randomized_search)_(n_iter=5)\")\n",
    "my_tuned_lgb_model"
   ]
  },
  {
   "cell_type": "markdown",
   "metadata": {},
   "source": [
    "## Prediction and Model Saving"
   ]
  },
  {
   "cell_type": "code",
   "execution_count": 11,
   "metadata": {},
   "outputs": [
    {
     "name": "stderr",
     "output_type": "stream",
     "text": [
      "INFO | 2025-04-06 14:12:06 | Training the model using the whole data\n"
     ]
    },
    {
     "name": "stdout",
     "output_type": "stream",
     "text": [
      "\n",
      "preds: [0 0 0 0 0 0 0 0 0 0 0 0 0 0 0 0 0 0 0 1 1 1 0 0 0 0 0 0 0 0 0 0 0 0 0 0 0\n",
      " 1 0 0 0 0 0 0 0 0 1 0 1 1 1 1 1 0 0 1 0 0 1 1 1 1 0 1 0 0 1 1 1 1 0 1 0 0\n",
      " 1 0 1 0 0 1 1 1 0 0 1 0 0 0 1 1 1 0 1 1 0 0 1 1 1 0 0 1 1 1 1 0 1 1 0 1 1\n",
      " 1 1 1 1 1 1 0 0 0 1 0 0 1 1 1 0 0 1 0 1 0 0 1 0 0 1 1 0 1 1 0 1 1 1 1 0 1\n",
      " 1 1 1 1 1 1 1 1 0 1 1 1 1 0 0 1 0 1 1 0 0 1 1 0 0 1 1 1 1 0 1 1 0 0 0 1 0\n",
      " 1 0 1 1 1 0 1 1 0 0 1 0 0 0 0 1 0 0 0 1 0 1 0 1 1 0 1 0 0 0 0 1 1 0 0 1 1\n",
      " 1 0 1 1 1 1 1 0 0 1 1 0 1 1 0 0 1 0 1 1 1 1 0 1 1 1 1 1 0 1 0 0 0 0 0 0 0\n",
      " 0 0 0 0 0 0 0 1 1 1 1 1 1 0 1 0 1 1 0 1 1 0 1 0 0 1 1 1 1 1 1 1 1 1 1 1 1\n",
      " 1 0 1 1 0 1 0 1 1 1 1 1 1 1 1 1 1 1 1 1 1 0 1 1 1 0 1 0 1 1 1 1 0 0 0 1 1\n",
      " 1 1 0 1 0 1 0 1 1 1 0 1 1 1 1 1 1 1 0 0 0 1 1 1 1 1 1 1 1 1 1 1 0 0 1 0 0\n",
      " 0 1 0 0 1 1 1 1 1 0 1 1 1 1 1 0 1 1 1 0 1 1 0 0 1 1 1 1 1 1 0 1 1 1 1 1 1\n",
      " 1 0 1 1 1 1 1 0 1 1 0 1 1 1 1 1 1 1 1 1 1 1 1 0 1 0 0 1 0 1 1 1 1 1 0 1 1\n",
      " 0 1 0 1 1 0 1 0 1 1 1 1 1 1 1 1 0 0 1 1 1 1 1 1 0 1 1 1 1 1 1 1 1 1 1 0 1\n",
      " 1 1 1 1 1 1 0 1 0 1 1 0 1 1 1 1 1 0 0 1 0 1 0 1 1 1 1 1 0 1 1 0 1 0 1 0 0\n",
      " 1 1 1 0 1 1 1 1 1 1 1 1 1 1 1 0 1 0 0 1 1 1 1 1 1 1 1 1 1 1 1 1 1 1 1 1 1\n",
      " 1 1 1 1 1 1 1 0 0 0 0 0 0 1]\n",
      "\n",
      "probs: [[9.99651752e-01 3.48248313e-04]\n",
      " [9.98882964e-01 1.11703634e-03]\n",
      " [9.99993410e-01 6.58980916e-06]\n",
      " ...\n",
      " [9.99761727e-01 2.38273153e-04]\n",
      " [9.99996514e-01 3.48579868e-06]\n",
      " [1.39394239e-03 9.98606058e-01]]   \n",
      "\n"
     ]
    }
   ],
   "source": [
    "# Let's assume that you have a new data for prediction, for example the same data that you used for training.\n",
    "\n",
    "X = class_exp.X\n",
    "\n",
    "preds = class_exp.predict(X) # full_train (default=True) param enables you to train the model with the whole dataset and then predict, otherwise it uses the model that trained with the last X_train, y_train fold\n",
    "probs = class_exp.predict_proba(X)\n",
    "\n",
    "print(f\"\"\"\n",
    "preds: {preds}\\n\n",
    "probs: {probs}   \n",
    "\"\"\")"
   ]
  },
  {
   "cell_type": "code",
   "execution_count": 12,
   "metadata": {},
   "outputs": [
    {
     "name": "stderr",
     "output_type": "stream",
     "text": [
      "INFO | 2025-04-06 14:12:06 | No save path provided. Using default: pipeline.pkl\n",
      "INFO | 2025-04-06 14:12:06 | Training the model using the whole data\n",
      "INFO | 2025-04-06 14:12:06 | Pipeline saved successfully at pipeline.pkl\n"
     ]
    },
    {
     "data": {
      "text/html": [
       "<style>#sk-container-id-1 {\n",
       "  /* Definition of color scheme common for light and dark mode */\n",
       "  --sklearn-color-text: black;\n",
       "  --sklearn-color-line: gray;\n",
       "  /* Definition of color scheme for unfitted estimators */\n",
       "  --sklearn-color-unfitted-level-0: #fff5e6;\n",
       "  --sklearn-color-unfitted-level-1: #f6e4d2;\n",
       "  --sklearn-color-unfitted-level-2: #ffe0b3;\n",
       "  --sklearn-color-unfitted-level-3: chocolate;\n",
       "  /* Definition of color scheme for fitted estimators */\n",
       "  --sklearn-color-fitted-level-0: #f0f8ff;\n",
       "  --sklearn-color-fitted-level-1: #d4ebff;\n",
       "  --sklearn-color-fitted-level-2: #b3dbfd;\n",
       "  --sklearn-color-fitted-level-3: cornflowerblue;\n",
       "\n",
       "  /* Specific color for light theme */\n",
       "  --sklearn-color-text-on-default-background: var(--sg-text-color, var(--theme-code-foreground, var(--jp-content-font-color1, black)));\n",
       "  --sklearn-color-background: var(--sg-background-color, var(--theme-background, var(--jp-layout-color0, white)));\n",
       "  --sklearn-color-border-box: var(--sg-text-color, var(--theme-code-foreground, var(--jp-content-font-color1, black)));\n",
       "  --sklearn-color-icon: #696969;\n",
       "\n",
       "  @media (prefers-color-scheme: dark) {\n",
       "    /* Redefinition of color scheme for dark theme */\n",
       "    --sklearn-color-text-on-default-background: var(--sg-text-color, var(--theme-code-foreground, var(--jp-content-font-color1, white)));\n",
       "    --sklearn-color-background: var(--sg-background-color, var(--theme-background, var(--jp-layout-color0, #111)));\n",
       "    --sklearn-color-border-box: var(--sg-text-color, var(--theme-code-foreground, var(--jp-content-font-color1, white)));\n",
       "    --sklearn-color-icon: #878787;\n",
       "  }\n",
       "}\n",
       "\n",
       "#sk-container-id-1 {\n",
       "  color: var(--sklearn-color-text);\n",
       "}\n",
       "\n",
       "#sk-container-id-1 pre {\n",
       "  padding: 0;\n",
       "}\n",
       "\n",
       "#sk-container-id-1 input.sk-hidden--visually {\n",
       "  border: 0;\n",
       "  clip: rect(1px 1px 1px 1px);\n",
       "  clip: rect(1px, 1px, 1px, 1px);\n",
       "  height: 1px;\n",
       "  margin: -1px;\n",
       "  overflow: hidden;\n",
       "  padding: 0;\n",
       "  position: absolute;\n",
       "  width: 1px;\n",
       "}\n",
       "\n",
       "#sk-container-id-1 div.sk-dashed-wrapped {\n",
       "  border: 1px dashed var(--sklearn-color-line);\n",
       "  margin: 0 0.4em 0.5em 0.4em;\n",
       "  box-sizing: border-box;\n",
       "  padding-bottom: 0.4em;\n",
       "  background-color: var(--sklearn-color-background);\n",
       "}\n",
       "\n",
       "#sk-container-id-1 div.sk-container {\n",
       "  /* jupyter's `normalize.less` sets `[hidden] { display: none; }`\n",
       "     but bootstrap.min.css set `[hidden] { display: none !important; }`\n",
       "     so we also need the `!important` here to be able to override the\n",
       "     default hidden behavior on the sphinx rendered scikit-learn.org.\n",
       "     See: https://github.com/scikit-learn/scikit-learn/issues/21755 */\n",
       "  display: inline-block !important;\n",
       "  position: relative;\n",
       "}\n",
       "\n",
       "#sk-container-id-1 div.sk-text-repr-fallback {\n",
       "  display: none;\n",
       "}\n",
       "\n",
       "div.sk-parallel-item,\n",
       "div.sk-serial,\n",
       "div.sk-item {\n",
       "  /* draw centered vertical line to link estimators */\n",
       "  background-image: linear-gradient(var(--sklearn-color-text-on-default-background), var(--sklearn-color-text-on-default-background));\n",
       "  background-size: 2px 100%;\n",
       "  background-repeat: no-repeat;\n",
       "  background-position: center center;\n",
       "}\n",
       "\n",
       "/* Parallel-specific style estimator block */\n",
       "\n",
       "#sk-container-id-1 div.sk-parallel-item::after {\n",
       "  content: \"\";\n",
       "  width: 100%;\n",
       "  border-bottom: 2px solid var(--sklearn-color-text-on-default-background);\n",
       "  flex-grow: 1;\n",
       "}\n",
       "\n",
       "#sk-container-id-1 div.sk-parallel {\n",
       "  display: flex;\n",
       "  align-items: stretch;\n",
       "  justify-content: center;\n",
       "  background-color: var(--sklearn-color-background);\n",
       "  position: relative;\n",
       "}\n",
       "\n",
       "#sk-container-id-1 div.sk-parallel-item {\n",
       "  display: flex;\n",
       "  flex-direction: column;\n",
       "}\n",
       "\n",
       "#sk-container-id-1 div.sk-parallel-item:first-child::after {\n",
       "  align-self: flex-end;\n",
       "  width: 50%;\n",
       "}\n",
       "\n",
       "#sk-container-id-1 div.sk-parallel-item:last-child::after {\n",
       "  align-self: flex-start;\n",
       "  width: 50%;\n",
       "}\n",
       "\n",
       "#sk-container-id-1 div.sk-parallel-item:only-child::after {\n",
       "  width: 0;\n",
       "}\n",
       "\n",
       "/* Serial-specific style estimator block */\n",
       "\n",
       "#sk-container-id-1 div.sk-serial {\n",
       "  display: flex;\n",
       "  flex-direction: column;\n",
       "  align-items: center;\n",
       "  background-color: var(--sklearn-color-background);\n",
       "  padding-right: 1em;\n",
       "  padding-left: 1em;\n",
       "}\n",
       "\n",
       "\n",
       "/* Toggleable style: style used for estimator/Pipeline/ColumnTransformer box that is\n",
       "clickable and can be expanded/collapsed.\n",
       "- Pipeline and ColumnTransformer use this feature and define the default style\n",
       "- Estimators will overwrite some part of the style using the `sk-estimator` class\n",
       "*/\n",
       "\n",
       "/* Pipeline and ColumnTransformer style (default) */\n",
       "\n",
       "#sk-container-id-1 div.sk-toggleable {\n",
       "  /* Default theme specific background. It is overwritten whether we have a\n",
       "  specific estimator or a Pipeline/ColumnTransformer */\n",
       "  background-color: var(--sklearn-color-background);\n",
       "}\n",
       "\n",
       "/* Toggleable label */\n",
       "#sk-container-id-1 label.sk-toggleable__label {\n",
       "  cursor: pointer;\n",
       "  display: block;\n",
       "  width: 100%;\n",
       "  margin-bottom: 0;\n",
       "  padding: 0.5em;\n",
       "  box-sizing: border-box;\n",
       "  text-align: center;\n",
       "}\n",
       "\n",
       "#sk-container-id-1 label.sk-toggleable__label-arrow:before {\n",
       "  /* Arrow on the left of the label */\n",
       "  content: \"▸\";\n",
       "  float: left;\n",
       "  margin-right: 0.25em;\n",
       "  color: var(--sklearn-color-icon);\n",
       "}\n",
       "\n",
       "#sk-container-id-1 label.sk-toggleable__label-arrow:hover:before {\n",
       "  color: var(--sklearn-color-text);\n",
       "}\n",
       "\n",
       "/* Toggleable content - dropdown */\n",
       "\n",
       "#sk-container-id-1 div.sk-toggleable__content {\n",
       "  max-height: 0;\n",
       "  max-width: 0;\n",
       "  overflow: hidden;\n",
       "  text-align: left;\n",
       "  /* unfitted */\n",
       "  background-color: var(--sklearn-color-unfitted-level-0);\n",
       "}\n",
       "\n",
       "#sk-container-id-1 div.sk-toggleable__content.fitted {\n",
       "  /* fitted */\n",
       "  background-color: var(--sklearn-color-fitted-level-0);\n",
       "}\n",
       "\n",
       "#sk-container-id-1 div.sk-toggleable__content pre {\n",
       "  margin: 0.2em;\n",
       "  border-radius: 0.25em;\n",
       "  color: var(--sklearn-color-text);\n",
       "  /* unfitted */\n",
       "  background-color: var(--sklearn-color-unfitted-level-0);\n",
       "}\n",
       "\n",
       "#sk-container-id-1 div.sk-toggleable__content.fitted pre {\n",
       "  /* unfitted */\n",
       "  background-color: var(--sklearn-color-fitted-level-0);\n",
       "}\n",
       "\n",
       "#sk-container-id-1 input.sk-toggleable__control:checked~div.sk-toggleable__content {\n",
       "  /* Expand drop-down */\n",
       "  max-height: 200px;\n",
       "  max-width: 100%;\n",
       "  overflow: auto;\n",
       "}\n",
       "\n",
       "#sk-container-id-1 input.sk-toggleable__control:checked~label.sk-toggleable__label-arrow:before {\n",
       "  content: \"▾\";\n",
       "}\n",
       "\n",
       "/* Pipeline/ColumnTransformer-specific style */\n",
       "\n",
       "#sk-container-id-1 div.sk-label input.sk-toggleable__control:checked~label.sk-toggleable__label {\n",
       "  color: var(--sklearn-color-text);\n",
       "  background-color: var(--sklearn-color-unfitted-level-2);\n",
       "}\n",
       "\n",
       "#sk-container-id-1 div.sk-label.fitted input.sk-toggleable__control:checked~label.sk-toggleable__label {\n",
       "  background-color: var(--sklearn-color-fitted-level-2);\n",
       "}\n",
       "\n",
       "/* Estimator-specific style */\n",
       "\n",
       "/* Colorize estimator box */\n",
       "#sk-container-id-1 div.sk-estimator input.sk-toggleable__control:checked~label.sk-toggleable__label {\n",
       "  /* unfitted */\n",
       "  background-color: var(--sklearn-color-unfitted-level-2);\n",
       "}\n",
       "\n",
       "#sk-container-id-1 div.sk-estimator.fitted input.sk-toggleable__control:checked~label.sk-toggleable__label {\n",
       "  /* fitted */\n",
       "  background-color: var(--sklearn-color-fitted-level-2);\n",
       "}\n",
       "\n",
       "#sk-container-id-1 div.sk-label label.sk-toggleable__label,\n",
       "#sk-container-id-1 div.sk-label label {\n",
       "  /* The background is the default theme color */\n",
       "  color: var(--sklearn-color-text-on-default-background);\n",
       "}\n",
       "\n",
       "/* On hover, darken the color of the background */\n",
       "#sk-container-id-1 div.sk-label:hover label.sk-toggleable__label {\n",
       "  color: var(--sklearn-color-text);\n",
       "  background-color: var(--sklearn-color-unfitted-level-2);\n",
       "}\n",
       "\n",
       "/* Label box, darken color on hover, fitted */\n",
       "#sk-container-id-1 div.sk-label.fitted:hover label.sk-toggleable__label.fitted {\n",
       "  color: var(--sklearn-color-text);\n",
       "  background-color: var(--sklearn-color-fitted-level-2);\n",
       "}\n",
       "\n",
       "/* Estimator label */\n",
       "\n",
       "#sk-container-id-1 div.sk-label label {\n",
       "  font-family: monospace;\n",
       "  font-weight: bold;\n",
       "  display: inline-block;\n",
       "  line-height: 1.2em;\n",
       "}\n",
       "\n",
       "#sk-container-id-1 div.sk-label-container {\n",
       "  text-align: center;\n",
       "}\n",
       "\n",
       "/* Estimator-specific */\n",
       "#sk-container-id-1 div.sk-estimator {\n",
       "  font-family: monospace;\n",
       "  border: 1px dotted var(--sklearn-color-border-box);\n",
       "  border-radius: 0.25em;\n",
       "  box-sizing: border-box;\n",
       "  margin-bottom: 0.5em;\n",
       "  /* unfitted */\n",
       "  background-color: var(--sklearn-color-unfitted-level-0);\n",
       "}\n",
       "\n",
       "#sk-container-id-1 div.sk-estimator.fitted {\n",
       "  /* fitted */\n",
       "  background-color: var(--sklearn-color-fitted-level-0);\n",
       "}\n",
       "\n",
       "/* on hover */\n",
       "#sk-container-id-1 div.sk-estimator:hover {\n",
       "  /* unfitted */\n",
       "  background-color: var(--sklearn-color-unfitted-level-2);\n",
       "}\n",
       "\n",
       "#sk-container-id-1 div.sk-estimator.fitted:hover {\n",
       "  /* fitted */\n",
       "  background-color: var(--sklearn-color-fitted-level-2);\n",
       "}\n",
       "\n",
       "/* Specification for estimator info (e.g. \"i\" and \"?\") */\n",
       "\n",
       "/* Common style for \"i\" and \"?\" */\n",
       "\n",
       ".sk-estimator-doc-link,\n",
       "a:link.sk-estimator-doc-link,\n",
       "a:visited.sk-estimator-doc-link {\n",
       "  float: right;\n",
       "  font-size: smaller;\n",
       "  line-height: 1em;\n",
       "  font-family: monospace;\n",
       "  background-color: var(--sklearn-color-background);\n",
       "  border-radius: 1em;\n",
       "  height: 1em;\n",
       "  width: 1em;\n",
       "  text-decoration: none !important;\n",
       "  margin-left: 1ex;\n",
       "  /* unfitted */\n",
       "  border: var(--sklearn-color-unfitted-level-1) 1pt solid;\n",
       "  color: var(--sklearn-color-unfitted-level-1);\n",
       "}\n",
       "\n",
       ".sk-estimator-doc-link.fitted,\n",
       "a:link.sk-estimator-doc-link.fitted,\n",
       "a:visited.sk-estimator-doc-link.fitted {\n",
       "  /* fitted */\n",
       "  border: var(--sklearn-color-fitted-level-1) 1pt solid;\n",
       "  color: var(--sklearn-color-fitted-level-1);\n",
       "}\n",
       "\n",
       "/* On hover */\n",
       "div.sk-estimator:hover .sk-estimator-doc-link:hover,\n",
       ".sk-estimator-doc-link:hover,\n",
       "div.sk-label-container:hover .sk-estimator-doc-link:hover,\n",
       ".sk-estimator-doc-link:hover {\n",
       "  /* unfitted */\n",
       "  background-color: var(--sklearn-color-unfitted-level-3);\n",
       "  color: var(--sklearn-color-background);\n",
       "  text-decoration: none;\n",
       "}\n",
       "\n",
       "div.sk-estimator.fitted:hover .sk-estimator-doc-link.fitted:hover,\n",
       ".sk-estimator-doc-link.fitted:hover,\n",
       "div.sk-label-container:hover .sk-estimator-doc-link.fitted:hover,\n",
       ".sk-estimator-doc-link.fitted:hover {\n",
       "  /* fitted */\n",
       "  background-color: var(--sklearn-color-fitted-level-3);\n",
       "  color: var(--sklearn-color-background);\n",
       "  text-decoration: none;\n",
       "}\n",
       "\n",
       "/* Span, style for the box shown on hovering the info icon */\n",
       ".sk-estimator-doc-link span {\n",
       "  display: none;\n",
       "  z-index: 9999;\n",
       "  position: relative;\n",
       "  font-weight: normal;\n",
       "  right: .2ex;\n",
       "  padding: .5ex;\n",
       "  margin: .5ex;\n",
       "  width: min-content;\n",
       "  min-width: 20ex;\n",
       "  max-width: 50ex;\n",
       "  color: var(--sklearn-color-text);\n",
       "  box-shadow: 2pt 2pt 4pt #999;\n",
       "  /* unfitted */\n",
       "  background: var(--sklearn-color-unfitted-level-0);\n",
       "  border: .5pt solid var(--sklearn-color-unfitted-level-3);\n",
       "}\n",
       "\n",
       ".sk-estimator-doc-link.fitted span {\n",
       "  /* fitted */\n",
       "  background: var(--sklearn-color-fitted-level-0);\n",
       "  border: var(--sklearn-color-fitted-level-3);\n",
       "}\n",
       "\n",
       ".sk-estimator-doc-link:hover span {\n",
       "  display: block;\n",
       "}\n",
       "\n",
       "/* \"?\"-specific style due to the `<a>` HTML tag */\n",
       "\n",
       "#sk-container-id-1 a.estimator_doc_link {\n",
       "  float: right;\n",
       "  font-size: 1rem;\n",
       "  line-height: 1em;\n",
       "  font-family: monospace;\n",
       "  background-color: var(--sklearn-color-background);\n",
       "  border-radius: 1rem;\n",
       "  height: 1rem;\n",
       "  width: 1rem;\n",
       "  text-decoration: none;\n",
       "  /* unfitted */\n",
       "  color: var(--sklearn-color-unfitted-level-1);\n",
       "  border: var(--sklearn-color-unfitted-level-1) 1pt solid;\n",
       "}\n",
       "\n",
       "#sk-container-id-1 a.estimator_doc_link.fitted {\n",
       "  /* fitted */\n",
       "  border: var(--sklearn-color-fitted-level-1) 1pt solid;\n",
       "  color: var(--sklearn-color-fitted-level-1);\n",
       "}\n",
       "\n",
       "/* On hover */\n",
       "#sk-container-id-1 a.estimator_doc_link:hover {\n",
       "  /* unfitted */\n",
       "  background-color: var(--sklearn-color-unfitted-level-3);\n",
       "  color: var(--sklearn-color-background);\n",
       "  text-decoration: none;\n",
       "}\n",
       "\n",
       "#sk-container-id-1 a.estimator_doc_link.fitted:hover {\n",
       "  /* fitted */\n",
       "  background-color: var(--sklearn-color-fitted-level-3);\n",
       "}\n",
       "</style><div id=\"sk-container-id-1\" class=\"sk-top-container\"><div class=\"sk-text-repr-fallback\"><pre>Pipeline(steps=[(&#x27;imputer&#x27;,\n",
       "                 ColumnImputer(column_imputation_mapper={&#x27;area error&#x27;: &#x27;mean&#x27;,\n",
       "                                                         &#x27;compactness error&#x27;: &#x27;mean&#x27;,\n",
       "                                                         &#x27;concave points error&#x27;: &#x27;mean&#x27;,\n",
       "                                                         &#x27;concavity error&#x27;: &#x27;mean&#x27;,\n",
       "                                                         &#x27;fractal dimension error&#x27;: &#x27;mean&#x27;,\n",
       "                                                         &#x27;mean area&#x27;: &#x27;mean&#x27;,\n",
       "                                                         &#x27;mean compactness&#x27;: &#x27;mean&#x27;,\n",
       "                                                         &#x27;mean concave points&#x27;: &#x27;mean&#x27;,\n",
       "                                                         &#x27;mean concavity&#x27;: &#x27;mean&#x27;,\n",
       "                                                         &#x27;mean fractal dimension&#x27;: &#x27;mean&#x27;,\n",
       "                                                         &#x27;mean perimeter&#x27;: &#x27;mean&#x27;,\n",
       "                                                         &#x27;mean radi...\n",
       "                                                         &#x27;worst compactness&#x27;: &#x27;mean&#x27;,\n",
       "                                                         &#x27;worst concave points&#x27;: &#x27;mean&#x27;,\n",
       "                                                         &#x27;worst concavity&#x27;: &#x27;mean&#x27;,\n",
       "                                                         &#x27;worst fractal dimension&#x27;: &#x27;mean&#x27;,\n",
       "                                                         &#x27;worst perimeter&#x27;: &#x27;mean&#x27;,\n",
       "                                                         &#x27;worst radius&#x27;: &#x27;mean&#x27;,\n",
       "                                                         &#x27;worst smoothness&#x27;: &#x27;mean&#x27;,\n",
       "                                                         &#x27;worst symmetry&#x27;: &#x27;mean&#x27;,\n",
       "                                                         &#x27;worst texture&#x27;: &#x27;mean&#x27;})),\n",
       "                (&#x27;encoder&#x27;,\n",
       "                 CategoricalEncoder(encoding_method_mapper={}, ordinal_map={})),\n",
       "                (&#x27;model&#x27;,\n",
       "                 &lt;catboost.core.CatBoostClassifier object at 0x318b4c450&gt;)])</pre><b>In a Jupyter environment, please rerun this cell to show the HTML representation or trust the notebook. <br />On GitHub, the HTML representation is unable to render, please try loading this page with nbviewer.org.</b></div><div class=\"sk-container\" hidden><div class=\"sk-item sk-dashed-wrapped\"><div class=\"sk-label-container\"><div class=\"sk-label fitted sk-toggleable\"><input class=\"sk-toggleable__control sk-hidden--visually\" id=\"sk-estimator-id-1\" type=\"checkbox\" ><label for=\"sk-estimator-id-1\" class=\"sk-toggleable__label fitted sk-toggleable__label-arrow fitted\">&nbsp;&nbsp;Pipeline<a class=\"sk-estimator-doc-link fitted\" rel=\"noreferrer\" target=\"_blank\" href=\"https://scikit-learn.org/1.5/modules/generated/sklearn.pipeline.Pipeline.html\">?<span>Documentation for Pipeline</span></a><span class=\"sk-estimator-doc-link fitted\">i<span>Fitted</span></span></label><div class=\"sk-toggleable__content fitted\"><pre>Pipeline(steps=[(&#x27;imputer&#x27;,\n",
       "                 ColumnImputer(column_imputation_mapper={&#x27;area error&#x27;: &#x27;mean&#x27;,\n",
       "                                                         &#x27;compactness error&#x27;: &#x27;mean&#x27;,\n",
       "                                                         &#x27;concave points error&#x27;: &#x27;mean&#x27;,\n",
       "                                                         &#x27;concavity error&#x27;: &#x27;mean&#x27;,\n",
       "                                                         &#x27;fractal dimension error&#x27;: &#x27;mean&#x27;,\n",
       "                                                         &#x27;mean area&#x27;: &#x27;mean&#x27;,\n",
       "                                                         &#x27;mean compactness&#x27;: &#x27;mean&#x27;,\n",
       "                                                         &#x27;mean concave points&#x27;: &#x27;mean&#x27;,\n",
       "                                                         &#x27;mean concavity&#x27;: &#x27;mean&#x27;,\n",
       "                                                         &#x27;mean fractal dimension&#x27;: &#x27;mean&#x27;,\n",
       "                                                         &#x27;mean perimeter&#x27;: &#x27;mean&#x27;,\n",
       "                                                         &#x27;mean radi...\n",
       "                                                         &#x27;worst compactness&#x27;: &#x27;mean&#x27;,\n",
       "                                                         &#x27;worst concave points&#x27;: &#x27;mean&#x27;,\n",
       "                                                         &#x27;worst concavity&#x27;: &#x27;mean&#x27;,\n",
       "                                                         &#x27;worst fractal dimension&#x27;: &#x27;mean&#x27;,\n",
       "                                                         &#x27;worst perimeter&#x27;: &#x27;mean&#x27;,\n",
       "                                                         &#x27;worst radius&#x27;: &#x27;mean&#x27;,\n",
       "                                                         &#x27;worst smoothness&#x27;: &#x27;mean&#x27;,\n",
       "                                                         &#x27;worst symmetry&#x27;: &#x27;mean&#x27;,\n",
       "                                                         &#x27;worst texture&#x27;: &#x27;mean&#x27;})),\n",
       "                (&#x27;encoder&#x27;,\n",
       "                 CategoricalEncoder(encoding_method_mapper={}, ordinal_map={})),\n",
       "                (&#x27;model&#x27;,\n",
       "                 &lt;catboost.core.CatBoostClassifier object at 0x318b4c450&gt;)])</pre></div> </div></div><div class=\"sk-serial\"><div class=\"sk-item\"><div class=\"sk-estimator fitted sk-toggleable\"><input class=\"sk-toggleable__control sk-hidden--visually\" id=\"sk-estimator-id-2\" type=\"checkbox\" ><label for=\"sk-estimator-id-2\" class=\"sk-toggleable__label fitted sk-toggleable__label-arrow fitted\">ColumnImputer</label><div class=\"sk-toggleable__content fitted\"><pre>ColumnImputer(column_imputation_mapper={&#x27;area error&#x27;: &#x27;mean&#x27;,\n",
       "                                        &#x27;compactness error&#x27;: &#x27;mean&#x27;,\n",
       "                                        &#x27;concave points error&#x27;: &#x27;mean&#x27;,\n",
       "                                        &#x27;concavity error&#x27;: &#x27;mean&#x27;,\n",
       "                                        &#x27;fractal dimension error&#x27;: &#x27;mean&#x27;,\n",
       "                                        &#x27;mean area&#x27;: &#x27;mean&#x27;,\n",
       "                                        &#x27;mean compactness&#x27;: &#x27;mean&#x27;,\n",
       "                                        &#x27;mean concave points&#x27;: &#x27;mean&#x27;,\n",
       "                                        &#x27;mean concavity&#x27;: &#x27;mean&#x27;,\n",
       "                                        &#x27;mean fractal dimension&#x27;: &#x27;mean&#x27;,\n",
       "                                        &#x27;mean perimeter&#x27;: &#x27;mean&#x27;,\n",
       "                                        &#x27;mean radius&#x27;: &#x27;mean&#x27;,\n",
       "                                        &#x27;mean smoothness&#x27;...\n",
       "                                        &#x27;perimeter error&#x27;: &#x27;mean&#x27;,\n",
       "                                        &#x27;radius error&#x27;: &#x27;mean&#x27;,\n",
       "                                        &#x27;smoothness error&#x27;: &#x27;mean&#x27;,\n",
       "                                        &#x27;symmetry error&#x27;: &#x27;mean&#x27;,\n",
       "                                        &#x27;texture error&#x27;: &#x27;mean&#x27;,\n",
       "                                        &#x27;worst area&#x27;: &#x27;mean&#x27;,\n",
       "                                        &#x27;worst compactness&#x27;: &#x27;mean&#x27;,\n",
       "                                        &#x27;worst concave points&#x27;: &#x27;mean&#x27;,\n",
       "                                        &#x27;worst concavity&#x27;: &#x27;mean&#x27;,\n",
       "                                        &#x27;worst fractal dimension&#x27;: &#x27;mean&#x27;,\n",
       "                                        &#x27;worst perimeter&#x27;: &#x27;mean&#x27;,\n",
       "                                        &#x27;worst radius&#x27;: &#x27;mean&#x27;,\n",
       "                                        &#x27;worst smoothness&#x27;: &#x27;mean&#x27;,\n",
       "                                        &#x27;worst symmetry&#x27;: &#x27;mean&#x27;,\n",
       "                                        &#x27;worst texture&#x27;: &#x27;mean&#x27;})</pre></div> </div></div><div class=\"sk-item\"><div class=\"sk-estimator fitted sk-toggleable\"><input class=\"sk-toggleable__control sk-hidden--visually\" id=\"sk-estimator-id-3\" type=\"checkbox\" ><label for=\"sk-estimator-id-3\" class=\"sk-toggleable__label fitted sk-toggleable__label-arrow fitted\">CategoricalEncoder</label><div class=\"sk-toggleable__content fitted\"><pre>CategoricalEncoder(encoding_method_mapper={}, ordinal_map={})</pre></div> </div></div><div class=\"sk-item\"><div class=\"sk-estimator fitted sk-toggleable\"><input class=\"sk-toggleable__control sk-hidden--visually\" id=\"sk-estimator-id-4\" type=\"checkbox\" ><label for=\"sk-estimator-id-4\" class=\"sk-toggleable__label fitted sk-toggleable__label-arrow fitted\">CatBoostClassifier</label><div class=\"sk-toggleable__content fitted\"><pre>&lt;catboost.core.CatBoostClassifier object at 0x318b4c450&gt;</pre></div> </div></div></div></div></div></div>"
      ],
      "text/plain": [
       "Pipeline(steps=[('imputer',\n",
       "                 ColumnImputer(column_imputation_mapper={'area error': 'mean',\n",
       "                                                         'compactness error': 'mean',\n",
       "                                                         'concave points error': 'mean',\n",
       "                                                         'concavity error': 'mean',\n",
       "                                                         'fractal dimension error': 'mean',\n",
       "                                                         'mean area': 'mean',\n",
       "                                                         'mean compactness': 'mean',\n",
       "                                                         'mean concave points': 'mean',\n",
       "                                                         'mean concavity': 'mean',\n",
       "                                                         'mean fractal dimension': 'mean',\n",
       "                                                         'mean perimeter': 'mean',\n",
       "                                                         'mean radi...\n",
       "                                                         'worst compactness': 'mean',\n",
       "                                                         'worst concave points': 'mean',\n",
       "                                                         'worst concavity': 'mean',\n",
       "                                                         'worst fractal dimension': 'mean',\n",
       "                                                         'worst perimeter': 'mean',\n",
       "                                                         'worst radius': 'mean',\n",
       "                                                         'worst smoothness': 'mean',\n",
       "                                                         'worst symmetry': 'mean',\n",
       "                                                         'worst texture': 'mean'})),\n",
       "                ('encoder',\n",
       "                 CategoricalEncoder(encoding_method_mapper={}, ordinal_map={})),\n",
       "                ('model',\n",
       "                 <catboost.core.CatBoostClassifier object at 0x318b4c450>)])"
      ]
     },
     "execution_count": 12,
     "metadata": {},
     "output_type": "execute_result"
    }
   ],
   "source": [
    "class_exp.save_model(my_tuned_lgb_model) # Saves the model with the feature engineering pipeline, you can set model_only to True If you want to save only the model"
   ]
  }
 ],
 "metadata": {
  "kernelspec": {
   "display_name": ".venv",
   "language": "python",
   "name": "python3"
  },
  "language_info": {
   "codemirror_mode": {
    "name": "ipython",
    "version": 3
   },
   "file_extension": ".py",
   "mimetype": "text/x-python",
   "name": "python",
   "nbconvert_exporter": "python",
   "pygments_lexer": "ipython3",
   "version": "3.11.9"
  }
 },
 "nbformat": 4,
 "nbformat_minor": 2
}
