{
 "cells": [
  {
   "cell_type": "markdown",
   "metadata": {},
   "source": [
    "### **FlexML:** Regression Experiment with California House Value Prediction Dataset"
   ]
  },
  {
   "cell_type": "code",
   "execution_count": 1,
   "metadata": {},
   "outputs": [],
   "source": [
    "from flexml import Regression\n",
    "from sklearn.datasets import fetch_california_housing"
   ]
  },
  {
   "cell_type": "code",
   "execution_count": 2,
   "metadata": {},
   "outputs": [
    {
     "data": {
      "text/html": [
       "<div>\n",
       "<style scoped>\n",
       "    .dataframe tbody tr th:only-of-type {\n",
       "        vertical-align: middle;\n",
       "    }\n",
       "\n",
       "    .dataframe tbody tr th {\n",
       "        vertical-align: top;\n",
       "    }\n",
       "\n",
       "    .dataframe thead th {\n",
       "        text-align: right;\n",
       "    }\n",
       "</style>\n",
       "<table border=\"1\" class=\"dataframe\">\n",
       "  <thead>\n",
       "    <tr style=\"text-align: right;\">\n",
       "      <th></th>\n",
       "      <th>MedInc</th>\n",
       "      <th>HouseAge</th>\n",
       "      <th>AveRooms</th>\n",
       "      <th>AveBedrms</th>\n",
       "      <th>Population</th>\n",
       "      <th>AveOccup</th>\n",
       "      <th>Latitude</th>\n",
       "      <th>Longitude</th>\n",
       "      <th>MedHouseVal</th>\n",
       "    </tr>\n",
       "  </thead>\n",
       "  <tbody>\n",
       "    <tr>\n",
       "      <th>0</th>\n",
       "      <td>8.3252</td>\n",
       "      <td>41.0</td>\n",
       "      <td>6.984127</td>\n",
       "      <td>1.023810</td>\n",
       "      <td>322.0</td>\n",
       "      <td>2.555556</td>\n",
       "      <td>37.88</td>\n",
       "      <td>-122.23</td>\n",
       "      <td>4.526</td>\n",
       "    </tr>\n",
       "    <tr>\n",
       "      <th>1</th>\n",
       "      <td>8.3014</td>\n",
       "      <td>21.0</td>\n",
       "      <td>6.238137</td>\n",
       "      <td>0.971880</td>\n",
       "      <td>2401.0</td>\n",
       "      <td>2.109842</td>\n",
       "      <td>37.86</td>\n",
       "      <td>-122.22</td>\n",
       "      <td>3.585</td>\n",
       "    </tr>\n",
       "    <tr>\n",
       "      <th>2</th>\n",
       "      <td>7.2574</td>\n",
       "      <td>52.0</td>\n",
       "      <td>8.288136</td>\n",
       "      <td>1.073446</td>\n",
       "      <td>496.0</td>\n",
       "      <td>2.802260</td>\n",
       "      <td>37.85</td>\n",
       "      <td>-122.24</td>\n",
       "      <td>3.521</td>\n",
       "    </tr>\n",
       "    <tr>\n",
       "      <th>3</th>\n",
       "      <td>5.6431</td>\n",
       "      <td>52.0</td>\n",
       "      <td>5.817352</td>\n",
       "      <td>1.073059</td>\n",
       "      <td>558.0</td>\n",
       "      <td>2.547945</td>\n",
       "      <td>37.85</td>\n",
       "      <td>-122.25</td>\n",
       "      <td>3.413</td>\n",
       "    </tr>\n",
       "    <tr>\n",
       "      <th>4</th>\n",
       "      <td>3.8462</td>\n",
       "      <td>52.0</td>\n",
       "      <td>6.281853</td>\n",
       "      <td>1.081081</td>\n",
       "      <td>565.0</td>\n",
       "      <td>2.181467</td>\n",
       "      <td>37.85</td>\n",
       "      <td>-122.25</td>\n",
       "      <td>3.422</td>\n",
       "    </tr>\n",
       "  </tbody>\n",
       "</table>\n",
       "</div>"
      ],
      "text/plain": [
       "   MedInc  HouseAge  AveRooms  AveBedrms  Population  AveOccup  Latitude  \\\n",
       "0  8.3252      41.0  6.984127   1.023810       322.0  2.555556     37.88   \n",
       "1  8.3014      21.0  6.238137   0.971880      2401.0  2.109842     37.86   \n",
       "2  7.2574      52.0  8.288136   1.073446       496.0  2.802260     37.85   \n",
       "3  5.6431      52.0  5.817352   1.073059       558.0  2.547945     37.85   \n",
       "4  3.8462      52.0  6.281853   1.081081       565.0  2.181467     37.85   \n",
       "\n",
       "   Longitude  MedHouseVal  \n",
       "0    -122.23        4.526  \n",
       "1    -122.22        3.585  \n",
       "2    -122.24        3.521  \n",
       "3    -122.25        3.413  \n",
       "4    -122.25        3.422  "
      ]
     },
     "execution_count": 2,
     "metadata": {},
     "output_type": "execute_result"
    }
   ],
   "source": [
    "df = fetch_california_housing(as_frame = True)['frame']\n",
    "df.head()"
   ]
  },
  {
   "cell_type": "code",
   "execution_count": 3,
   "metadata": {},
   "outputs": [
    {
     "data": {
      "text/html": [
       "<pre style=\"white-space:pre;overflow-x:auto;line-height:normal;font-family:Menlo,'DejaVu Sans Mono',consolas,'Courier New',monospace\">┏━━━━━━━━━━━━━━━━━━━━━━━━━━━━━━━━┳━━━━━━━━━━━━━━━━┓\n",
       "┃<span style=\"color: #800080; text-decoration-color: #800080; font-weight: bold\"> Attribute                      </span>┃<span style=\"color: #800080; text-decoration-color: #800080; font-weight: bold\"> Value          </span>┃\n",
       "┡━━━━━━━━━━━━━━━━━━━━━━━━━━━━━━━━╇━━━━━━━━━━━━━━━━┩\n",
       "│<span style=\"color: #7f7f7f; text-decoration-color: #7f7f7f\"> Data Shape                     </span>│ (20640, 9)     │\n",
       "│<span style=\"color: #7f7f7f; text-decoration-color: #7f7f7f\"> Target Column                  </span>│ MedHouseVal    │\n",
       "│<span style=\"color: #7f7f7f; text-decoration-color: #7f7f7f\"> Random State                   </span>│ 42             │\n",
       "│<span style=\"color: #7f7f7f; text-decoration-color: #7f7f7f\"> Categorical Imputation         </span>│ mode           │\n",
       "│<span style=\"color: #7f7f7f; text-decoration-color: #7f7f7f\"> Numerical Imputation           </span>│ mean           │\n",
       "│<span style=\"color: #7f7f7f; text-decoration-color: #7f7f7f\"> Categorical Imputation Const   </span>│ Unknown        │\n",
       "│<span style=\"color: #7f7f7f; text-decoration-color: #7f7f7f\"> Numerical Imputation Const     </span>│ 0.0            │\n",
       "│<span style=\"color: #7f7f7f; text-decoration-color: #7f7f7f\"> Encoding Method                </span>│ onehot_encoder │\n",
       "│<span style=\"color: #7f7f7f; text-decoration-color: #7f7f7f\"> One-Hot Limit                  </span>│ 25             │\n",
       "│<span style=\"color: #7f7f7f; text-decoration-color: #7f7f7f\"> Normalize                      </span>│ None           │\n",
       "│<span style=\"color: #7f7f7f; text-decoration-color: #7f7f7f\"> Shuffle                        </span>│ True           │\n",
       "│<span style=\"color: #7f7f7f; text-decoration-color: #7f7f7f\"> Logging to File                </span>│ False          │\n",
       "└────────────────────────────────┴────────────────┘\n",
       "</pre>\n"
      ],
      "text/plain": [
       "┏━━━━━━━━━━━━━━━━━━━━━━━━━━━━━━━━┳━━━━━━━━━━━━━━━━┓\n",
       "┃\u001b[1;35m \u001b[0m\u001b[1;35mAttribute                     \u001b[0m\u001b[1;35m \u001b[0m┃\u001b[1;35m \u001b[0m\u001b[1;35mValue         \u001b[0m\u001b[1;35m \u001b[0m┃\n",
       "┡━━━━━━━━━━━━━━━━━━━━━━━━━━━━━━━━╇━━━━━━━━━━━━━━━━┩\n",
       "│\u001b[2m \u001b[0m\u001b[2mData Shape                    \u001b[0m\u001b[2m \u001b[0m│ (20640, 9)     │\n",
       "│\u001b[2m \u001b[0m\u001b[2mTarget Column                 \u001b[0m\u001b[2m \u001b[0m│ MedHouseVal    │\n",
       "│\u001b[2m \u001b[0m\u001b[2mRandom State                  \u001b[0m\u001b[2m \u001b[0m│ 42             │\n",
       "│\u001b[2m \u001b[0m\u001b[2mCategorical Imputation        \u001b[0m\u001b[2m \u001b[0m│ mode           │\n",
       "│\u001b[2m \u001b[0m\u001b[2mNumerical Imputation          \u001b[0m\u001b[2m \u001b[0m│ mean           │\n",
       "│\u001b[2m \u001b[0m\u001b[2mCategorical Imputation Const  \u001b[0m\u001b[2m \u001b[0m│ Unknown        │\n",
       "│\u001b[2m \u001b[0m\u001b[2mNumerical Imputation Const    \u001b[0m\u001b[2m \u001b[0m│ 0.0            │\n",
       "│\u001b[2m \u001b[0m\u001b[2mEncoding Method               \u001b[0m\u001b[2m \u001b[0m│ onehot_encoder │\n",
       "│\u001b[2m \u001b[0m\u001b[2mOne-Hot Limit                 \u001b[0m\u001b[2m \u001b[0m│ 25             │\n",
       "│\u001b[2m \u001b[0m\u001b[2mNormalize                     \u001b[0m\u001b[2m \u001b[0m│ None           │\n",
       "│\u001b[2m \u001b[0m\u001b[2mShuffle                       \u001b[0m\u001b[2m \u001b[0m│ True           │\n",
       "│\u001b[2m \u001b[0m\u001b[2mLogging to File               \u001b[0m\u001b[2m \u001b[0m│ False          │\n",
       "└────────────────────────────────┴────────────────┘\n"
      ]
     },
     "metadata": {},
     "output_type": "display_data"
    },
    {
     "name": "stderr",
     "output_type": "stream",
     "text": [
      "INFO | 2025-04-06 14:08:32 | [PROCESS] Training the ML models with kfold validation\n",
      "INFO | Training Progress:  | ██████████ | 100%\n",
      "INFO | 2025-04-06 14:08:46 | [PROCESS] Model training is finished!\n"
     ]
    },
    {
     "data": {
      "text/html": [
       "<style type=\"text/css\">\n",
       "#T_f7599_row0_col1, #T_f7599_row0_col2, #T_f7599_row0_col3, #T_f7599_row0_col4, #T_f7599_row0_col5 {\n",
       "  background-color: green;\n",
       "}\n",
       "</style>\n",
       "<table id=\"T_f7599\">\n",
       "  <thead>\n",
       "    <tr>\n",
       "      <th class=\"blank level0\" >&nbsp;</th>\n",
       "      <th id=\"T_f7599_level0_col0\" class=\"col_heading level0 col0\" >Model Name</th>\n",
       "      <th id=\"T_f7599_level0_col1\" class=\"col_heading level0 col1\" >R2</th>\n",
       "      <th id=\"T_f7599_level0_col2\" class=\"col_heading level0 col2\" >MAE</th>\n",
       "      <th id=\"T_f7599_level0_col3\" class=\"col_heading level0 col3\" >MSE</th>\n",
       "      <th id=\"T_f7599_level0_col4\" class=\"col_heading level0 col4\" >RMSE</th>\n",
       "      <th id=\"T_f7599_level0_col5\" class=\"col_heading level0 col5\" >MAPE</th>\n",
       "      <th id=\"T_f7599_level0_col6\" class=\"col_heading level0 col6\" >Time (sec)</th>\n",
       "    </tr>\n",
       "  </thead>\n",
       "  <tbody>\n",
       "    <tr>\n",
       "      <th id=\"T_f7599_level0_row0\" class=\"row_heading level0 row0\" >1</th>\n",
       "      <td id=\"T_f7599_row0_col0\" class=\"data row0 col0\" >CatBoostRegressor</td>\n",
       "      <td id=\"T_f7599_row0_col1\" class=\"data row0 col1\" >0.852024</td>\n",
       "      <td id=\"T_f7599_row0_col2\" class=\"data row0 col2\" >0.291575</td>\n",
       "      <td id=\"T_f7599_row0_col3\" class=\"data row0 col3\" >0.196942</td>\n",
       "      <td id=\"T_f7599_row0_col4\" class=\"data row0 col4\" >0.443684</td>\n",
       "      <td id=\"T_f7599_row0_col5\" class=\"data row0 col5\" >0.162991</td>\n",
       "      <td id=\"T_f7599_row0_col6\" class=\"data row0 col6\" >6.93</td>\n",
       "    </tr>\n",
       "    <tr>\n",
       "      <th id=\"T_f7599_level0_row1\" class=\"row_heading level0 row1\" >2</th>\n",
       "      <td id=\"T_f7599_row1_col0\" class=\"data row1 col0\" >LGBMRegressor</td>\n",
       "      <td id=\"T_f7599_row1_col1\" class=\"data row1 col1\" >0.837282</td>\n",
       "      <td id=\"T_f7599_row1_col2\" class=\"data row1 col2\" >0.309548</td>\n",
       "      <td id=\"T_f7599_row1_col3\" class=\"data row1 col3\" >0.216548</td>\n",
       "      <td id=\"T_f7599_row1_col4\" class=\"data row1 col4\" >0.465227</td>\n",
       "      <td id=\"T_f7599_row1_col5\" class=\"data row1 col5\" >0.175458</td>\n",
       "      <td id=\"T_f7599_row1_col6\" class=\"data row1 col6\" >2.24</td>\n",
       "    </tr>\n",
       "    <tr>\n",
       "      <th id=\"T_f7599_level0_row2\" class=\"row_heading level0 row2\" >3</th>\n",
       "      <td id=\"T_f7599_row2_col0\" class=\"data row2 col0\" >XGBRegressor</td>\n",
       "      <td id=\"T_f7599_row2_col1\" class=\"data row2 col1\" >0.834695</td>\n",
       "      <td id=\"T_f7599_row2_col2\" class=\"data row2 col2\" >0.307479</td>\n",
       "      <td id=\"T_f7599_row2_col3\" class=\"data row2 col3\" >0.219990</td>\n",
       "      <td id=\"T_f7599_row2_col4\" class=\"data row2 col4\" >0.468914</td>\n",
       "      <td id=\"T_f7599_row2_col5\" class=\"data row2 col5\" >0.171952</td>\n",
       "      <td id=\"T_f7599_row2_col6\" class=\"data row2 col6\" >1.66</td>\n",
       "    </tr>\n",
       "    <tr>\n",
       "      <th id=\"T_f7599_level0_row3\" class=\"row_heading level0 row3\" >4</th>\n",
       "      <td id=\"T_f7599_row3_col0\" class=\"data row3 col0\" >DecisionTreeRegressor</td>\n",
       "      <td id=\"T_f7599_row3_col1\" class=\"data row3 col1\" >0.613782</td>\n",
       "      <td id=\"T_f7599_row3_col2\" class=\"data row3 col2\" >0.459651</td>\n",
       "      <td id=\"T_f7599_row3_col3\" class=\"data row3 col3\" >0.514159</td>\n",
       "      <td id=\"T_f7599_row3_col4\" class=\"data row3 col4\" >0.717004</td>\n",
       "      <td id=\"T_f7599_row3_col5\" class=\"data row3 col5\" >0.250717</td>\n",
       "      <td id=\"T_f7599_row3_col6\" class=\"data row3 col6\" >0.70</td>\n",
       "    </tr>\n",
       "    <tr>\n",
       "      <th id=\"T_f7599_level0_row4\" class=\"row_heading level0 row4\" >5</th>\n",
       "      <td id=\"T_f7599_row4_col0\" class=\"data row4 col0\" >Ridge</td>\n",
       "      <td id=\"T_f7599_row4_col1\" class=\"data row4 col1\" >0.601385</td>\n",
       "      <td id=\"T_f7599_row4_col2\" class=\"data row4 col2\" >0.531686</td>\n",
       "      <td id=\"T_f7599_row4_col3\" class=\"data row4 col3\" >0.530564</td>\n",
       "      <td id=\"T_f7599_row4_col4\" class=\"data row4 col4\" >0.728245</td>\n",
       "      <td id=\"T_f7599_row4_col5\" class=\"data row4 col5\" >0.317594</td>\n",
       "      <td id=\"T_f7599_row4_col6\" class=\"data row4 col6\" >0.02</td>\n",
       "    </tr>\n",
       "    <tr>\n",
       "      <th id=\"T_f7599_level0_row5\" class=\"row_heading level0 row5\" >6</th>\n",
       "      <td id=\"T_f7599_row5_col0\" class=\"data row5 col0\" >LinearRegression</td>\n",
       "      <td id=\"T_f7599_row5_col1\" class=\"data row5 col1\" >0.601378</td>\n",
       "      <td id=\"T_f7599_row5_col2\" class=\"data row5 col2\" >0.531677</td>\n",
       "      <td id=\"T_f7599_row5_col3\" class=\"data row5 col3\" >0.530572</td>\n",
       "      <td id=\"T_f7599_row5_col4\" class=\"data row5 col4\" >0.728251</td>\n",
       "      <td id=\"T_f7599_row5_col5\" class=\"data row5 col5\" >0.317588</td>\n",
       "      <td id=\"T_f7599_row5_col6\" class=\"data row5 col6\" >0.00</td>\n",
       "    </tr>\n",
       "    <tr>\n",
       "      <th id=\"T_f7599_level0_row6\" class=\"row_heading level0 row6\" >7</th>\n",
       "      <td id=\"T_f7599_row6_col0\" class=\"data row6 col0\" >ElasticNet</td>\n",
       "      <td id=\"T_f7599_row6_col1\" class=\"data row6 col1\" >0.422752</td>\n",
       "      <td id=\"T_f7599_row6_col2\" class=\"data row6 col2\" >0.679422</td>\n",
       "      <td id=\"T_f7599_row6_col3\" class=\"data row6 col3\" >0.768426</td>\n",
       "      <td id=\"T_f7599_row6_col4\" class=\"data row6 col4\" >0.876568</td>\n",
       "      <td id=\"T_f7599_row6_col5\" class=\"data row6 col5\" >0.453446</td>\n",
       "      <td id=\"T_f7599_row6_col6\" class=\"data row6 col6\" >0.00</td>\n",
       "    </tr>\n",
       "    <tr>\n",
       "      <th id=\"T_f7599_level0_row7\" class=\"row_heading level0 row7\" >8</th>\n",
       "      <td id=\"T_f7599_row7_col0\" class=\"data row7 col0\" >Lasso</td>\n",
       "      <td id=\"T_f7599_row7_col1\" class=\"data row7 col1\" >0.284865</td>\n",
       "      <td id=\"T_f7599_row7_col2\" class=\"data row7 col2\" >0.767992</td>\n",
       "      <td id=\"T_f7599_row7_col3\" class=\"data row7 col3\" >0.952078</td>\n",
       "      <td id=\"T_f7599_row7_col4\" class=\"data row7 col4\" >0.975702</td>\n",
       "      <td id=\"T_f7599_row7_col5\" class=\"data row7 col5\" >0.520122</td>\n",
       "      <td id=\"T_f7599_row7_col6\" class=\"data row7 col6\" >0.01</td>\n",
       "    </tr>\n",
       "    <tr>\n",
       "      <th id=\"T_f7599_level0_row8\" class=\"row_heading level0 row8\" >9</th>\n",
       "      <td id=\"T_f7599_row8_col0\" class=\"data row8 col0\" >HuberRegressor</td>\n",
       "      <td id=\"T_f7599_row8_col1\" class=\"data row8 col1\" >-2.166381</td>\n",
       "      <td id=\"T_f7599_row8_col2\" class=\"data row8 col2\" >0.590900</td>\n",
       "      <td id=\"T_f7599_row8_col3\" class=\"data row8 col3\" >4.220209</td>\n",
       "      <td id=\"T_f7599_row8_col4\" class=\"data row8 col4\" >1.535683</td>\n",
       "      <td id=\"T_f7599_row8_col5\" class=\"data row8 col5\" >0.343810</td>\n",
       "      <td id=\"T_f7599_row8_col6\" class=\"data row8 col6\" >1.79</td>\n",
       "    </tr>\n",
       "  </tbody>\n",
       "</table>\n"
      ],
      "text/plain": [
       "<pandas.io.formats.style.Styler at 0x1760fa450>"
      ]
     },
     "metadata": {},
     "output_type": "display_data"
    }
   ],
   "source": [
    "reg_exp = Regression(data=df, target_col=\"MedHouseVal\") \n",
    "reg_exp.start_experiment(experiment_size=\"quick\") \n",
    "\n",
    "# By default, FlexML runs in 'quick' mode to run the most popular and fast models for faster results.\n",
    "# Default evaluation metric for Regression tasks is 'r2'\n",
    "\n",
    "# You can change your model evaluation parameters such as;\n",
    "  # cv_method (default = 'kfold' for Regression, 'stratified_kfold' for Classification)\n",
    "  # n_folds (default = 5)\n",
    "  # test_size (default = 0.25 If cv_method is 'holdout', else None)\n",
    "  # groups_col (default = None)"
   ]
  },
  {
   "cell_type": "code",
   "execution_count": 4,
   "metadata": {},
   "outputs": [
    {
     "data": {
      "text/html": [
       "<style type=\"text/css\">\n",
       "#T_793b9_row0_col1, #T_793b9_row0_col2, #T_793b9_row0_col3, #T_793b9_row0_col4, #T_793b9_row0_col5 {\n",
       "  background-color: green;\n",
       "}\n",
       "</style>\n",
       "<table id=\"T_793b9\">\n",
       "  <thead>\n",
       "    <tr>\n",
       "      <th class=\"blank level0\" >&nbsp;</th>\n",
       "      <th id=\"T_793b9_level0_col0\" class=\"col_heading level0 col0\" >Model Name</th>\n",
       "      <th id=\"T_793b9_level0_col1\" class=\"col_heading level0 col1\" >R2</th>\n",
       "      <th id=\"T_793b9_level0_col2\" class=\"col_heading level0 col2\" >MAE</th>\n",
       "      <th id=\"T_793b9_level0_col3\" class=\"col_heading level0 col3\" >MSE</th>\n",
       "      <th id=\"T_793b9_level0_col4\" class=\"col_heading level0 col4\" >RMSE</th>\n",
       "      <th id=\"T_793b9_level0_col5\" class=\"col_heading level0 col5\" >MAPE</th>\n",
       "      <th id=\"T_793b9_level0_col6\" class=\"col_heading level0 col6\" >Time (sec)</th>\n",
       "    </tr>\n",
       "  </thead>\n",
       "  <tbody>\n",
       "    <tr>\n",
       "      <th id=\"T_793b9_level0_row0\" class=\"row_heading level0 row0\" >1</th>\n",
       "      <td id=\"T_793b9_row0_col0\" class=\"data row0 col0\" >CatBoostRegressor</td>\n",
       "      <td id=\"T_793b9_row0_col1\" class=\"data row0 col1\" >0.852024</td>\n",
       "      <td id=\"T_793b9_row0_col2\" class=\"data row0 col2\" >0.291575</td>\n",
       "      <td id=\"T_793b9_row0_col3\" class=\"data row0 col3\" >0.196942</td>\n",
       "      <td id=\"T_793b9_row0_col4\" class=\"data row0 col4\" >0.443684</td>\n",
       "      <td id=\"T_793b9_row0_col5\" class=\"data row0 col5\" >0.162991</td>\n",
       "      <td id=\"T_793b9_row0_col6\" class=\"data row0 col6\" >6.93</td>\n",
       "    </tr>\n",
       "    <tr>\n",
       "      <th id=\"T_793b9_level0_row1\" class=\"row_heading level0 row1\" >2</th>\n",
       "      <td id=\"T_793b9_row1_col0\" class=\"data row1 col0\" >LGBMRegressor</td>\n",
       "      <td id=\"T_793b9_row1_col1\" class=\"data row1 col1\" >0.837282</td>\n",
       "      <td id=\"T_793b9_row1_col2\" class=\"data row1 col2\" >0.309548</td>\n",
       "      <td id=\"T_793b9_row1_col3\" class=\"data row1 col3\" >0.216548</td>\n",
       "      <td id=\"T_793b9_row1_col4\" class=\"data row1 col4\" >0.465227</td>\n",
       "      <td id=\"T_793b9_row1_col5\" class=\"data row1 col5\" >0.175458</td>\n",
       "      <td id=\"T_793b9_row1_col6\" class=\"data row1 col6\" >2.24</td>\n",
       "    </tr>\n",
       "    <tr>\n",
       "      <th id=\"T_793b9_level0_row2\" class=\"row_heading level0 row2\" >3</th>\n",
       "      <td id=\"T_793b9_row2_col0\" class=\"data row2 col0\" >XGBRegressor</td>\n",
       "      <td id=\"T_793b9_row2_col1\" class=\"data row2 col1\" >0.834695</td>\n",
       "      <td id=\"T_793b9_row2_col2\" class=\"data row2 col2\" >0.307479</td>\n",
       "      <td id=\"T_793b9_row2_col3\" class=\"data row2 col3\" >0.219990</td>\n",
       "      <td id=\"T_793b9_row2_col4\" class=\"data row2 col4\" >0.468914</td>\n",
       "      <td id=\"T_793b9_row2_col5\" class=\"data row2 col5\" >0.171952</td>\n",
       "      <td id=\"T_793b9_row2_col6\" class=\"data row2 col6\" >1.66</td>\n",
       "    </tr>\n",
       "    <tr>\n",
       "      <th id=\"T_793b9_level0_row3\" class=\"row_heading level0 row3\" >4</th>\n",
       "      <td id=\"T_793b9_row3_col0\" class=\"data row3 col0\" >DecisionTreeRegressor</td>\n",
       "      <td id=\"T_793b9_row3_col1\" class=\"data row3 col1\" >0.613782</td>\n",
       "      <td id=\"T_793b9_row3_col2\" class=\"data row3 col2\" >0.459651</td>\n",
       "      <td id=\"T_793b9_row3_col3\" class=\"data row3 col3\" >0.514159</td>\n",
       "      <td id=\"T_793b9_row3_col4\" class=\"data row3 col4\" >0.717004</td>\n",
       "      <td id=\"T_793b9_row3_col5\" class=\"data row3 col5\" >0.250717</td>\n",
       "      <td id=\"T_793b9_row3_col6\" class=\"data row3 col6\" >0.70</td>\n",
       "    </tr>\n",
       "    <tr>\n",
       "      <th id=\"T_793b9_level0_row4\" class=\"row_heading level0 row4\" >5</th>\n",
       "      <td id=\"T_793b9_row4_col0\" class=\"data row4 col0\" >Ridge</td>\n",
       "      <td id=\"T_793b9_row4_col1\" class=\"data row4 col1\" >0.601385</td>\n",
       "      <td id=\"T_793b9_row4_col2\" class=\"data row4 col2\" >0.531686</td>\n",
       "      <td id=\"T_793b9_row4_col3\" class=\"data row4 col3\" >0.530564</td>\n",
       "      <td id=\"T_793b9_row4_col4\" class=\"data row4 col4\" >0.728245</td>\n",
       "      <td id=\"T_793b9_row4_col5\" class=\"data row4 col5\" >0.317594</td>\n",
       "      <td id=\"T_793b9_row4_col6\" class=\"data row4 col6\" >0.02</td>\n",
       "    </tr>\n",
       "    <tr>\n",
       "      <th id=\"T_793b9_level0_row5\" class=\"row_heading level0 row5\" >6</th>\n",
       "      <td id=\"T_793b9_row5_col0\" class=\"data row5 col0\" >LinearRegression</td>\n",
       "      <td id=\"T_793b9_row5_col1\" class=\"data row5 col1\" >0.601378</td>\n",
       "      <td id=\"T_793b9_row5_col2\" class=\"data row5 col2\" >0.531677</td>\n",
       "      <td id=\"T_793b9_row5_col3\" class=\"data row5 col3\" >0.530572</td>\n",
       "      <td id=\"T_793b9_row5_col4\" class=\"data row5 col4\" >0.728251</td>\n",
       "      <td id=\"T_793b9_row5_col5\" class=\"data row5 col5\" >0.317588</td>\n",
       "      <td id=\"T_793b9_row5_col6\" class=\"data row5 col6\" >0.00</td>\n",
       "    </tr>\n",
       "    <tr>\n",
       "      <th id=\"T_793b9_level0_row6\" class=\"row_heading level0 row6\" >7</th>\n",
       "      <td id=\"T_793b9_row6_col0\" class=\"data row6 col0\" >ElasticNet</td>\n",
       "      <td id=\"T_793b9_row6_col1\" class=\"data row6 col1\" >0.422752</td>\n",
       "      <td id=\"T_793b9_row6_col2\" class=\"data row6 col2\" >0.679422</td>\n",
       "      <td id=\"T_793b9_row6_col3\" class=\"data row6 col3\" >0.768426</td>\n",
       "      <td id=\"T_793b9_row6_col4\" class=\"data row6 col4\" >0.876568</td>\n",
       "      <td id=\"T_793b9_row6_col5\" class=\"data row6 col5\" >0.453446</td>\n",
       "      <td id=\"T_793b9_row6_col6\" class=\"data row6 col6\" >0.00</td>\n",
       "    </tr>\n",
       "    <tr>\n",
       "      <th id=\"T_793b9_level0_row7\" class=\"row_heading level0 row7\" >8</th>\n",
       "      <td id=\"T_793b9_row7_col0\" class=\"data row7 col0\" >Lasso</td>\n",
       "      <td id=\"T_793b9_row7_col1\" class=\"data row7 col1\" >0.284865</td>\n",
       "      <td id=\"T_793b9_row7_col2\" class=\"data row7 col2\" >0.767992</td>\n",
       "      <td id=\"T_793b9_row7_col3\" class=\"data row7 col3\" >0.952078</td>\n",
       "      <td id=\"T_793b9_row7_col4\" class=\"data row7 col4\" >0.975702</td>\n",
       "      <td id=\"T_793b9_row7_col5\" class=\"data row7 col5\" >0.520122</td>\n",
       "      <td id=\"T_793b9_row7_col6\" class=\"data row7 col6\" >0.01</td>\n",
       "    </tr>\n",
       "    <tr>\n",
       "      <th id=\"T_793b9_level0_row8\" class=\"row_heading level0 row8\" >9</th>\n",
       "      <td id=\"T_793b9_row8_col0\" class=\"data row8 col0\" >HuberRegressor</td>\n",
       "      <td id=\"T_793b9_row8_col1\" class=\"data row8 col1\" >-2.166381</td>\n",
       "      <td id=\"T_793b9_row8_col2\" class=\"data row8 col2\" >0.590900</td>\n",
       "      <td id=\"T_793b9_row8_col3\" class=\"data row8 col3\" >4.220209</td>\n",
       "      <td id=\"T_793b9_row8_col4\" class=\"data row8 col4\" >1.535683</td>\n",
       "      <td id=\"T_793b9_row8_col5\" class=\"data row8 col5\" >0.343810</td>\n",
       "      <td id=\"T_793b9_row8_col6\" class=\"data row8 col6\" >1.79</td>\n",
       "    </tr>\n",
       "  </tbody>\n",
       "</table>\n"
      ],
      "text/plain": [
       "<pandas.io.formats.style.Styler at 0x16ba7a7d0>"
      ]
     },
     "metadata": {},
     "output_type": "display_data"
    }
   ],
   "source": [
    "# You can also display the model stats after the experiment is done with a desired evaluation metric, default is \"r2\"\n",
    "reg_exp.show_model_stats(eval_metric=\"r2\")"
   ]
  },
  {
   "cell_type": "code",
   "execution_count": 5,
   "metadata": {},
   "outputs": [],
   "source": [
    "\"\"\"\n",
    "* You can get the best model(s) by calling get_best_models() method\n",
    "    - top_n_models: default is 1, If you want to get only one model, you will get a model object, else\n",
    "    - you will get a list of model objects\n",
    "* By default, get_best_models() function returns the best model(s) based on the evaluation metric used in the start_experiment()\n",
    "* But you can reorder the models by passing eval_metric parameter to get_best_models()\n",
    "\"\"\"\n",
    "best_model = reg_exp.get_best_models(top_n_models=1)\n",
    "\n",
    "# Optionally, you can get the any model object by \"model_name\" value in the show_model_stats() output\n",
    "example_model = reg_exp.get_model_by_name(\"CatBoostRegressor\")"
   ]
  },
  {
   "cell_type": "code",
   "execution_count": 7,
   "metadata": {},
   "outputs": [
    {
     "data": {
      "application/vnd.plotly.v1+json": {
       "config": {
        "plotlyServerURL": "https://plot.ly"
       },
       "data": [
        {
         "marker": {
          "color": {
           "bdata": "hhZEHz8dQEDgIe7wu0M1QK3H4OEzSTNAIksQ3RIFLEDjNazruX0WQJU45fcpYA1AvfD3TxXC/z/lA5kTN+f+Pw==",
           "dtype": "f8"
          },
          "colorscale": [
           [
            0,
            "#440154"
           ],
           [
            0.1111111111111111,
            "#482878"
           ],
           [
            0.2222222222222222,
            "#3e4989"
           ],
           [
            0.3333333333333333,
            "#31688e"
           ],
           [
            0.4444444444444444,
            "#26828e"
           ],
           [
            0.5555555555555556,
            "#1f9e89"
           ],
           [
            0.6666666666666666,
            "#35b779"
           ],
           [
            0.7777777777777778,
            "#6ece58"
           ],
           [
            0.8888888888888888,
            "#b5de2b"
           ],
           [
            1,
            "#fde725"
           ]
          ]
         },
         "orientation": "h",
         "type": "bar",
         "x": {
          "bdata": "hhZEHz8dQEDgIe7wu0M1QK3H4OEzSTNAIksQ3RIFLEDjNazruX0WQJU45fcpYA1AvfD3TxXC/z/lA5kTN+f+Pw==",
          "dtype": "f8"
         },
         "y": [
          "MedInc",
          "Latitude",
          "Longitude",
          "AveOccup",
          "HouseAge",
          "AveRooms",
          "Population",
          "AveBedrms"
         ]
        }
       ],
       "layout": {
        "height": 600,
        "template": {
         "data": {
          "bar": [
           {
            "error_x": {
             "color": "#2a3f5f"
            },
            "error_y": {
             "color": "#2a3f5f"
            },
            "marker": {
             "line": {
              "color": "#E5ECF6",
              "width": 0.5
             },
             "pattern": {
              "fillmode": "overlay",
              "size": 10,
              "solidity": 0.2
             }
            },
            "type": "bar"
           }
          ],
          "barpolar": [
           {
            "marker": {
             "line": {
              "color": "#E5ECF6",
              "width": 0.5
             },
             "pattern": {
              "fillmode": "overlay",
              "size": 10,
              "solidity": 0.2
             }
            },
            "type": "barpolar"
           }
          ],
          "carpet": [
           {
            "aaxis": {
             "endlinecolor": "#2a3f5f",
             "gridcolor": "white",
             "linecolor": "white",
             "minorgridcolor": "white",
             "startlinecolor": "#2a3f5f"
            },
            "baxis": {
             "endlinecolor": "#2a3f5f",
             "gridcolor": "white",
             "linecolor": "white",
             "minorgridcolor": "white",
             "startlinecolor": "#2a3f5f"
            },
            "type": "carpet"
           }
          ],
          "choropleth": [
           {
            "colorbar": {
             "outlinewidth": 0,
             "ticks": ""
            },
            "type": "choropleth"
           }
          ],
          "contour": [
           {
            "colorbar": {
             "outlinewidth": 0,
             "ticks": ""
            },
            "colorscale": [
             [
              0,
              "#0d0887"
             ],
             [
              0.1111111111111111,
              "#46039f"
             ],
             [
              0.2222222222222222,
              "#7201a8"
             ],
             [
              0.3333333333333333,
              "#9c179e"
             ],
             [
              0.4444444444444444,
              "#bd3786"
             ],
             [
              0.5555555555555556,
              "#d8576b"
             ],
             [
              0.6666666666666666,
              "#ed7953"
             ],
             [
              0.7777777777777778,
              "#fb9f3a"
             ],
             [
              0.8888888888888888,
              "#fdca26"
             ],
             [
              1,
              "#f0f921"
             ]
            ],
            "type": "contour"
           }
          ],
          "contourcarpet": [
           {
            "colorbar": {
             "outlinewidth": 0,
             "ticks": ""
            },
            "type": "contourcarpet"
           }
          ],
          "heatmap": [
           {
            "colorbar": {
             "outlinewidth": 0,
             "ticks": ""
            },
            "colorscale": [
             [
              0,
              "#0d0887"
             ],
             [
              0.1111111111111111,
              "#46039f"
             ],
             [
              0.2222222222222222,
              "#7201a8"
             ],
             [
              0.3333333333333333,
              "#9c179e"
             ],
             [
              0.4444444444444444,
              "#bd3786"
             ],
             [
              0.5555555555555556,
              "#d8576b"
             ],
             [
              0.6666666666666666,
              "#ed7953"
             ],
             [
              0.7777777777777778,
              "#fb9f3a"
             ],
             [
              0.8888888888888888,
              "#fdca26"
             ],
             [
              1,
              "#f0f921"
             ]
            ],
            "type": "heatmap"
           }
          ],
          "histogram": [
           {
            "marker": {
             "pattern": {
              "fillmode": "overlay",
              "size": 10,
              "solidity": 0.2
             }
            },
            "type": "histogram"
           }
          ],
          "histogram2d": [
           {
            "colorbar": {
             "outlinewidth": 0,
             "ticks": ""
            },
            "colorscale": [
             [
              0,
              "#0d0887"
             ],
             [
              0.1111111111111111,
              "#46039f"
             ],
             [
              0.2222222222222222,
              "#7201a8"
             ],
             [
              0.3333333333333333,
              "#9c179e"
             ],
             [
              0.4444444444444444,
              "#bd3786"
             ],
             [
              0.5555555555555556,
              "#d8576b"
             ],
             [
              0.6666666666666666,
              "#ed7953"
             ],
             [
              0.7777777777777778,
              "#fb9f3a"
             ],
             [
              0.8888888888888888,
              "#fdca26"
             ],
             [
              1,
              "#f0f921"
             ]
            ],
            "type": "histogram2d"
           }
          ],
          "histogram2dcontour": [
           {
            "colorbar": {
             "outlinewidth": 0,
             "ticks": ""
            },
            "colorscale": [
             [
              0,
              "#0d0887"
             ],
             [
              0.1111111111111111,
              "#46039f"
             ],
             [
              0.2222222222222222,
              "#7201a8"
             ],
             [
              0.3333333333333333,
              "#9c179e"
             ],
             [
              0.4444444444444444,
              "#bd3786"
             ],
             [
              0.5555555555555556,
              "#d8576b"
             ],
             [
              0.6666666666666666,
              "#ed7953"
             ],
             [
              0.7777777777777778,
              "#fb9f3a"
             ],
             [
              0.8888888888888888,
              "#fdca26"
             ],
             [
              1,
              "#f0f921"
             ]
            ],
            "type": "histogram2dcontour"
           }
          ],
          "mesh3d": [
           {
            "colorbar": {
             "outlinewidth": 0,
             "ticks": ""
            },
            "type": "mesh3d"
           }
          ],
          "parcoords": [
           {
            "line": {
             "colorbar": {
              "outlinewidth": 0,
              "ticks": ""
             }
            },
            "type": "parcoords"
           }
          ],
          "pie": [
           {
            "automargin": true,
            "type": "pie"
           }
          ],
          "scatter": [
           {
            "fillpattern": {
             "fillmode": "overlay",
             "size": 10,
             "solidity": 0.2
            },
            "type": "scatter"
           }
          ],
          "scatter3d": [
           {
            "line": {
             "colorbar": {
              "outlinewidth": 0,
              "ticks": ""
             }
            },
            "marker": {
             "colorbar": {
              "outlinewidth": 0,
              "ticks": ""
             }
            },
            "type": "scatter3d"
           }
          ],
          "scattercarpet": [
           {
            "marker": {
             "colorbar": {
              "outlinewidth": 0,
              "ticks": ""
             }
            },
            "type": "scattercarpet"
           }
          ],
          "scattergeo": [
           {
            "marker": {
             "colorbar": {
              "outlinewidth": 0,
              "ticks": ""
             }
            },
            "type": "scattergeo"
           }
          ],
          "scattergl": [
           {
            "marker": {
             "colorbar": {
              "outlinewidth": 0,
              "ticks": ""
             }
            },
            "type": "scattergl"
           }
          ],
          "scattermap": [
           {
            "marker": {
             "colorbar": {
              "outlinewidth": 0,
              "ticks": ""
             }
            },
            "type": "scattermap"
           }
          ],
          "scattermapbox": [
           {
            "marker": {
             "colorbar": {
              "outlinewidth": 0,
              "ticks": ""
             }
            },
            "type": "scattermapbox"
           }
          ],
          "scatterpolar": [
           {
            "marker": {
             "colorbar": {
              "outlinewidth": 0,
              "ticks": ""
             }
            },
            "type": "scatterpolar"
           }
          ],
          "scatterpolargl": [
           {
            "marker": {
             "colorbar": {
              "outlinewidth": 0,
              "ticks": ""
             }
            },
            "type": "scatterpolargl"
           }
          ],
          "scatterternary": [
           {
            "marker": {
             "colorbar": {
              "outlinewidth": 0,
              "ticks": ""
             }
            },
            "type": "scatterternary"
           }
          ],
          "surface": [
           {
            "colorbar": {
             "outlinewidth": 0,
             "ticks": ""
            },
            "colorscale": [
             [
              0,
              "#0d0887"
             ],
             [
              0.1111111111111111,
              "#46039f"
             ],
             [
              0.2222222222222222,
              "#7201a8"
             ],
             [
              0.3333333333333333,
              "#9c179e"
             ],
             [
              0.4444444444444444,
              "#bd3786"
             ],
             [
              0.5555555555555556,
              "#d8576b"
             ],
             [
              0.6666666666666666,
              "#ed7953"
             ],
             [
              0.7777777777777778,
              "#fb9f3a"
             ],
             [
              0.8888888888888888,
              "#fdca26"
             ],
             [
              1,
              "#f0f921"
             ]
            ],
            "type": "surface"
           }
          ],
          "table": [
           {
            "cells": {
             "fill": {
              "color": "#EBF0F8"
             },
             "line": {
              "color": "white"
             }
            },
            "header": {
             "fill": {
              "color": "#C8D4E3"
             },
             "line": {
              "color": "white"
             }
            },
            "type": "table"
           }
          ]
         },
         "layout": {
          "annotationdefaults": {
           "arrowcolor": "#2a3f5f",
           "arrowhead": 0,
           "arrowwidth": 1
          },
          "autotypenumbers": "strict",
          "coloraxis": {
           "colorbar": {
            "outlinewidth": 0,
            "ticks": ""
           }
          },
          "colorscale": {
           "diverging": [
            [
             0,
             "#8e0152"
            ],
            [
             0.1,
             "#c51b7d"
            ],
            [
             0.2,
             "#de77ae"
            ],
            [
             0.3,
             "#f1b6da"
            ],
            [
             0.4,
             "#fde0ef"
            ],
            [
             0.5,
             "#f7f7f7"
            ],
            [
             0.6,
             "#e6f5d0"
            ],
            [
             0.7,
             "#b8e186"
            ],
            [
             0.8,
             "#7fbc41"
            ],
            [
             0.9,
             "#4d9221"
            ],
            [
             1,
             "#276419"
            ]
           ],
           "sequential": [
            [
             0,
             "#0d0887"
            ],
            [
             0.1111111111111111,
             "#46039f"
            ],
            [
             0.2222222222222222,
             "#7201a8"
            ],
            [
             0.3333333333333333,
             "#9c179e"
            ],
            [
             0.4444444444444444,
             "#bd3786"
            ],
            [
             0.5555555555555556,
             "#d8576b"
            ],
            [
             0.6666666666666666,
             "#ed7953"
            ],
            [
             0.7777777777777778,
             "#fb9f3a"
            ],
            [
             0.8888888888888888,
             "#fdca26"
            ],
            [
             1,
             "#f0f921"
            ]
           ],
           "sequentialminus": [
            [
             0,
             "#0d0887"
            ],
            [
             0.1111111111111111,
             "#46039f"
            ],
            [
             0.2222222222222222,
             "#7201a8"
            ],
            [
             0.3333333333333333,
             "#9c179e"
            ],
            [
             0.4444444444444444,
             "#bd3786"
            ],
            [
             0.5555555555555556,
             "#d8576b"
            ],
            [
             0.6666666666666666,
             "#ed7953"
            ],
            [
             0.7777777777777778,
             "#fb9f3a"
            ],
            [
             0.8888888888888888,
             "#fdca26"
            ],
            [
             1,
             "#f0f921"
            ]
           ]
          },
          "colorway": [
           "#636efa",
           "#EF553B",
           "#00cc96",
           "#ab63fa",
           "#FFA15A",
           "#19d3f3",
           "#FF6692",
           "#B6E880",
           "#FF97FF",
           "#FECB52"
          ],
          "font": {
           "color": "#2a3f5f"
          },
          "geo": {
           "bgcolor": "white",
           "lakecolor": "white",
           "landcolor": "#E5ECF6",
           "showlakes": true,
           "showland": true,
           "subunitcolor": "white"
          },
          "hoverlabel": {
           "align": "left"
          },
          "hovermode": "closest",
          "mapbox": {
           "style": "light"
          },
          "paper_bgcolor": "white",
          "plot_bgcolor": "#E5ECF6",
          "polar": {
           "angularaxis": {
            "gridcolor": "white",
            "linecolor": "white",
            "ticks": ""
           },
           "bgcolor": "#E5ECF6",
           "radialaxis": {
            "gridcolor": "white",
            "linecolor": "white",
            "ticks": ""
           }
          },
          "scene": {
           "xaxis": {
            "backgroundcolor": "#E5ECF6",
            "gridcolor": "white",
            "gridwidth": 2,
            "linecolor": "white",
            "showbackground": true,
            "ticks": "",
            "zerolinecolor": "white"
           },
           "yaxis": {
            "backgroundcolor": "#E5ECF6",
            "gridcolor": "white",
            "gridwidth": 2,
            "linecolor": "white",
            "showbackground": true,
            "ticks": "",
            "zerolinecolor": "white"
           },
           "zaxis": {
            "backgroundcolor": "#E5ECF6",
            "gridcolor": "white",
            "gridwidth": 2,
            "linecolor": "white",
            "showbackground": true,
            "ticks": "",
            "zerolinecolor": "white"
           }
          },
          "shapedefaults": {
           "line": {
            "color": "#2a3f5f"
           }
          },
          "ternary": {
           "aaxis": {
            "gridcolor": "white",
            "linecolor": "white",
            "ticks": ""
           },
           "baxis": {
            "gridcolor": "white",
            "linecolor": "white",
            "ticks": ""
           },
           "bgcolor": "#E5ECF6",
           "caxis": {
            "gridcolor": "white",
            "linecolor": "white",
            "ticks": ""
           }
          },
          "title": {
           "x": 0.05
          },
          "xaxis": {
           "automargin": true,
           "gridcolor": "white",
           "linecolor": "white",
           "ticks": "",
           "title": {
            "standoff": 15
           },
           "zerolinecolor": "white",
           "zerolinewidth": 2
          },
          "yaxis": {
           "automargin": true,
           "gridcolor": "white",
           "linecolor": "white",
           "ticks": "",
           "title": {
            "standoff": 15
           },
           "zerolinecolor": "white",
           "zerolinewidth": 2
          }
         }
        },
        "title": {
         "text": "Feature Importance for CatBoostRegressor (Top 20 Features)"
        },
        "width": 800,
        "xaxis": {
         "title": {
          "text": "Importance"
         }
        },
        "yaxis": {
         "autorange": "reversed",
         "title": {
          "text": "Features"
         }
        }
       }
      }
     },
     "metadata": {},
     "output_type": "display_data"
    }
   ],
   "source": [
    "# Plot model evaluation graphs for a desired model\n",
    "\n",
    "\"\"\"\n",
    "Available 'kind' values for Regression:\n",
    "- \"feature_importance\" (default)\n",
    "- \"residuals\"\n",
    "- \"prediction_error\"\n",
    "- \"calibration_curve\"\n",
    "- \"shap_summary\"\n",
    "- \"shap_violin\"\n",
    "\n",
    "You can play with extra parameters for the plot function for some of the kinds, check out func doc of plot() method for more details\n",
    "\"\"\"\n",
    "reg_exp.plot(model=\"CatBoostRegressor\")"
   ]
  },
  {
   "cell_type": "code",
   "execution_count": 8,
   "metadata": {},
   "outputs": [
    {
     "name": "stderr",
     "output_type": "stream",
     "text": [
      "INFO | 2025-04-06 14:08:48 | [PROCESS] Model Tuning process started with 'optuna' method\n"
     ]
    },
    {
     "data": {
      "text/html": [
       "<style type=\"text/css\">\n",
       "#T_e65df_row0_col1, #T_e65df_row0_col2, #T_e65df_row0_col3, #T_e65df_row0_col4, #T_e65df_row0_col5 {\n",
       "  background-color: green;\n",
       "}\n",
       "</style>\n",
       "<table id=\"T_e65df\">\n",
       "  <thead>\n",
       "    <tr>\n",
       "      <th class=\"blank level0\" >&nbsp;</th>\n",
       "      <th id=\"T_e65df_level0_col0\" class=\"col_heading level0 col0\" >Model Name</th>\n",
       "      <th id=\"T_e65df_level0_col1\" class=\"col_heading level0 col1\" >R2</th>\n",
       "      <th id=\"T_e65df_level0_col2\" class=\"col_heading level0 col2\" >MAE</th>\n",
       "      <th id=\"T_e65df_level0_col3\" class=\"col_heading level0 col3\" >MSE</th>\n",
       "      <th id=\"T_e65df_level0_col4\" class=\"col_heading level0 col4\" >RMSE</th>\n",
       "      <th id=\"T_e65df_level0_col5\" class=\"col_heading level0 col5\" >MAPE</th>\n",
       "      <th id=\"T_e65df_level0_col6\" class=\"col_heading level0 col6\" >Time (sec)</th>\n",
       "    </tr>\n",
       "  </thead>\n",
       "  <tbody>\n",
       "    <tr>\n",
       "      <th id=\"T_e65df_level0_row0\" class=\"row_heading level0 row0\" >1</th>\n",
       "      <td id=\"T_e65df_row0_col0\" class=\"data row0 col0\" >CatBoostRegressor_(optuna)_(n_iter=10)</td>\n",
       "      <td id=\"T_e65df_row0_col1\" class=\"data row0 col1\" >0.852599</td>\n",
       "      <td id=\"T_e65df_row0_col2\" class=\"data row0 col2\" >0.289819</td>\n",
       "      <td id=\"T_e65df_row0_col3\" class=\"data row0 col3\" >0.196189</td>\n",
       "      <td id=\"T_e65df_row0_col4\" class=\"data row0 col4\" >0.442813</td>\n",
       "      <td id=\"T_e65df_row0_col5\" class=\"data row0 col5\" >0.161855</td>\n",
       "      <td id=\"T_e65df_row0_col6\" class=\"data row0 col6\" >49.18</td>\n",
       "    </tr>\n",
       "    <tr>\n",
       "      <th id=\"T_e65df_level0_row1\" class=\"row_heading level0 row1\" >2</th>\n",
       "      <td id=\"T_e65df_row1_col0\" class=\"data row1 col0\" >CatBoostRegressor</td>\n",
       "      <td id=\"T_e65df_row1_col1\" class=\"data row1 col1\" >0.852024</td>\n",
       "      <td id=\"T_e65df_row1_col2\" class=\"data row1 col2\" >0.291575</td>\n",
       "      <td id=\"T_e65df_row1_col3\" class=\"data row1 col3\" >0.196942</td>\n",
       "      <td id=\"T_e65df_row1_col4\" class=\"data row1 col4\" >0.443684</td>\n",
       "      <td id=\"T_e65df_row1_col5\" class=\"data row1 col5\" >0.162991</td>\n",
       "      <td id=\"T_e65df_row1_col6\" class=\"data row1 col6\" >6.93</td>\n",
       "    </tr>\n",
       "    <tr>\n",
       "      <th id=\"T_e65df_level0_row2\" class=\"row_heading level0 row2\" >3</th>\n",
       "      <td id=\"T_e65df_row2_col0\" class=\"data row2 col0\" >LGBMRegressor</td>\n",
       "      <td id=\"T_e65df_row2_col1\" class=\"data row2 col1\" >0.837282</td>\n",
       "      <td id=\"T_e65df_row2_col2\" class=\"data row2 col2\" >0.309548</td>\n",
       "      <td id=\"T_e65df_row2_col3\" class=\"data row2 col3\" >0.216548</td>\n",
       "      <td id=\"T_e65df_row2_col4\" class=\"data row2 col4\" >0.465227</td>\n",
       "      <td id=\"T_e65df_row2_col5\" class=\"data row2 col5\" >0.175458</td>\n",
       "      <td id=\"T_e65df_row2_col6\" class=\"data row2 col6\" >2.24</td>\n",
       "    </tr>\n",
       "    <tr>\n",
       "      <th id=\"T_e65df_level0_row3\" class=\"row_heading level0 row3\" >4</th>\n",
       "      <td id=\"T_e65df_row3_col0\" class=\"data row3 col0\" >XGBRegressor</td>\n",
       "      <td id=\"T_e65df_row3_col1\" class=\"data row3 col1\" >0.834695</td>\n",
       "      <td id=\"T_e65df_row3_col2\" class=\"data row3 col2\" >0.307479</td>\n",
       "      <td id=\"T_e65df_row3_col3\" class=\"data row3 col3\" >0.219990</td>\n",
       "      <td id=\"T_e65df_row3_col4\" class=\"data row3 col4\" >0.468914</td>\n",
       "      <td id=\"T_e65df_row3_col5\" class=\"data row3 col5\" >0.171952</td>\n",
       "      <td id=\"T_e65df_row3_col6\" class=\"data row3 col6\" >1.66</td>\n",
       "    </tr>\n",
       "    <tr>\n",
       "      <th id=\"T_e65df_level0_row4\" class=\"row_heading level0 row4\" >5</th>\n",
       "      <td id=\"T_e65df_row4_col0\" class=\"data row4 col0\" >DecisionTreeRegressor</td>\n",
       "      <td id=\"T_e65df_row4_col1\" class=\"data row4 col1\" >0.613782</td>\n",
       "      <td id=\"T_e65df_row4_col2\" class=\"data row4 col2\" >0.459651</td>\n",
       "      <td id=\"T_e65df_row4_col3\" class=\"data row4 col3\" >0.514159</td>\n",
       "      <td id=\"T_e65df_row4_col4\" class=\"data row4 col4\" >0.717004</td>\n",
       "      <td id=\"T_e65df_row4_col5\" class=\"data row4 col5\" >0.250717</td>\n",
       "      <td id=\"T_e65df_row4_col6\" class=\"data row4 col6\" >0.70</td>\n",
       "    </tr>\n",
       "    <tr>\n",
       "      <th id=\"T_e65df_level0_row5\" class=\"row_heading level0 row5\" >6</th>\n",
       "      <td id=\"T_e65df_row5_col0\" class=\"data row5 col0\" >Ridge</td>\n",
       "      <td id=\"T_e65df_row5_col1\" class=\"data row5 col1\" >0.601385</td>\n",
       "      <td id=\"T_e65df_row5_col2\" class=\"data row5 col2\" >0.531686</td>\n",
       "      <td id=\"T_e65df_row5_col3\" class=\"data row5 col3\" >0.530564</td>\n",
       "      <td id=\"T_e65df_row5_col4\" class=\"data row5 col4\" >0.728245</td>\n",
       "      <td id=\"T_e65df_row5_col5\" class=\"data row5 col5\" >0.317594</td>\n",
       "      <td id=\"T_e65df_row5_col6\" class=\"data row5 col6\" >0.02</td>\n",
       "    </tr>\n",
       "    <tr>\n",
       "      <th id=\"T_e65df_level0_row6\" class=\"row_heading level0 row6\" >7</th>\n",
       "      <td id=\"T_e65df_row6_col0\" class=\"data row6 col0\" >LinearRegression</td>\n",
       "      <td id=\"T_e65df_row6_col1\" class=\"data row6 col1\" >0.601378</td>\n",
       "      <td id=\"T_e65df_row6_col2\" class=\"data row6 col2\" >0.531677</td>\n",
       "      <td id=\"T_e65df_row6_col3\" class=\"data row6 col3\" >0.530572</td>\n",
       "      <td id=\"T_e65df_row6_col4\" class=\"data row6 col4\" >0.728251</td>\n",
       "      <td id=\"T_e65df_row6_col5\" class=\"data row6 col5\" >0.317588</td>\n",
       "      <td id=\"T_e65df_row6_col6\" class=\"data row6 col6\" >0.00</td>\n",
       "    </tr>\n",
       "    <tr>\n",
       "      <th id=\"T_e65df_level0_row7\" class=\"row_heading level0 row7\" >8</th>\n",
       "      <td id=\"T_e65df_row7_col0\" class=\"data row7 col0\" >ElasticNet</td>\n",
       "      <td id=\"T_e65df_row7_col1\" class=\"data row7 col1\" >0.422752</td>\n",
       "      <td id=\"T_e65df_row7_col2\" class=\"data row7 col2\" >0.679422</td>\n",
       "      <td id=\"T_e65df_row7_col3\" class=\"data row7 col3\" >0.768426</td>\n",
       "      <td id=\"T_e65df_row7_col4\" class=\"data row7 col4\" >0.876568</td>\n",
       "      <td id=\"T_e65df_row7_col5\" class=\"data row7 col5\" >0.453446</td>\n",
       "      <td id=\"T_e65df_row7_col6\" class=\"data row7 col6\" >0.00</td>\n",
       "    </tr>\n",
       "    <tr>\n",
       "      <th id=\"T_e65df_level0_row8\" class=\"row_heading level0 row8\" >9</th>\n",
       "      <td id=\"T_e65df_row8_col0\" class=\"data row8 col0\" >Lasso</td>\n",
       "      <td id=\"T_e65df_row8_col1\" class=\"data row8 col1\" >0.284865</td>\n",
       "      <td id=\"T_e65df_row8_col2\" class=\"data row8 col2\" >0.767992</td>\n",
       "      <td id=\"T_e65df_row8_col3\" class=\"data row8 col3\" >0.952078</td>\n",
       "      <td id=\"T_e65df_row8_col4\" class=\"data row8 col4\" >0.975702</td>\n",
       "      <td id=\"T_e65df_row8_col5\" class=\"data row8 col5\" >0.520122</td>\n",
       "      <td id=\"T_e65df_row8_col6\" class=\"data row8 col6\" >0.01</td>\n",
       "    </tr>\n",
       "    <tr>\n",
       "      <th id=\"T_e65df_level0_row9\" class=\"row_heading level0 row9\" >10</th>\n",
       "      <td id=\"T_e65df_row9_col0\" class=\"data row9 col0\" >HuberRegressor</td>\n",
       "      <td id=\"T_e65df_row9_col1\" class=\"data row9 col1\" >-2.166381</td>\n",
       "      <td id=\"T_e65df_row9_col2\" class=\"data row9 col2\" >0.590900</td>\n",
       "      <td id=\"T_e65df_row9_col3\" class=\"data row9 col3\" >4.220209</td>\n",
       "      <td id=\"T_e65df_row9_col4\" class=\"data row9 col4\" >1.535683</td>\n",
       "      <td id=\"T_e65df_row9_col5\" class=\"data row9 col5\" >0.343810</td>\n",
       "      <td id=\"T_e65df_row9_col6\" class=\"data row9 col6\" >1.79</td>\n",
       "    </tr>\n",
       "  </tbody>\n",
       "</table>\n"
      ],
      "text/plain": [
       "<pandas.io.formats.style.Styler at 0x30496a8d0>"
      ]
     },
     "metadata": {},
     "output_type": "display_data"
    },
    {
     "name": "stderr",
     "output_type": "stream",
     "text": [
      "INFO | 2025-04-06 14:09:38 | [PROCESS] Model Tuning process is finished successfully\n"
     ]
    }
   ],
   "source": [
    "reg_exp.tune_model(tuning_method=\"optuna\")\n",
    "# If you don't play with any validation strategy here (e.g. cv_method, n_folds, test_size, group_col), It uses the same strategy as the start_experiment(), otherwise it cleans the model leaderboard since validation strategy is different"
   ]
  },
  {
   "cell_type": "code",
   "execution_count": 9,
   "metadata": {},
   "outputs": [
    {
     "name": "stderr",
     "output_type": "stream",
     "text": [
      "INFO | 2025-04-06 14:09:38 | [PROCESS] Model Tuning process started with 'randomized_search' method\n"
     ]
    },
    {
     "data": {
      "text/html": [
       "<style type=\"text/css\">\n",
       "#T_a646f_row0_col1, #T_a646f_row0_col2, #T_a646f_row0_col3, #T_a646f_row0_col4, #T_a646f_row0_col5 {\n",
       "  background-color: green;\n",
       "}\n",
       "</style>\n",
       "<table id=\"T_a646f\">\n",
       "  <thead>\n",
       "    <tr>\n",
       "      <th class=\"blank level0\" >&nbsp;</th>\n",
       "      <th id=\"T_a646f_level0_col0\" class=\"col_heading level0 col0\" >Model Name</th>\n",
       "      <th id=\"T_a646f_level0_col1\" class=\"col_heading level0 col1\" >R2</th>\n",
       "      <th id=\"T_a646f_level0_col2\" class=\"col_heading level0 col2\" >MAE</th>\n",
       "      <th id=\"T_a646f_level0_col3\" class=\"col_heading level0 col3\" >MSE</th>\n",
       "      <th id=\"T_a646f_level0_col4\" class=\"col_heading level0 col4\" >RMSE</th>\n",
       "      <th id=\"T_a646f_level0_col5\" class=\"col_heading level0 col5\" >MAPE</th>\n",
       "      <th id=\"T_a646f_level0_col6\" class=\"col_heading level0 col6\" >Time (sec)</th>\n",
       "    </tr>\n",
       "  </thead>\n",
       "  <tbody>\n",
       "    <tr>\n",
       "      <th id=\"T_a646f_level0_row0\" class=\"row_heading level0 row0\" >1</th>\n",
       "      <td id=\"T_a646f_row0_col0\" class=\"data row0 col0\" >LGBMRegressor_(randomized_search)_(n_iter=5)</td>\n",
       "      <td id=\"T_a646f_row0_col1\" class=\"data row0 col1\" >0.855076</td>\n",
       "      <td id=\"T_a646f_row0_col2\" class=\"data row0 col2\" >0.286317</td>\n",
       "      <td id=\"T_a646f_row0_col3\" class=\"data row0 col3\" >0.192833</td>\n",
       "      <td id=\"T_a646f_row0_col4\" class=\"data row0 col4\" >0.439004</td>\n",
       "      <td id=\"T_a646f_row0_col5\" class=\"data row0 col5\" >0.159922</td>\n",
       "      <td id=\"T_a646f_row0_col6\" class=\"data row0 col6\" >41.98</td>\n",
       "    </tr>\n",
       "    <tr>\n",
       "      <th id=\"T_a646f_level0_row1\" class=\"row_heading level0 row1\" >2</th>\n",
       "      <td id=\"T_a646f_row1_col0\" class=\"data row1 col0\" >CatBoostRegressor_(optuna)_(n_iter=10)</td>\n",
       "      <td id=\"T_a646f_row1_col1\" class=\"data row1 col1\" >0.852599</td>\n",
       "      <td id=\"T_a646f_row1_col2\" class=\"data row1 col2\" >0.289819</td>\n",
       "      <td id=\"T_a646f_row1_col3\" class=\"data row1 col3\" >0.196189</td>\n",
       "      <td id=\"T_a646f_row1_col4\" class=\"data row1 col4\" >0.442813</td>\n",
       "      <td id=\"T_a646f_row1_col5\" class=\"data row1 col5\" >0.161855</td>\n",
       "      <td id=\"T_a646f_row1_col6\" class=\"data row1 col6\" >49.18</td>\n",
       "    </tr>\n",
       "    <tr>\n",
       "      <th id=\"T_a646f_level0_row2\" class=\"row_heading level0 row2\" >3</th>\n",
       "      <td id=\"T_a646f_row2_col0\" class=\"data row2 col0\" >CatBoostRegressor</td>\n",
       "      <td id=\"T_a646f_row2_col1\" class=\"data row2 col1\" >0.852024</td>\n",
       "      <td id=\"T_a646f_row2_col2\" class=\"data row2 col2\" >0.291575</td>\n",
       "      <td id=\"T_a646f_row2_col3\" class=\"data row2 col3\" >0.196942</td>\n",
       "      <td id=\"T_a646f_row2_col4\" class=\"data row2 col4\" >0.443684</td>\n",
       "      <td id=\"T_a646f_row2_col5\" class=\"data row2 col5\" >0.162991</td>\n",
       "      <td id=\"T_a646f_row2_col6\" class=\"data row2 col6\" >6.93</td>\n",
       "    </tr>\n",
       "    <tr>\n",
       "      <th id=\"T_a646f_level0_row3\" class=\"row_heading level0 row3\" >4</th>\n",
       "      <td id=\"T_a646f_row3_col0\" class=\"data row3 col0\" >LGBMRegressor</td>\n",
       "      <td id=\"T_a646f_row3_col1\" class=\"data row3 col1\" >0.837282</td>\n",
       "      <td id=\"T_a646f_row3_col2\" class=\"data row3 col2\" >0.309548</td>\n",
       "      <td id=\"T_a646f_row3_col3\" class=\"data row3 col3\" >0.216548</td>\n",
       "      <td id=\"T_a646f_row3_col4\" class=\"data row3 col4\" >0.465227</td>\n",
       "      <td id=\"T_a646f_row3_col5\" class=\"data row3 col5\" >0.175458</td>\n",
       "      <td id=\"T_a646f_row3_col6\" class=\"data row3 col6\" >2.24</td>\n",
       "    </tr>\n",
       "    <tr>\n",
       "      <th id=\"T_a646f_level0_row4\" class=\"row_heading level0 row4\" >5</th>\n",
       "      <td id=\"T_a646f_row4_col0\" class=\"data row4 col0\" >XGBRegressor</td>\n",
       "      <td id=\"T_a646f_row4_col1\" class=\"data row4 col1\" >0.834695</td>\n",
       "      <td id=\"T_a646f_row4_col2\" class=\"data row4 col2\" >0.307479</td>\n",
       "      <td id=\"T_a646f_row4_col3\" class=\"data row4 col3\" >0.219990</td>\n",
       "      <td id=\"T_a646f_row4_col4\" class=\"data row4 col4\" >0.468914</td>\n",
       "      <td id=\"T_a646f_row4_col5\" class=\"data row4 col5\" >0.171952</td>\n",
       "      <td id=\"T_a646f_row4_col6\" class=\"data row4 col6\" >1.66</td>\n",
       "    </tr>\n",
       "    <tr>\n",
       "      <th id=\"T_a646f_level0_row5\" class=\"row_heading level0 row5\" >6</th>\n",
       "      <td id=\"T_a646f_row5_col0\" class=\"data row5 col0\" >DecisionTreeRegressor</td>\n",
       "      <td id=\"T_a646f_row5_col1\" class=\"data row5 col1\" >0.613782</td>\n",
       "      <td id=\"T_a646f_row5_col2\" class=\"data row5 col2\" >0.459651</td>\n",
       "      <td id=\"T_a646f_row5_col3\" class=\"data row5 col3\" >0.514159</td>\n",
       "      <td id=\"T_a646f_row5_col4\" class=\"data row5 col4\" >0.717004</td>\n",
       "      <td id=\"T_a646f_row5_col5\" class=\"data row5 col5\" >0.250717</td>\n",
       "      <td id=\"T_a646f_row5_col6\" class=\"data row5 col6\" >0.70</td>\n",
       "    </tr>\n",
       "    <tr>\n",
       "      <th id=\"T_a646f_level0_row6\" class=\"row_heading level0 row6\" >7</th>\n",
       "      <td id=\"T_a646f_row6_col0\" class=\"data row6 col0\" >Ridge</td>\n",
       "      <td id=\"T_a646f_row6_col1\" class=\"data row6 col1\" >0.601385</td>\n",
       "      <td id=\"T_a646f_row6_col2\" class=\"data row6 col2\" >0.531686</td>\n",
       "      <td id=\"T_a646f_row6_col3\" class=\"data row6 col3\" >0.530564</td>\n",
       "      <td id=\"T_a646f_row6_col4\" class=\"data row6 col4\" >0.728245</td>\n",
       "      <td id=\"T_a646f_row6_col5\" class=\"data row6 col5\" >0.317594</td>\n",
       "      <td id=\"T_a646f_row6_col6\" class=\"data row6 col6\" >0.02</td>\n",
       "    </tr>\n",
       "    <tr>\n",
       "      <th id=\"T_a646f_level0_row7\" class=\"row_heading level0 row7\" >8</th>\n",
       "      <td id=\"T_a646f_row7_col0\" class=\"data row7 col0\" >LinearRegression</td>\n",
       "      <td id=\"T_a646f_row7_col1\" class=\"data row7 col1\" >0.601378</td>\n",
       "      <td id=\"T_a646f_row7_col2\" class=\"data row7 col2\" >0.531677</td>\n",
       "      <td id=\"T_a646f_row7_col3\" class=\"data row7 col3\" >0.530572</td>\n",
       "      <td id=\"T_a646f_row7_col4\" class=\"data row7 col4\" >0.728251</td>\n",
       "      <td id=\"T_a646f_row7_col5\" class=\"data row7 col5\" >0.317588</td>\n",
       "      <td id=\"T_a646f_row7_col6\" class=\"data row7 col6\" >0.00</td>\n",
       "    </tr>\n",
       "    <tr>\n",
       "      <th id=\"T_a646f_level0_row8\" class=\"row_heading level0 row8\" >9</th>\n",
       "      <td id=\"T_a646f_row8_col0\" class=\"data row8 col0\" >ElasticNet</td>\n",
       "      <td id=\"T_a646f_row8_col1\" class=\"data row8 col1\" >0.422752</td>\n",
       "      <td id=\"T_a646f_row8_col2\" class=\"data row8 col2\" >0.679422</td>\n",
       "      <td id=\"T_a646f_row8_col3\" class=\"data row8 col3\" >0.768426</td>\n",
       "      <td id=\"T_a646f_row8_col4\" class=\"data row8 col4\" >0.876568</td>\n",
       "      <td id=\"T_a646f_row8_col5\" class=\"data row8 col5\" >0.453446</td>\n",
       "      <td id=\"T_a646f_row8_col6\" class=\"data row8 col6\" >0.00</td>\n",
       "    </tr>\n",
       "    <tr>\n",
       "      <th id=\"T_a646f_level0_row9\" class=\"row_heading level0 row9\" >10</th>\n",
       "      <td id=\"T_a646f_row9_col0\" class=\"data row9 col0\" >Lasso</td>\n",
       "      <td id=\"T_a646f_row9_col1\" class=\"data row9 col1\" >0.284865</td>\n",
       "      <td id=\"T_a646f_row9_col2\" class=\"data row9 col2\" >0.767992</td>\n",
       "      <td id=\"T_a646f_row9_col3\" class=\"data row9 col3\" >0.952078</td>\n",
       "      <td id=\"T_a646f_row9_col4\" class=\"data row9 col4\" >0.975702</td>\n",
       "      <td id=\"T_a646f_row9_col5\" class=\"data row9 col5\" >0.520122</td>\n",
       "      <td id=\"T_a646f_row9_col6\" class=\"data row9 col6\" >0.01</td>\n",
       "    </tr>\n",
       "    <tr>\n",
       "      <th id=\"T_a646f_level0_row10\" class=\"row_heading level0 row10\" >11</th>\n",
       "      <td id=\"T_a646f_row10_col0\" class=\"data row10 col0\" >HuberRegressor</td>\n",
       "      <td id=\"T_a646f_row10_col1\" class=\"data row10 col1\" >-2.166381</td>\n",
       "      <td id=\"T_a646f_row10_col2\" class=\"data row10 col2\" >0.590900</td>\n",
       "      <td id=\"T_a646f_row10_col3\" class=\"data row10 col3\" >4.220209</td>\n",
       "      <td id=\"T_a646f_row10_col4\" class=\"data row10 col4\" >1.535683</td>\n",
       "      <td id=\"T_a646f_row10_col5\" class=\"data row10 col5\" >0.343810</td>\n",
       "      <td id=\"T_a646f_row10_col6\" class=\"data row10 col6\" >1.79</td>\n",
       "    </tr>\n",
       "  </tbody>\n",
       "</table>\n"
      ],
      "text/plain": [
       "<pandas.io.formats.style.Styler at 0x30496ccd0>"
      ]
     },
     "metadata": {},
     "output_type": "display_data"
    },
    {
     "name": "stderr",
     "output_type": "stream",
     "text": [
      "INFO | 2025-04-06 14:10:20 | [PROCESS] Model Tuning process is finished successfully\n"
     ]
    }
   ],
   "source": [
    "reg_exp.tune_model(model=\"LGBMRegressor\", tuning_method=\"randomized_search\", n_iter=5)\n",
    "# You are in your own world now, you can pass any model object and any tuning method you want and see all of them in the same model leaderboard for comparison"
   ]
  },
  {
   "cell_type": "code",
   "execution_count": 10,
   "metadata": {},
   "outputs": [
    {
     "data": {
      "text/html": [
       "<style>#sk-container-id-1 {\n",
       "  /* Definition of color scheme common for light and dark mode */\n",
       "  --sklearn-color-text: black;\n",
       "  --sklearn-color-line: gray;\n",
       "  /* Definition of color scheme for unfitted estimators */\n",
       "  --sklearn-color-unfitted-level-0: #fff5e6;\n",
       "  --sklearn-color-unfitted-level-1: #f6e4d2;\n",
       "  --sklearn-color-unfitted-level-2: #ffe0b3;\n",
       "  --sklearn-color-unfitted-level-3: chocolate;\n",
       "  /* Definition of color scheme for fitted estimators */\n",
       "  --sklearn-color-fitted-level-0: #f0f8ff;\n",
       "  --sklearn-color-fitted-level-1: #d4ebff;\n",
       "  --sklearn-color-fitted-level-2: #b3dbfd;\n",
       "  --sklearn-color-fitted-level-3: cornflowerblue;\n",
       "\n",
       "  /* Specific color for light theme */\n",
       "  --sklearn-color-text-on-default-background: var(--sg-text-color, var(--theme-code-foreground, var(--jp-content-font-color1, black)));\n",
       "  --sklearn-color-background: var(--sg-background-color, var(--theme-background, var(--jp-layout-color0, white)));\n",
       "  --sklearn-color-border-box: var(--sg-text-color, var(--theme-code-foreground, var(--jp-content-font-color1, black)));\n",
       "  --sklearn-color-icon: #696969;\n",
       "\n",
       "  @media (prefers-color-scheme: dark) {\n",
       "    /* Redefinition of color scheme for dark theme */\n",
       "    --sklearn-color-text-on-default-background: var(--sg-text-color, var(--theme-code-foreground, var(--jp-content-font-color1, white)));\n",
       "    --sklearn-color-background: var(--sg-background-color, var(--theme-background, var(--jp-layout-color0, #111)));\n",
       "    --sklearn-color-border-box: var(--sg-text-color, var(--theme-code-foreground, var(--jp-content-font-color1, white)));\n",
       "    --sklearn-color-icon: #878787;\n",
       "  }\n",
       "}\n",
       "\n",
       "#sk-container-id-1 {\n",
       "  color: var(--sklearn-color-text);\n",
       "}\n",
       "\n",
       "#sk-container-id-1 pre {\n",
       "  padding: 0;\n",
       "}\n",
       "\n",
       "#sk-container-id-1 input.sk-hidden--visually {\n",
       "  border: 0;\n",
       "  clip: rect(1px 1px 1px 1px);\n",
       "  clip: rect(1px, 1px, 1px, 1px);\n",
       "  height: 1px;\n",
       "  margin: -1px;\n",
       "  overflow: hidden;\n",
       "  padding: 0;\n",
       "  position: absolute;\n",
       "  width: 1px;\n",
       "}\n",
       "\n",
       "#sk-container-id-1 div.sk-dashed-wrapped {\n",
       "  border: 1px dashed var(--sklearn-color-line);\n",
       "  margin: 0 0.4em 0.5em 0.4em;\n",
       "  box-sizing: border-box;\n",
       "  padding-bottom: 0.4em;\n",
       "  background-color: var(--sklearn-color-background);\n",
       "}\n",
       "\n",
       "#sk-container-id-1 div.sk-container {\n",
       "  /* jupyter's `normalize.less` sets `[hidden] { display: none; }`\n",
       "     but bootstrap.min.css set `[hidden] { display: none !important; }`\n",
       "     so we also need the `!important` here to be able to override the\n",
       "     default hidden behavior on the sphinx rendered scikit-learn.org.\n",
       "     See: https://github.com/scikit-learn/scikit-learn/issues/21755 */\n",
       "  display: inline-block !important;\n",
       "  position: relative;\n",
       "}\n",
       "\n",
       "#sk-container-id-1 div.sk-text-repr-fallback {\n",
       "  display: none;\n",
       "}\n",
       "\n",
       "div.sk-parallel-item,\n",
       "div.sk-serial,\n",
       "div.sk-item {\n",
       "  /* draw centered vertical line to link estimators */\n",
       "  background-image: linear-gradient(var(--sklearn-color-text-on-default-background), var(--sklearn-color-text-on-default-background));\n",
       "  background-size: 2px 100%;\n",
       "  background-repeat: no-repeat;\n",
       "  background-position: center center;\n",
       "}\n",
       "\n",
       "/* Parallel-specific style estimator block */\n",
       "\n",
       "#sk-container-id-1 div.sk-parallel-item::after {\n",
       "  content: \"\";\n",
       "  width: 100%;\n",
       "  border-bottom: 2px solid var(--sklearn-color-text-on-default-background);\n",
       "  flex-grow: 1;\n",
       "}\n",
       "\n",
       "#sk-container-id-1 div.sk-parallel {\n",
       "  display: flex;\n",
       "  align-items: stretch;\n",
       "  justify-content: center;\n",
       "  background-color: var(--sklearn-color-background);\n",
       "  position: relative;\n",
       "}\n",
       "\n",
       "#sk-container-id-1 div.sk-parallel-item {\n",
       "  display: flex;\n",
       "  flex-direction: column;\n",
       "}\n",
       "\n",
       "#sk-container-id-1 div.sk-parallel-item:first-child::after {\n",
       "  align-self: flex-end;\n",
       "  width: 50%;\n",
       "}\n",
       "\n",
       "#sk-container-id-1 div.sk-parallel-item:last-child::after {\n",
       "  align-self: flex-start;\n",
       "  width: 50%;\n",
       "}\n",
       "\n",
       "#sk-container-id-1 div.sk-parallel-item:only-child::after {\n",
       "  width: 0;\n",
       "}\n",
       "\n",
       "/* Serial-specific style estimator block */\n",
       "\n",
       "#sk-container-id-1 div.sk-serial {\n",
       "  display: flex;\n",
       "  flex-direction: column;\n",
       "  align-items: center;\n",
       "  background-color: var(--sklearn-color-background);\n",
       "  padding-right: 1em;\n",
       "  padding-left: 1em;\n",
       "}\n",
       "\n",
       "\n",
       "/* Toggleable style: style used for estimator/Pipeline/ColumnTransformer box that is\n",
       "clickable and can be expanded/collapsed.\n",
       "- Pipeline and ColumnTransformer use this feature and define the default style\n",
       "- Estimators will overwrite some part of the style using the `sk-estimator` class\n",
       "*/\n",
       "\n",
       "/* Pipeline and ColumnTransformer style (default) */\n",
       "\n",
       "#sk-container-id-1 div.sk-toggleable {\n",
       "  /* Default theme specific background. It is overwritten whether we have a\n",
       "  specific estimator or a Pipeline/ColumnTransformer */\n",
       "  background-color: var(--sklearn-color-background);\n",
       "}\n",
       "\n",
       "/* Toggleable label */\n",
       "#sk-container-id-1 label.sk-toggleable__label {\n",
       "  cursor: pointer;\n",
       "  display: block;\n",
       "  width: 100%;\n",
       "  margin-bottom: 0;\n",
       "  padding: 0.5em;\n",
       "  box-sizing: border-box;\n",
       "  text-align: center;\n",
       "}\n",
       "\n",
       "#sk-container-id-1 label.sk-toggleable__label-arrow:before {\n",
       "  /* Arrow on the left of the label */\n",
       "  content: \"▸\";\n",
       "  float: left;\n",
       "  margin-right: 0.25em;\n",
       "  color: var(--sklearn-color-icon);\n",
       "}\n",
       "\n",
       "#sk-container-id-1 label.sk-toggleable__label-arrow:hover:before {\n",
       "  color: var(--sklearn-color-text);\n",
       "}\n",
       "\n",
       "/* Toggleable content - dropdown */\n",
       "\n",
       "#sk-container-id-1 div.sk-toggleable__content {\n",
       "  max-height: 0;\n",
       "  max-width: 0;\n",
       "  overflow: hidden;\n",
       "  text-align: left;\n",
       "  /* unfitted */\n",
       "  background-color: var(--sklearn-color-unfitted-level-0);\n",
       "}\n",
       "\n",
       "#sk-container-id-1 div.sk-toggleable__content.fitted {\n",
       "  /* fitted */\n",
       "  background-color: var(--sklearn-color-fitted-level-0);\n",
       "}\n",
       "\n",
       "#sk-container-id-1 div.sk-toggleable__content pre {\n",
       "  margin: 0.2em;\n",
       "  border-radius: 0.25em;\n",
       "  color: var(--sklearn-color-text);\n",
       "  /* unfitted */\n",
       "  background-color: var(--sklearn-color-unfitted-level-0);\n",
       "}\n",
       "\n",
       "#sk-container-id-1 div.sk-toggleable__content.fitted pre {\n",
       "  /* unfitted */\n",
       "  background-color: var(--sklearn-color-fitted-level-0);\n",
       "}\n",
       "\n",
       "#sk-container-id-1 input.sk-toggleable__control:checked~div.sk-toggleable__content {\n",
       "  /* Expand drop-down */\n",
       "  max-height: 200px;\n",
       "  max-width: 100%;\n",
       "  overflow: auto;\n",
       "}\n",
       "\n",
       "#sk-container-id-1 input.sk-toggleable__control:checked~label.sk-toggleable__label-arrow:before {\n",
       "  content: \"▾\";\n",
       "}\n",
       "\n",
       "/* Pipeline/ColumnTransformer-specific style */\n",
       "\n",
       "#sk-container-id-1 div.sk-label input.sk-toggleable__control:checked~label.sk-toggleable__label {\n",
       "  color: var(--sklearn-color-text);\n",
       "  background-color: var(--sklearn-color-unfitted-level-2);\n",
       "}\n",
       "\n",
       "#sk-container-id-1 div.sk-label.fitted input.sk-toggleable__control:checked~label.sk-toggleable__label {\n",
       "  background-color: var(--sklearn-color-fitted-level-2);\n",
       "}\n",
       "\n",
       "/* Estimator-specific style */\n",
       "\n",
       "/* Colorize estimator box */\n",
       "#sk-container-id-1 div.sk-estimator input.sk-toggleable__control:checked~label.sk-toggleable__label {\n",
       "  /* unfitted */\n",
       "  background-color: var(--sklearn-color-unfitted-level-2);\n",
       "}\n",
       "\n",
       "#sk-container-id-1 div.sk-estimator.fitted input.sk-toggleable__control:checked~label.sk-toggleable__label {\n",
       "  /* fitted */\n",
       "  background-color: var(--sklearn-color-fitted-level-2);\n",
       "}\n",
       "\n",
       "#sk-container-id-1 div.sk-label label.sk-toggleable__label,\n",
       "#sk-container-id-1 div.sk-label label {\n",
       "  /* The background is the default theme color */\n",
       "  color: var(--sklearn-color-text-on-default-background);\n",
       "}\n",
       "\n",
       "/* On hover, darken the color of the background */\n",
       "#sk-container-id-1 div.sk-label:hover label.sk-toggleable__label {\n",
       "  color: var(--sklearn-color-text);\n",
       "  background-color: var(--sklearn-color-unfitted-level-2);\n",
       "}\n",
       "\n",
       "/* Label box, darken color on hover, fitted */\n",
       "#sk-container-id-1 div.sk-label.fitted:hover label.sk-toggleable__label.fitted {\n",
       "  color: var(--sklearn-color-text);\n",
       "  background-color: var(--sklearn-color-fitted-level-2);\n",
       "}\n",
       "\n",
       "/* Estimator label */\n",
       "\n",
       "#sk-container-id-1 div.sk-label label {\n",
       "  font-family: monospace;\n",
       "  font-weight: bold;\n",
       "  display: inline-block;\n",
       "  line-height: 1.2em;\n",
       "}\n",
       "\n",
       "#sk-container-id-1 div.sk-label-container {\n",
       "  text-align: center;\n",
       "}\n",
       "\n",
       "/* Estimator-specific */\n",
       "#sk-container-id-1 div.sk-estimator {\n",
       "  font-family: monospace;\n",
       "  border: 1px dotted var(--sklearn-color-border-box);\n",
       "  border-radius: 0.25em;\n",
       "  box-sizing: border-box;\n",
       "  margin-bottom: 0.5em;\n",
       "  /* unfitted */\n",
       "  background-color: var(--sklearn-color-unfitted-level-0);\n",
       "}\n",
       "\n",
       "#sk-container-id-1 div.sk-estimator.fitted {\n",
       "  /* fitted */\n",
       "  background-color: var(--sklearn-color-fitted-level-0);\n",
       "}\n",
       "\n",
       "/* on hover */\n",
       "#sk-container-id-1 div.sk-estimator:hover {\n",
       "  /* unfitted */\n",
       "  background-color: var(--sklearn-color-unfitted-level-2);\n",
       "}\n",
       "\n",
       "#sk-container-id-1 div.sk-estimator.fitted:hover {\n",
       "  /* fitted */\n",
       "  background-color: var(--sklearn-color-fitted-level-2);\n",
       "}\n",
       "\n",
       "/* Specification for estimator info (e.g. \"i\" and \"?\") */\n",
       "\n",
       "/* Common style for \"i\" and \"?\" */\n",
       "\n",
       ".sk-estimator-doc-link,\n",
       "a:link.sk-estimator-doc-link,\n",
       "a:visited.sk-estimator-doc-link {\n",
       "  float: right;\n",
       "  font-size: smaller;\n",
       "  line-height: 1em;\n",
       "  font-family: monospace;\n",
       "  background-color: var(--sklearn-color-background);\n",
       "  border-radius: 1em;\n",
       "  height: 1em;\n",
       "  width: 1em;\n",
       "  text-decoration: none !important;\n",
       "  margin-left: 1ex;\n",
       "  /* unfitted */\n",
       "  border: var(--sklearn-color-unfitted-level-1) 1pt solid;\n",
       "  color: var(--sklearn-color-unfitted-level-1);\n",
       "}\n",
       "\n",
       ".sk-estimator-doc-link.fitted,\n",
       "a:link.sk-estimator-doc-link.fitted,\n",
       "a:visited.sk-estimator-doc-link.fitted {\n",
       "  /* fitted */\n",
       "  border: var(--sklearn-color-fitted-level-1) 1pt solid;\n",
       "  color: var(--sklearn-color-fitted-level-1);\n",
       "}\n",
       "\n",
       "/* On hover */\n",
       "div.sk-estimator:hover .sk-estimator-doc-link:hover,\n",
       ".sk-estimator-doc-link:hover,\n",
       "div.sk-label-container:hover .sk-estimator-doc-link:hover,\n",
       ".sk-estimator-doc-link:hover {\n",
       "  /* unfitted */\n",
       "  background-color: var(--sklearn-color-unfitted-level-3);\n",
       "  color: var(--sklearn-color-background);\n",
       "  text-decoration: none;\n",
       "}\n",
       "\n",
       "div.sk-estimator.fitted:hover .sk-estimator-doc-link.fitted:hover,\n",
       ".sk-estimator-doc-link.fitted:hover,\n",
       "div.sk-label-container:hover .sk-estimator-doc-link.fitted:hover,\n",
       ".sk-estimator-doc-link.fitted:hover {\n",
       "  /* fitted */\n",
       "  background-color: var(--sklearn-color-fitted-level-3);\n",
       "  color: var(--sklearn-color-background);\n",
       "  text-decoration: none;\n",
       "}\n",
       "\n",
       "/* Span, style for the box shown on hovering the info icon */\n",
       ".sk-estimator-doc-link span {\n",
       "  display: none;\n",
       "  z-index: 9999;\n",
       "  position: relative;\n",
       "  font-weight: normal;\n",
       "  right: .2ex;\n",
       "  padding: .5ex;\n",
       "  margin: .5ex;\n",
       "  width: min-content;\n",
       "  min-width: 20ex;\n",
       "  max-width: 50ex;\n",
       "  color: var(--sklearn-color-text);\n",
       "  box-shadow: 2pt 2pt 4pt #999;\n",
       "  /* unfitted */\n",
       "  background: var(--sklearn-color-unfitted-level-0);\n",
       "  border: .5pt solid var(--sklearn-color-unfitted-level-3);\n",
       "}\n",
       "\n",
       ".sk-estimator-doc-link.fitted span {\n",
       "  /* fitted */\n",
       "  background: var(--sklearn-color-fitted-level-0);\n",
       "  border: var(--sklearn-color-fitted-level-3);\n",
       "}\n",
       "\n",
       ".sk-estimator-doc-link:hover span {\n",
       "  display: block;\n",
       "}\n",
       "\n",
       "/* \"?\"-specific style due to the `<a>` HTML tag */\n",
       "\n",
       "#sk-container-id-1 a.estimator_doc_link {\n",
       "  float: right;\n",
       "  font-size: 1rem;\n",
       "  line-height: 1em;\n",
       "  font-family: monospace;\n",
       "  background-color: var(--sklearn-color-background);\n",
       "  border-radius: 1rem;\n",
       "  height: 1rem;\n",
       "  width: 1rem;\n",
       "  text-decoration: none;\n",
       "  /* unfitted */\n",
       "  color: var(--sklearn-color-unfitted-level-1);\n",
       "  border: var(--sklearn-color-unfitted-level-1) 1pt solid;\n",
       "}\n",
       "\n",
       "#sk-container-id-1 a.estimator_doc_link.fitted {\n",
       "  /* fitted */\n",
       "  border: var(--sklearn-color-fitted-level-1) 1pt solid;\n",
       "  color: var(--sklearn-color-fitted-level-1);\n",
       "}\n",
       "\n",
       "/* On hover */\n",
       "#sk-container-id-1 a.estimator_doc_link:hover {\n",
       "  /* unfitted */\n",
       "  background-color: var(--sklearn-color-unfitted-level-3);\n",
       "  color: var(--sklearn-color-background);\n",
       "  text-decoration: none;\n",
       "}\n",
       "\n",
       "#sk-container-id-1 a.estimator_doc_link.fitted:hover {\n",
       "  /* fitted */\n",
       "  background-color: var(--sklearn-color-fitted-level-3);\n",
       "}\n",
       "</style><div id=\"sk-container-id-1\" class=\"sk-top-container\"><div class=\"sk-text-repr-fallback\"><pre>LGBMRegressor(colsample_bytree=0.7, enable_categorical=True, max_depth=10,\n",
       "              min_child_weight=5, n_estimators=300, num_leaves=50,\n",
       "              random_state=42, reg_alpha=0, reg_lambda=0, subsample=0.5,\n",
       "              verbose=-1)</pre><b>In a Jupyter environment, please rerun this cell to show the HTML representation or trust the notebook. <br />On GitHub, the HTML representation is unable to render, please try loading this page with nbviewer.org.</b></div><div class=\"sk-container\" hidden><div class=\"sk-item\"><div class=\"sk-estimator fitted sk-toggleable\"><input class=\"sk-toggleable__control sk-hidden--visually\" id=\"sk-estimator-id-1\" type=\"checkbox\" checked><label for=\"sk-estimator-id-1\" class=\"sk-toggleable__label fitted sk-toggleable__label-arrow fitted\">&nbsp;LGBMRegressor<span class=\"sk-estimator-doc-link fitted\">i<span>Fitted</span></span></label><div class=\"sk-toggleable__content fitted\"><pre>LGBMRegressor(colsample_bytree=0.7, enable_categorical=True, max_depth=10,\n",
       "              min_child_weight=5, n_estimators=300, num_leaves=50,\n",
       "              random_state=42, reg_alpha=0, reg_lambda=0, subsample=0.5,\n",
       "              verbose=-1)</pre></div> </div></div></div></div>"
      ],
      "text/plain": [
       "LGBMRegressor(colsample_bytree=0.7, enable_categorical=True, max_depth=10,\n",
       "              min_child_weight=5, n_estimators=300, num_leaves=50,\n",
       "              random_state=42, reg_alpha=0, reg_lambda=0, subsample=0.5,\n",
       "              verbose=-1)"
      ]
     },
     "execution_count": 10,
     "metadata": {},
     "output_type": "execute_result"
    }
   ],
   "source": [
    "# You can access to tuning model by using get_model_by_name() method\n",
    "\n",
    "my_tuned_lgb_model = reg_exp.get_model_by_name(\"LGBMRegressor_(randomized_search)_(n_iter=5)\")\n",
    "my_tuned_lgb_model"
   ]
  },
  {
   "cell_type": "markdown",
   "metadata": {},
   "source": [
    "## Prediction and Model Saving"
   ]
  },
  {
   "cell_type": "code",
   "execution_count": 11,
   "metadata": {},
   "outputs": [
    {
     "name": "stderr",
     "output_type": "stream",
     "text": [
      "INFO | 2025-04-06 14:10:20 | Training the model using the whole data\n"
     ]
    },
    {
     "data": {
      "text/plain": [
       "array([4.30071943, 3.85183199, 4.16394166, ..., 0.96663076, 0.89024036,\n",
       "       0.86868   ])"
      ]
     },
     "execution_count": 11,
     "metadata": {},
     "output_type": "execute_result"
    }
   ],
   "source": [
    "# Let's assume that you have a new data for prediction, for example the same data that you used for training.\n",
    "\n",
    "X = reg_exp.X\n",
    "\n",
    "preds = reg_exp.predict(X) # full_train (default=True) param enables you to train the model with the whole dataset and then predict, otherwise it uses the model that trained with the last X_train, y_train fold\n",
    "preds"
   ]
  },
  {
   "cell_type": "code",
   "execution_count": 12,
   "metadata": {},
   "outputs": [
    {
     "name": "stderr",
     "output_type": "stream",
     "text": [
      "INFO | 2025-04-06 14:10:21 | No save path provided. Using default: pipeline.pkl\n",
      "INFO | 2025-04-06 14:10:21 | Training the model using the whole data\n",
      "INFO | 2025-04-06 14:10:23 | Pipeline saved successfully at pipeline.pkl\n"
     ]
    },
    {
     "data": {
      "text/html": [
       "<style>#sk-container-id-2 {\n",
       "  /* Definition of color scheme common for light and dark mode */\n",
       "  --sklearn-color-text: black;\n",
       "  --sklearn-color-line: gray;\n",
       "  /* Definition of color scheme for unfitted estimators */\n",
       "  --sklearn-color-unfitted-level-0: #fff5e6;\n",
       "  --sklearn-color-unfitted-level-1: #f6e4d2;\n",
       "  --sklearn-color-unfitted-level-2: #ffe0b3;\n",
       "  --sklearn-color-unfitted-level-3: chocolate;\n",
       "  /* Definition of color scheme for fitted estimators */\n",
       "  --sklearn-color-fitted-level-0: #f0f8ff;\n",
       "  --sklearn-color-fitted-level-1: #d4ebff;\n",
       "  --sklearn-color-fitted-level-2: #b3dbfd;\n",
       "  --sklearn-color-fitted-level-3: cornflowerblue;\n",
       "\n",
       "  /* Specific color for light theme */\n",
       "  --sklearn-color-text-on-default-background: var(--sg-text-color, var(--theme-code-foreground, var(--jp-content-font-color1, black)));\n",
       "  --sklearn-color-background: var(--sg-background-color, var(--theme-background, var(--jp-layout-color0, white)));\n",
       "  --sklearn-color-border-box: var(--sg-text-color, var(--theme-code-foreground, var(--jp-content-font-color1, black)));\n",
       "  --sklearn-color-icon: #696969;\n",
       "\n",
       "  @media (prefers-color-scheme: dark) {\n",
       "    /* Redefinition of color scheme for dark theme */\n",
       "    --sklearn-color-text-on-default-background: var(--sg-text-color, var(--theme-code-foreground, var(--jp-content-font-color1, white)));\n",
       "    --sklearn-color-background: var(--sg-background-color, var(--theme-background, var(--jp-layout-color0, #111)));\n",
       "    --sklearn-color-border-box: var(--sg-text-color, var(--theme-code-foreground, var(--jp-content-font-color1, white)));\n",
       "    --sklearn-color-icon: #878787;\n",
       "  }\n",
       "}\n",
       "\n",
       "#sk-container-id-2 {\n",
       "  color: var(--sklearn-color-text);\n",
       "}\n",
       "\n",
       "#sk-container-id-2 pre {\n",
       "  padding: 0;\n",
       "}\n",
       "\n",
       "#sk-container-id-2 input.sk-hidden--visually {\n",
       "  border: 0;\n",
       "  clip: rect(1px 1px 1px 1px);\n",
       "  clip: rect(1px, 1px, 1px, 1px);\n",
       "  height: 1px;\n",
       "  margin: -1px;\n",
       "  overflow: hidden;\n",
       "  padding: 0;\n",
       "  position: absolute;\n",
       "  width: 1px;\n",
       "}\n",
       "\n",
       "#sk-container-id-2 div.sk-dashed-wrapped {\n",
       "  border: 1px dashed var(--sklearn-color-line);\n",
       "  margin: 0 0.4em 0.5em 0.4em;\n",
       "  box-sizing: border-box;\n",
       "  padding-bottom: 0.4em;\n",
       "  background-color: var(--sklearn-color-background);\n",
       "}\n",
       "\n",
       "#sk-container-id-2 div.sk-container {\n",
       "  /* jupyter's `normalize.less` sets `[hidden] { display: none; }`\n",
       "     but bootstrap.min.css set `[hidden] { display: none !important; }`\n",
       "     so we also need the `!important` here to be able to override the\n",
       "     default hidden behavior on the sphinx rendered scikit-learn.org.\n",
       "     See: https://github.com/scikit-learn/scikit-learn/issues/21755 */\n",
       "  display: inline-block !important;\n",
       "  position: relative;\n",
       "}\n",
       "\n",
       "#sk-container-id-2 div.sk-text-repr-fallback {\n",
       "  display: none;\n",
       "}\n",
       "\n",
       "div.sk-parallel-item,\n",
       "div.sk-serial,\n",
       "div.sk-item {\n",
       "  /* draw centered vertical line to link estimators */\n",
       "  background-image: linear-gradient(var(--sklearn-color-text-on-default-background), var(--sklearn-color-text-on-default-background));\n",
       "  background-size: 2px 100%;\n",
       "  background-repeat: no-repeat;\n",
       "  background-position: center center;\n",
       "}\n",
       "\n",
       "/* Parallel-specific style estimator block */\n",
       "\n",
       "#sk-container-id-2 div.sk-parallel-item::after {\n",
       "  content: \"\";\n",
       "  width: 100%;\n",
       "  border-bottom: 2px solid var(--sklearn-color-text-on-default-background);\n",
       "  flex-grow: 1;\n",
       "}\n",
       "\n",
       "#sk-container-id-2 div.sk-parallel {\n",
       "  display: flex;\n",
       "  align-items: stretch;\n",
       "  justify-content: center;\n",
       "  background-color: var(--sklearn-color-background);\n",
       "  position: relative;\n",
       "}\n",
       "\n",
       "#sk-container-id-2 div.sk-parallel-item {\n",
       "  display: flex;\n",
       "  flex-direction: column;\n",
       "}\n",
       "\n",
       "#sk-container-id-2 div.sk-parallel-item:first-child::after {\n",
       "  align-self: flex-end;\n",
       "  width: 50%;\n",
       "}\n",
       "\n",
       "#sk-container-id-2 div.sk-parallel-item:last-child::after {\n",
       "  align-self: flex-start;\n",
       "  width: 50%;\n",
       "}\n",
       "\n",
       "#sk-container-id-2 div.sk-parallel-item:only-child::after {\n",
       "  width: 0;\n",
       "}\n",
       "\n",
       "/* Serial-specific style estimator block */\n",
       "\n",
       "#sk-container-id-2 div.sk-serial {\n",
       "  display: flex;\n",
       "  flex-direction: column;\n",
       "  align-items: center;\n",
       "  background-color: var(--sklearn-color-background);\n",
       "  padding-right: 1em;\n",
       "  padding-left: 1em;\n",
       "}\n",
       "\n",
       "\n",
       "/* Toggleable style: style used for estimator/Pipeline/ColumnTransformer box that is\n",
       "clickable and can be expanded/collapsed.\n",
       "- Pipeline and ColumnTransformer use this feature and define the default style\n",
       "- Estimators will overwrite some part of the style using the `sk-estimator` class\n",
       "*/\n",
       "\n",
       "/* Pipeline and ColumnTransformer style (default) */\n",
       "\n",
       "#sk-container-id-2 div.sk-toggleable {\n",
       "  /* Default theme specific background. It is overwritten whether we have a\n",
       "  specific estimator or a Pipeline/ColumnTransformer */\n",
       "  background-color: var(--sklearn-color-background);\n",
       "}\n",
       "\n",
       "/* Toggleable label */\n",
       "#sk-container-id-2 label.sk-toggleable__label {\n",
       "  cursor: pointer;\n",
       "  display: block;\n",
       "  width: 100%;\n",
       "  margin-bottom: 0;\n",
       "  padding: 0.5em;\n",
       "  box-sizing: border-box;\n",
       "  text-align: center;\n",
       "}\n",
       "\n",
       "#sk-container-id-2 label.sk-toggleable__label-arrow:before {\n",
       "  /* Arrow on the left of the label */\n",
       "  content: \"▸\";\n",
       "  float: left;\n",
       "  margin-right: 0.25em;\n",
       "  color: var(--sklearn-color-icon);\n",
       "}\n",
       "\n",
       "#sk-container-id-2 label.sk-toggleable__label-arrow:hover:before {\n",
       "  color: var(--sklearn-color-text);\n",
       "}\n",
       "\n",
       "/* Toggleable content - dropdown */\n",
       "\n",
       "#sk-container-id-2 div.sk-toggleable__content {\n",
       "  max-height: 0;\n",
       "  max-width: 0;\n",
       "  overflow: hidden;\n",
       "  text-align: left;\n",
       "  /* unfitted */\n",
       "  background-color: var(--sklearn-color-unfitted-level-0);\n",
       "}\n",
       "\n",
       "#sk-container-id-2 div.sk-toggleable__content.fitted {\n",
       "  /* fitted */\n",
       "  background-color: var(--sklearn-color-fitted-level-0);\n",
       "}\n",
       "\n",
       "#sk-container-id-2 div.sk-toggleable__content pre {\n",
       "  margin: 0.2em;\n",
       "  border-radius: 0.25em;\n",
       "  color: var(--sklearn-color-text);\n",
       "  /* unfitted */\n",
       "  background-color: var(--sklearn-color-unfitted-level-0);\n",
       "}\n",
       "\n",
       "#sk-container-id-2 div.sk-toggleable__content.fitted pre {\n",
       "  /* unfitted */\n",
       "  background-color: var(--sklearn-color-fitted-level-0);\n",
       "}\n",
       "\n",
       "#sk-container-id-2 input.sk-toggleable__control:checked~div.sk-toggleable__content {\n",
       "  /* Expand drop-down */\n",
       "  max-height: 200px;\n",
       "  max-width: 100%;\n",
       "  overflow: auto;\n",
       "}\n",
       "\n",
       "#sk-container-id-2 input.sk-toggleable__control:checked~label.sk-toggleable__label-arrow:before {\n",
       "  content: \"▾\";\n",
       "}\n",
       "\n",
       "/* Pipeline/ColumnTransformer-specific style */\n",
       "\n",
       "#sk-container-id-2 div.sk-label input.sk-toggleable__control:checked~label.sk-toggleable__label {\n",
       "  color: var(--sklearn-color-text);\n",
       "  background-color: var(--sklearn-color-unfitted-level-2);\n",
       "}\n",
       "\n",
       "#sk-container-id-2 div.sk-label.fitted input.sk-toggleable__control:checked~label.sk-toggleable__label {\n",
       "  background-color: var(--sklearn-color-fitted-level-2);\n",
       "}\n",
       "\n",
       "/* Estimator-specific style */\n",
       "\n",
       "/* Colorize estimator box */\n",
       "#sk-container-id-2 div.sk-estimator input.sk-toggleable__control:checked~label.sk-toggleable__label {\n",
       "  /* unfitted */\n",
       "  background-color: var(--sklearn-color-unfitted-level-2);\n",
       "}\n",
       "\n",
       "#sk-container-id-2 div.sk-estimator.fitted input.sk-toggleable__control:checked~label.sk-toggleable__label {\n",
       "  /* fitted */\n",
       "  background-color: var(--sklearn-color-fitted-level-2);\n",
       "}\n",
       "\n",
       "#sk-container-id-2 div.sk-label label.sk-toggleable__label,\n",
       "#sk-container-id-2 div.sk-label label {\n",
       "  /* The background is the default theme color */\n",
       "  color: var(--sklearn-color-text-on-default-background);\n",
       "}\n",
       "\n",
       "/* On hover, darken the color of the background */\n",
       "#sk-container-id-2 div.sk-label:hover label.sk-toggleable__label {\n",
       "  color: var(--sklearn-color-text);\n",
       "  background-color: var(--sklearn-color-unfitted-level-2);\n",
       "}\n",
       "\n",
       "/* Label box, darken color on hover, fitted */\n",
       "#sk-container-id-2 div.sk-label.fitted:hover label.sk-toggleable__label.fitted {\n",
       "  color: var(--sklearn-color-text);\n",
       "  background-color: var(--sklearn-color-fitted-level-2);\n",
       "}\n",
       "\n",
       "/* Estimator label */\n",
       "\n",
       "#sk-container-id-2 div.sk-label label {\n",
       "  font-family: monospace;\n",
       "  font-weight: bold;\n",
       "  display: inline-block;\n",
       "  line-height: 1.2em;\n",
       "}\n",
       "\n",
       "#sk-container-id-2 div.sk-label-container {\n",
       "  text-align: center;\n",
       "}\n",
       "\n",
       "/* Estimator-specific */\n",
       "#sk-container-id-2 div.sk-estimator {\n",
       "  font-family: monospace;\n",
       "  border: 1px dotted var(--sklearn-color-border-box);\n",
       "  border-radius: 0.25em;\n",
       "  box-sizing: border-box;\n",
       "  margin-bottom: 0.5em;\n",
       "  /* unfitted */\n",
       "  background-color: var(--sklearn-color-unfitted-level-0);\n",
       "}\n",
       "\n",
       "#sk-container-id-2 div.sk-estimator.fitted {\n",
       "  /* fitted */\n",
       "  background-color: var(--sklearn-color-fitted-level-0);\n",
       "}\n",
       "\n",
       "/* on hover */\n",
       "#sk-container-id-2 div.sk-estimator:hover {\n",
       "  /* unfitted */\n",
       "  background-color: var(--sklearn-color-unfitted-level-2);\n",
       "}\n",
       "\n",
       "#sk-container-id-2 div.sk-estimator.fitted:hover {\n",
       "  /* fitted */\n",
       "  background-color: var(--sklearn-color-fitted-level-2);\n",
       "}\n",
       "\n",
       "/* Specification for estimator info (e.g. \"i\" and \"?\") */\n",
       "\n",
       "/* Common style for \"i\" and \"?\" */\n",
       "\n",
       ".sk-estimator-doc-link,\n",
       "a:link.sk-estimator-doc-link,\n",
       "a:visited.sk-estimator-doc-link {\n",
       "  float: right;\n",
       "  font-size: smaller;\n",
       "  line-height: 1em;\n",
       "  font-family: monospace;\n",
       "  background-color: var(--sklearn-color-background);\n",
       "  border-radius: 1em;\n",
       "  height: 1em;\n",
       "  width: 1em;\n",
       "  text-decoration: none !important;\n",
       "  margin-left: 1ex;\n",
       "  /* unfitted */\n",
       "  border: var(--sklearn-color-unfitted-level-1) 1pt solid;\n",
       "  color: var(--sklearn-color-unfitted-level-1);\n",
       "}\n",
       "\n",
       ".sk-estimator-doc-link.fitted,\n",
       "a:link.sk-estimator-doc-link.fitted,\n",
       "a:visited.sk-estimator-doc-link.fitted {\n",
       "  /* fitted */\n",
       "  border: var(--sklearn-color-fitted-level-1) 1pt solid;\n",
       "  color: var(--sklearn-color-fitted-level-1);\n",
       "}\n",
       "\n",
       "/* On hover */\n",
       "div.sk-estimator:hover .sk-estimator-doc-link:hover,\n",
       ".sk-estimator-doc-link:hover,\n",
       "div.sk-label-container:hover .sk-estimator-doc-link:hover,\n",
       ".sk-estimator-doc-link:hover {\n",
       "  /* unfitted */\n",
       "  background-color: var(--sklearn-color-unfitted-level-3);\n",
       "  color: var(--sklearn-color-background);\n",
       "  text-decoration: none;\n",
       "}\n",
       "\n",
       "div.sk-estimator.fitted:hover .sk-estimator-doc-link.fitted:hover,\n",
       ".sk-estimator-doc-link.fitted:hover,\n",
       "div.sk-label-container:hover .sk-estimator-doc-link.fitted:hover,\n",
       ".sk-estimator-doc-link.fitted:hover {\n",
       "  /* fitted */\n",
       "  background-color: var(--sklearn-color-fitted-level-3);\n",
       "  color: var(--sklearn-color-background);\n",
       "  text-decoration: none;\n",
       "}\n",
       "\n",
       "/* Span, style for the box shown on hovering the info icon */\n",
       ".sk-estimator-doc-link span {\n",
       "  display: none;\n",
       "  z-index: 9999;\n",
       "  position: relative;\n",
       "  font-weight: normal;\n",
       "  right: .2ex;\n",
       "  padding: .5ex;\n",
       "  margin: .5ex;\n",
       "  width: min-content;\n",
       "  min-width: 20ex;\n",
       "  max-width: 50ex;\n",
       "  color: var(--sklearn-color-text);\n",
       "  box-shadow: 2pt 2pt 4pt #999;\n",
       "  /* unfitted */\n",
       "  background: var(--sklearn-color-unfitted-level-0);\n",
       "  border: .5pt solid var(--sklearn-color-unfitted-level-3);\n",
       "}\n",
       "\n",
       ".sk-estimator-doc-link.fitted span {\n",
       "  /* fitted */\n",
       "  background: var(--sklearn-color-fitted-level-0);\n",
       "  border: var(--sklearn-color-fitted-level-3);\n",
       "}\n",
       "\n",
       ".sk-estimator-doc-link:hover span {\n",
       "  display: block;\n",
       "}\n",
       "\n",
       "/* \"?\"-specific style due to the `<a>` HTML tag */\n",
       "\n",
       "#sk-container-id-2 a.estimator_doc_link {\n",
       "  float: right;\n",
       "  font-size: 1rem;\n",
       "  line-height: 1em;\n",
       "  font-family: monospace;\n",
       "  background-color: var(--sklearn-color-background);\n",
       "  border-radius: 1rem;\n",
       "  height: 1rem;\n",
       "  width: 1rem;\n",
       "  text-decoration: none;\n",
       "  /* unfitted */\n",
       "  color: var(--sklearn-color-unfitted-level-1);\n",
       "  border: var(--sklearn-color-unfitted-level-1) 1pt solid;\n",
       "}\n",
       "\n",
       "#sk-container-id-2 a.estimator_doc_link.fitted {\n",
       "  /* fitted */\n",
       "  border: var(--sklearn-color-fitted-level-1) 1pt solid;\n",
       "  color: var(--sklearn-color-fitted-level-1);\n",
       "}\n",
       "\n",
       "/* On hover */\n",
       "#sk-container-id-2 a.estimator_doc_link:hover {\n",
       "  /* unfitted */\n",
       "  background-color: var(--sklearn-color-unfitted-level-3);\n",
       "  color: var(--sklearn-color-background);\n",
       "  text-decoration: none;\n",
       "}\n",
       "\n",
       "#sk-container-id-2 a.estimator_doc_link.fitted:hover {\n",
       "  /* fitted */\n",
       "  background-color: var(--sklearn-color-fitted-level-3);\n",
       "}\n",
       "</style><div id=\"sk-container-id-2\" class=\"sk-top-container\"><div class=\"sk-text-repr-fallback\"><pre>Pipeline(steps=[(&#x27;imputer&#x27;,\n",
       "                 ColumnImputer(column_imputation_mapper={&#x27;AveBedrms&#x27;: &#x27;mean&#x27;,\n",
       "                                                         &#x27;AveOccup&#x27;: &#x27;mean&#x27;,\n",
       "                                                         &#x27;AveRooms&#x27;: &#x27;mean&#x27;,\n",
       "                                                         &#x27;HouseAge&#x27;: &#x27;mean&#x27;,\n",
       "                                                         &#x27;Latitude&#x27;: &#x27;mean&#x27;,\n",
       "                                                         &#x27;Longitude&#x27;: &#x27;mean&#x27;,\n",
       "                                                         &#x27;MedInc&#x27;: &#x27;mean&#x27;,\n",
       "                                                         &#x27;Population&#x27;: &#x27;mean&#x27;})),\n",
       "                (&#x27;encoder&#x27;,\n",
       "                 CategoricalEncoder(encoding_method_mapper={}, ordinal_map={})),\n",
       "                (&#x27;model&#x27;,\n",
       "                 LGBMRegressor(colsample_bytree=0.7, enable_categorical=True,\n",
       "                               max_depth=10, min_child_weight=5,\n",
       "                               n_estimators=300, num_leaves=50, random_state=42,\n",
       "                               reg_alpha=0, reg_lambda=0, subsample=0.5,\n",
       "                               verbose=-1))])</pre><b>In a Jupyter environment, please rerun this cell to show the HTML representation or trust the notebook. <br />On GitHub, the HTML representation is unable to render, please try loading this page with nbviewer.org.</b></div><div class=\"sk-container\" hidden><div class=\"sk-item sk-dashed-wrapped\"><div class=\"sk-label-container\"><div class=\"sk-label fitted sk-toggleable\"><input class=\"sk-toggleable__control sk-hidden--visually\" id=\"sk-estimator-id-2\" type=\"checkbox\" ><label for=\"sk-estimator-id-2\" class=\"sk-toggleable__label fitted sk-toggleable__label-arrow fitted\">&nbsp;&nbsp;Pipeline<a class=\"sk-estimator-doc-link fitted\" rel=\"noreferrer\" target=\"_blank\" href=\"https://scikit-learn.org/1.5/modules/generated/sklearn.pipeline.Pipeline.html\">?<span>Documentation for Pipeline</span></a><span class=\"sk-estimator-doc-link fitted\">i<span>Fitted</span></span></label><div class=\"sk-toggleable__content fitted\"><pre>Pipeline(steps=[(&#x27;imputer&#x27;,\n",
       "                 ColumnImputer(column_imputation_mapper={&#x27;AveBedrms&#x27;: &#x27;mean&#x27;,\n",
       "                                                         &#x27;AveOccup&#x27;: &#x27;mean&#x27;,\n",
       "                                                         &#x27;AveRooms&#x27;: &#x27;mean&#x27;,\n",
       "                                                         &#x27;HouseAge&#x27;: &#x27;mean&#x27;,\n",
       "                                                         &#x27;Latitude&#x27;: &#x27;mean&#x27;,\n",
       "                                                         &#x27;Longitude&#x27;: &#x27;mean&#x27;,\n",
       "                                                         &#x27;MedInc&#x27;: &#x27;mean&#x27;,\n",
       "                                                         &#x27;Population&#x27;: &#x27;mean&#x27;})),\n",
       "                (&#x27;encoder&#x27;,\n",
       "                 CategoricalEncoder(encoding_method_mapper={}, ordinal_map={})),\n",
       "                (&#x27;model&#x27;,\n",
       "                 LGBMRegressor(colsample_bytree=0.7, enable_categorical=True,\n",
       "                               max_depth=10, min_child_weight=5,\n",
       "                               n_estimators=300, num_leaves=50, random_state=42,\n",
       "                               reg_alpha=0, reg_lambda=0, subsample=0.5,\n",
       "                               verbose=-1))])</pre></div> </div></div><div class=\"sk-serial\"><div class=\"sk-item\"><div class=\"sk-estimator fitted sk-toggleable\"><input class=\"sk-toggleable__control sk-hidden--visually\" id=\"sk-estimator-id-3\" type=\"checkbox\" ><label for=\"sk-estimator-id-3\" class=\"sk-toggleable__label fitted sk-toggleable__label-arrow fitted\">ColumnImputer</label><div class=\"sk-toggleable__content fitted\"><pre>ColumnImputer(column_imputation_mapper={&#x27;AveBedrms&#x27;: &#x27;mean&#x27;, &#x27;AveOccup&#x27;: &#x27;mean&#x27;,\n",
       "                                        &#x27;AveRooms&#x27;: &#x27;mean&#x27;, &#x27;HouseAge&#x27;: &#x27;mean&#x27;,\n",
       "                                        &#x27;Latitude&#x27;: &#x27;mean&#x27;, &#x27;Longitude&#x27;: &#x27;mean&#x27;,\n",
       "                                        &#x27;MedInc&#x27;: &#x27;mean&#x27;,\n",
       "                                        &#x27;Population&#x27;: &#x27;mean&#x27;})</pre></div> </div></div><div class=\"sk-item\"><div class=\"sk-estimator fitted sk-toggleable\"><input class=\"sk-toggleable__control sk-hidden--visually\" id=\"sk-estimator-id-4\" type=\"checkbox\" ><label for=\"sk-estimator-id-4\" class=\"sk-toggleable__label fitted sk-toggleable__label-arrow fitted\">CategoricalEncoder</label><div class=\"sk-toggleable__content fitted\"><pre>CategoricalEncoder(encoding_method_mapper={}, ordinal_map={})</pre></div> </div></div><div class=\"sk-item\"><div class=\"sk-estimator fitted sk-toggleable\"><input class=\"sk-toggleable__control sk-hidden--visually\" id=\"sk-estimator-id-5\" type=\"checkbox\" ><label for=\"sk-estimator-id-5\" class=\"sk-toggleable__label fitted sk-toggleable__label-arrow fitted\">LGBMRegressor</label><div class=\"sk-toggleable__content fitted\"><pre>LGBMRegressor(colsample_bytree=0.7, enable_categorical=True, max_depth=10,\n",
       "              min_child_weight=5, n_estimators=300, num_leaves=50,\n",
       "              random_state=42, reg_alpha=0, reg_lambda=0, subsample=0.5,\n",
       "              verbose=-1)</pre></div> </div></div></div></div></div></div>"
      ],
      "text/plain": [
       "Pipeline(steps=[('imputer',\n",
       "                 ColumnImputer(column_imputation_mapper={'AveBedrms': 'mean',\n",
       "                                                         'AveOccup': 'mean',\n",
       "                                                         'AveRooms': 'mean',\n",
       "                                                         'HouseAge': 'mean',\n",
       "                                                         'Latitude': 'mean',\n",
       "                                                         'Longitude': 'mean',\n",
       "                                                         'MedInc': 'mean',\n",
       "                                                         'Population': 'mean'})),\n",
       "                ('encoder',\n",
       "                 CategoricalEncoder(encoding_method_mapper={}, ordinal_map={})),\n",
       "                ('model',\n",
       "                 LGBMRegressor(colsample_bytree=0.7, enable_categorical=True,\n",
       "                               max_depth=10, min_child_weight=5,\n",
       "                               n_estimators=300, num_leaves=50, random_state=42,\n",
       "                               reg_alpha=0, reg_lambda=0, subsample=0.5,\n",
       "                               verbose=-1))])"
      ]
     },
     "execution_count": 12,
     "metadata": {},
     "output_type": "execute_result"
    }
   ],
   "source": [
    "reg_exp.save_model(my_tuned_lgb_model) # Saves the model with the feature engineering pipeline, you can set model_only to True If you want to save only the model"
   ]
  }
 ],
 "metadata": {
  "kernelspec": {
   "display_name": ".venv",
   "language": "python",
   "name": "python3"
  },
  "language_info": {
   "codemirror_mode": {
    "name": "ipython",
    "version": 3
   },
   "file_extension": ".py",
   "mimetype": "text/x-python",
   "name": "python",
   "nbconvert_exporter": "python",
   "pygments_lexer": "ipython3",
   "version": "3.11.9"
  }
 },
 "nbformat": 4,
 "nbformat_minor": 2
}
